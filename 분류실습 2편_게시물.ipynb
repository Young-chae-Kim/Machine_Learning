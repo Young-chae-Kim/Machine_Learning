{
 "cells": [
  {
   "cell_type": "markdown",
   "metadata": {},
   "source": [
    "# 📌 분류 실습 2편"
   ]
  },
  {
   "cell_type": "markdown",
   "metadata": {},
   "source": [
    "## 1. 기본 설정 ❗"
   ]
  },
  {
   "cell_type": "markdown",
   "metadata": {},
   "source": [
    "#### --분석에 필요한 기본 모듈--"
   ]
  },
  {
   "cell_type": "code",
   "execution_count": 286,
   "metadata": {},
   "outputs": [],
   "source": [
    "import warnings\n",
    "warnings.filterwarnings('ignore')\n",
    "import numpy as np\n",
    "import pandas as pd   \n",
    "import sklearn\n",
    "import time\n",
    "import matplotlib.pyplot as plt\n",
    "import seaborn as sns\n",
    "import itertools\n",
    "from matplotlib.ticker import MaxNLocator\n",
    "from collections import Counter\n",
    "%matplotlib inline\n",
    "plt.style.use('fivethirtyeight')"
   ]
  },
  {
   "cell_type": "markdown",
   "metadata": {},
   "source": [
    "#### --분석에 필요한 알고리즘 모델--"
   ]
  },
  {
   "cell_type": "code",
   "execution_count": 287,
   "metadata": {},
   "outputs": [],
   "source": [
    "from sklearn.model_selection import train_test_split\n",
    "from sklearn.metrics import accuracy_score, confusion_matrix, log_loss, roc_auc_score\n",
    "from sklearn import preprocessing\n",
    "label_encoder = preprocessing.LabelEncoder()\n",
    "from xgboost import plot_importance\n",
    "\n",
    "from sklearn.model_selection import GridSearchCV\n",
    "from sklearn.model_selection import KFold\n",
    "\n",
    "from sklearn.tree import DecisionTreeClassifier\n",
    "from sklearn.ensemble import RandomForestClassifier\n",
    "from sklearn.ensemble import GradientBoostingClassifier\n",
    "from xgboost import XGBClassifier\n",
    "from lightgbm import LGBMClassifier\n",
    "from catboost import CatBoostClassifier"
   ]
  },
  {
   "cell_type": "markdown",
   "metadata": {},
   "source": [
    "#### --분석에 필요한 폰트--"
   ]
  },
  {
   "cell_type": "code",
   "execution_count": 220,
   "metadata": {},
   "outputs": [
    {
     "name": "stdout",
     "output_type": "stream",
     "text": [
      "NanumGothic = C:\\WINDOWS\\Fonts\\EXTRABOLD.TTF\n",
      "NanumBarunGothic = C:\\Windows\\Fonts\\NanumBarunGothicBold.ttf\n",
      "NanumBarunGothic = C:\\Windows\\Fonts\\NanumBarunGothicUltraLight.ttf\n",
      "NanumBarunGothic = C:\\Windows\\Fonts\\NanumBarunGothicLight.ttf\n",
      "NanumBarunGothic = C:\\WINDOWS\\Fonts\\NanumBarunGothicUltraLight.ttf\n",
      "NanumGothic = C:\\Windows\\Fonts\\BOLD.TTF\n",
      "NanumBarunGothic = C:\\WINDOWS\\Fonts\\NanumBarunGothicBold.ttf\n",
      "NanumGothic = C:\\WINDOWS\\Fonts\\BOLD.TTF\n",
      "NanumBarunGothic = C:\\Windows\\Fonts\\NanumBarunGothic.ttf\n",
      "NanumGothic = C:\\Windows\\Fonts\\.TTF\n",
      "NanumGothic = C:\\Windows\\Fonts\\EXTRABOLD.TTF\n",
      "NanumBarunGothic = C:\\WINDOWS\\Fonts\\NanumBarunGothicLight.ttf\n",
      "NanumBarunGothic = C:\\WINDOWS\\Fonts\\NanumBarunGothic.ttf\n",
      "NanumGothic = C:\\WINDOWS\\Fonts\\.TTF\n"
     ]
    }
   ],
   "source": [
    "import matplotlib.font_manager as fm\n",
    "fm._rebuild()\n",
    "plt.rc('font', family='NanumGothic')\n",
    "\n",
    "for fontInfo in fm.fontManager.ttflist:\n",
    "    if 'Nanum' in fontInfo.name:\n",
    "        print(fontInfo.name+\" = \"+fontInfo.fname)"
   ]
  },
  {
   "cell_type": "markdown",
   "metadata": {},
   "source": [
    "## 2. 데이터 불러오기 📂"
   ]
  },
  {
   "cell_type": "code",
   "execution_count": 221,
   "metadata": {},
   "outputs": [],
   "source": [
    "train = pd.read_csv('creditcard_data/open/train.csv', encoding = 'CP949')\n",
    "test = pd.read_csv('creditcard_data/open/test.csv', encoding = 'CP949')"
   ]
  },
  {
   "cell_type": "markdown",
   "metadata": {},
   "source": [
    "### *모델 학습에 필요한 필수 전처리"
   ]
  },
  {
   "cell_type": "markdown",
   "metadata": {},
   "source": [
    "#### 1) gender변수 F,M -> 0,1로 바꿔주기"
   ]
  },
  {
   "cell_type": "code",
   "execution_count": 222,
   "metadata": {},
   "outputs": [],
   "source": [
    "train['gender'] = train['gender'].replace(['F','M'], [0,  1])\n",
    "test['gender'] = test['gender'].replace(['F','M'], [0,  1])"
   ]
  },
  {
   "cell_type": "markdown",
   "metadata": {},
   "source": [
    "#### 2) car변수 N,Y -> 0,1로 바꿔주기"
   ]
  },
  {
   "cell_type": "code",
   "execution_count": 223,
   "metadata": {},
   "outputs": [],
   "source": [
    "train['car'] = train['car'].replace(['N', 'Y'], [0, 1])\n",
    "test['car'] = test['car'].replace(['N', 'Y'], [0, 1])"
   ]
  },
  {
   "cell_type": "markdown",
   "metadata": {},
   "source": [
    "#### 3) reality변수 N,Y -> 0,1로 바꿔주기"
   ]
  },
  {
   "cell_type": "code",
   "execution_count": 224,
   "metadata": {},
   "outputs": [],
   "source": [
    "train['reality'] = train['reality'].replace(['N', 'Y'], [0, 1])\n",
    "test['reality'] = test['reality'].replace(['N', 'Y'], [0, 1])"
   ]
  },
  {
   "cell_type": "markdown",
   "metadata": {},
   "source": [
    "#### 4) income_type 변수 0,1,2,3,4로 인코딩하기"
   ]
  },
  {
   "cell_type": "code",
   "execution_count": 225,
   "metadata": {},
   "outputs": [],
   "source": [
    "train['income_type'] = label_encoder.fit_transform(train['income_type'])\n",
    "test['income_type'] = label_encoder.transform(test['income_type'])"
   ]
  },
  {
   "cell_type": "markdown",
   "metadata": {},
   "source": [
    "#### 5) edu_type변수 0,1,2,3,4로 인코딩하기"
   ]
  },
  {
   "cell_type": "code",
   "execution_count": 226,
   "metadata": {},
   "outputs": [],
   "source": [
    "train['edu_type'] = label_encoder.fit_transform(train['edu_type'])\n",
    "test['edu_type'] = label_encoder.transform(test['edu_type'])"
   ]
  },
  {
   "cell_type": "markdown",
   "metadata": {},
   "source": [
    "#### 6) family_type변수 0,1,2,3,4로 인코딩하기"
   ]
  },
  {
   "cell_type": "code",
   "execution_count": 227,
   "metadata": {},
   "outputs": [],
   "source": [
    "train['family_type'] = label_encoder.fit_transform(train['family_type'])\n",
    "test['family_type'] = label_encoder.transform(test['family_type'])"
   ]
  },
  {
   "cell_type": "markdown",
   "metadata": {},
   "source": [
    "#### 7) house_type변수 0,1,2,3,4,5로 인코딩하기"
   ]
  },
  {
   "cell_type": "code",
   "execution_count": 228,
   "metadata": {},
   "outputs": [],
   "source": [
    "train['house_type'] = label_encoder.fit_transform(train['house_type'])\n",
    "test['house_type'] = label_encoder.transform(test['house_type'])"
   ]
  },
  {
   "cell_type": "markdown",
   "metadata": {},
   "source": [
    "## 3. 전처리"
   ]
  },
  {
   "cell_type": "markdown",
   "metadata": {},
   "source": [
    "#### 1) DAYS_EMPLOYED변수 양수(일을 한 적 없음)는 0으로 변경"
   ]
  },
  {
   "cell_type": "code",
   "execution_count": 229,
   "metadata": {},
   "outputs": [],
   "source": [
    "train.loc[train['DAYS_EMPLOYED'] > 0, 'DAYS_EMPLOYED'] = 0\n",
    "test.loc[test['DAYS_EMPLOYED'] > 0, 'DAYS_EMPLOYED'] = 0"
   ]
  },
  {
   "cell_type": "markdown",
   "metadata": {},
   "source": [
    "#### 2) DAYS_EMPLOYE변수 음수를 양수로 변경"
   ]
  },
  {
   "cell_type": "code",
   "execution_count": 230,
   "metadata": {},
   "outputs": [],
   "source": [
    "train['DAYS_EMPLOYED']=-train['DAYS_EMPLOYED']\n",
    "test['DAYS_EMPLOYED']=-test['DAYS_EMPLOYED']"
   ]
  },
  {
   "cell_type": "markdown",
   "metadata": {},
   "source": [
    "#### 3) DAYS_EMPLOYED변수 년으로 단위 변경한 변수 생성"
   ]
  },
  {
   "cell_type": "code",
   "execution_count": 231,
   "metadata": {},
   "outputs": [],
   "source": [
    "train['Year_EMPLOYED']=(train['DAYS_EMPLOYED']/365)\n",
    "test['Year_EMPLOYED']=(test['DAYS_EMPLOYED']/365)"
   ]
  },
  {
   "cell_type": "markdown",
   "metadata": {},
   "source": [
    "#### 4) DAYS_EMPLOYED변수 월로 단위 변경한 변수 생성"
   ]
  },
  {
   "cell_type": "code",
   "execution_count": 232,
   "metadata": {},
   "outputs": [],
   "source": [
    "train['Month_EMPLOYED']=(train['DAYS_EMPLOYED']/30)\n",
    "test['Month_EMPLOYED']=(test['DAYS_EMPLOYED']/30)"
   ]
  },
  {
   "cell_type": "markdown",
   "metadata": {},
   "source": [
    "#### 5) DAYS_BIRTH변수 음수를 양수로 변경"
   ]
  },
  {
   "cell_type": "code",
   "execution_count": 233,
   "metadata": {},
   "outputs": [],
   "source": [
    "train['DAYS_BIRTH']=-train['DAYS_BIRTH']\n",
    "test['DAYS_BIRTH']=-test['DAYS_BIRTH']"
   ]
  },
  {
   "cell_type": "markdown",
   "metadata": {},
   "source": [
    "#### 6) DAYS_BIRTH변수 이용해서 나이 변수 생성"
   ]
  },
  {
   "cell_type": "code",
   "execution_count": 234,
   "metadata": {},
   "outputs": [],
   "source": [
    "train['age'] = (train['DAYS_BIRTH']/365)\n",
    "train = train.astype({'age': 'int'})\n",
    "test['age'] = (test['DAYS_BIRTH']/365)\n",
    "test = test.astype({'age': 'int'})"
   ]
  },
  {
   "cell_type": "markdown",
   "metadata": {},
   "source": [
    "#### 7) begin_month변수 음수를 양수로 변경"
   ]
  },
  {
   "cell_type": "code",
   "execution_count": 235,
   "metadata": {},
   "outputs": [],
   "source": [
    "train['begin_month']=-train['begin_month']\n",
    "test['begin_month']=-test['begin_month']"
   ]
  },
  {
   "cell_type": "markdown",
   "metadata": {},
   "source": [
    "#### 8) FLAG_MOBIL변수 모든 행 값이 1이므로 불필요한 변수로 판단 변수 제거"
   ]
  },
  {
   "cell_type": "code",
   "execution_count": 236,
   "metadata": {},
   "outputs": [],
   "source": [
    "train = train.drop(\"FLAG_MOBIL\", axis = 1)\n",
    "test =  test.drop(\"FLAG_MOBIL\", axis = 1)"
   ]
  },
  {
   "cell_type": "markdown",
   "metadata": {},
   "source": [
    "#### 9) family_size변수보다 child_num변수가 더 큰 오류 행 삭제"
   ]
  },
  {
   "cell_type": "code",
   "execution_count": 237,
   "metadata": {},
   "outputs": [],
   "source": [
    "error = train[train['family_size'] < train['child_num']]"
   ]
  },
  {
   "cell_type": "code",
   "execution_count": 238,
   "metadata": {},
   "outputs": [
    {
     "data": {
      "text/html": [
       "<div>\n",
       "<style scoped>\n",
       "    .dataframe tbody tr th:only-of-type {\n",
       "        vertical-align: middle;\n",
       "    }\n",
       "\n",
       "    .dataframe tbody tr th {\n",
       "        vertical-align: top;\n",
       "    }\n",
       "\n",
       "    .dataframe thead th {\n",
       "        text-align: right;\n",
       "    }\n",
       "</style>\n",
       "<table border=\"1\" class=\"dataframe\">\n",
       "  <thead>\n",
       "    <tr style=\"text-align: right;\">\n",
       "      <th></th>\n",
       "      <th>index</th>\n",
       "      <th>gender</th>\n",
       "      <th>car</th>\n",
       "      <th>reality</th>\n",
       "      <th>child_num</th>\n",
       "      <th>income_total</th>\n",
       "      <th>income_type</th>\n",
       "      <th>edu_type</th>\n",
       "      <th>family_type</th>\n",
       "      <th>house_type</th>\n",
       "      <th>...</th>\n",
       "      <th>work_phone</th>\n",
       "      <th>phone</th>\n",
       "      <th>email</th>\n",
       "      <th>occyp_type</th>\n",
       "      <th>family_size</th>\n",
       "      <th>begin_month</th>\n",
       "      <th>credit</th>\n",
       "      <th>Year_EMPLOYED</th>\n",
       "      <th>Month_EMPLOYED</th>\n",
       "      <th>age</th>\n",
       "    </tr>\n",
       "  </thead>\n",
       "  <tbody>\n",
       "    <tr>\n",
       "      <th>14900</th>\n",
       "      <td>14900</td>\n",
       "      <td>1</td>\n",
       "      <td>1</td>\n",
       "      <td>0</td>\n",
       "      <td>2</td>\n",
       "      <td>225000.0</td>\n",
       "      <td>4</td>\n",
       "      <td>4</td>\n",
       "      <td>1</td>\n",
       "      <td>1</td>\n",
       "      <td>...</td>\n",
       "      <td>0</td>\n",
       "      <td>0</td>\n",
       "      <td>0</td>\n",
       "      <td>Drivers</td>\n",
       "      <td>1.0</td>\n",
       "      <td>30.0</td>\n",
       "      <td>2.0</td>\n",
       "      <td>6.060274</td>\n",
       "      <td>73.733333</td>\n",
       "      <td>40</td>\n",
       "    </tr>\n",
       "  </tbody>\n",
       "</table>\n",
       "<p>1 rows × 22 columns</p>\n",
       "</div>"
      ],
      "text/plain": [
       "       index  gender  car  reality  child_num  income_total  income_type  \\\n",
       "14900  14900       1    1        0          2      225000.0            4   \n",
       "\n",
       "       edu_type  family_type  house_type  ...  work_phone  phone  email  \\\n",
       "14900         4            1           1  ...           0      0      0   \n",
       "\n",
       "       occyp_type  family_size begin_month  credit  Year_EMPLOYED  \\\n",
       "14900     Drivers          1.0        30.0     2.0       6.060274   \n",
       "\n",
       "       Month_EMPLOYED  age  \n",
       "14900       73.733333   40  \n",
       "\n",
       "[1 rows x 22 columns]"
      ]
     },
     "execution_count": 238,
     "metadata": {},
     "output_type": "execute_result"
    }
   ],
   "source": [
    "error"
   ]
  },
  {
   "cell_type": "code",
   "execution_count": 239,
   "metadata": {},
   "outputs": [],
   "source": [
    "train = train.drop([14900])"
   ]
  },
  {
   "cell_type": "markdown",
   "metadata": {},
   "source": [
    "#### 10) occpy_type변수결측치가 8171개 존재하므로 변수 삭제"
   ]
  },
  {
   "cell_type": "code",
   "execution_count": 240,
   "metadata": {},
   "outputs": [],
   "source": [
    "train = train.drop(\"occyp_type\", axis = 1)\n",
    "test =  test.drop(\"occyp_type\", axis = 1)"
   ]
  },
  {
   "cell_type": "markdown",
   "metadata": {},
   "source": [
    "#### 11) index 변수 삭제"
   ]
  },
  {
   "cell_type": "code",
   "execution_count": 241,
   "metadata": {},
   "outputs": [],
   "source": [
    "train = train.drop(\"index\", axis=1)\n",
    "test = test.drop(\"index\", axis=1)"
   ]
  },
  {
   "cell_type": "markdown",
   "metadata": {},
   "source": [
    "### * 데이터 분할"
   ]
  },
  {
   "cell_type": "code",
   "execution_count": 242,
   "metadata": {},
   "outputs": [],
   "source": [
    "S_train = sklearn.utils.shuffle(train, random_state=0)"
   ]
  },
  {
   "cell_type": "code",
   "execution_count": 243,
   "metadata": {},
   "outputs": [],
   "source": [
    "train_x = S_train.drop(\"credit\", axis = 1)\n",
    "train_y = S_train['credit']\n",
    "test_x = test"
   ]
  },
  {
   "cell_type": "code",
   "execution_count": 244,
   "metadata": {},
   "outputs": [],
   "source": [
    "X_train, X_test, y_train, y_test=train_test_split(train_x, train_y,\n",
    "                                                  test_size=0.2, random_state=0)"
   ]
  },
  {
   "cell_type": "code",
   "execution_count": 245,
   "metadata": {},
   "outputs": [
    {
     "name": "stdout",
     "output_type": "stream",
     "text": [
      "(21164, 19)\n",
      "(21164,)\n",
      "(5292, 19)\n",
      "(5292,)\n"
     ]
    }
   ],
   "source": [
    "print(X_train.shape)\n",
    "print(y_train.shape)\n",
    "print(X_test.shape)\n",
    "print(y_test.shape)"
   ]
  },
  {
   "cell_type": "markdown",
   "metadata": {},
   "source": [
    "## 4. Decision Tree(결정트리)"
   ]
  },
  {
   "cell_type": "code",
   "execution_count": 246,
   "metadata": {},
   "outputs": [],
   "source": [
    "start_time=time.time()"
   ]
  },
  {
   "cell_type": "code",
   "execution_count": 247,
   "metadata": {},
   "outputs": [],
   "source": [
    "dt_clf = DecisionTreeClassifier(random_state=1)\n",
    "dt_clf.fit(X_train, y_train)\n",
    "\n",
    "dt_pred = dt_clf.predict(test_x)"
   ]
  },
  {
   "cell_type": "code",
   "execution_count": 248,
   "metadata": {},
   "outputs": [
    {
     "name": "stdout",
     "output_type": "stream",
     "text": [
      "0.25346875190734863\n"
     ]
    }
   ],
   "source": [
    "print(time.time()-start_time)"
   ]
  },
  {
   "cell_type": "code",
   "execution_count": 249,
   "metadata": {},
   "outputs": [
    {
     "name": "stdout",
     "output_type": "stream",
     "text": [
      "{'max_depth': 2, 'max_leaf_nodes': 2, 'min_samples_leaf': 2, 'min_samples_split': 2}\n",
      "0.6922132318889702\n"
     ]
    }
   ],
   "source": [
    "cv_method = KFold(n_splits=5)\n",
    "params = {\n",
    "    'max_depth':[2,3],\n",
    "    'min_samples_leaf':[2],\n",
    "    'min_samples_split':[2,4,6],\n",
    "    'max_leaf_nodes':[2]\n",
    "}\n",
    "dt_grid_cv = GridSearchCV(dt_clf, param_grid=params, scoring='accuracy', cv=cv_method, n_jobs=-1)\n",
    "dt_grid_cv.fit(X_train, y_train)\n",
    "\n",
    "print(dt_grid_cv.best_params_)\n",
    "print(dt_grid_cv.best_score_)"
   ]
  },
  {
   "cell_type": "markdown",
   "metadata": {},
   "source": [
    "## 5. Random Forest(랜덤 포레스트)"
   ]
  },
  {
   "cell_type": "code",
   "execution_count": 253,
   "metadata": {},
   "outputs": [],
   "source": [
    "start_time=time.time()"
   ]
  },
  {
   "cell_type": "code",
   "execution_count": 254,
   "metadata": {},
   "outputs": [],
   "source": [
    "rf_clf = RandomForestClassifier(random_state=0)\n",
    "rf_clf.fit(X_train, y_train)\n",
    "\n",
    "rf_pred=rf_clf.predict(test_x)"
   ]
  },
  {
   "cell_type": "code",
   "execution_count": 255,
   "metadata": {},
   "outputs": [
    {
     "name": "stdout",
     "output_type": "stream",
     "text": [
      "3.8084943294525146\n"
     ]
    }
   ],
   "source": [
    "print(time.time()-start_time)"
   ]
  },
  {
   "cell_type": "code",
   "execution_count": 256,
   "metadata": {},
   "outputs": [
    {
     "name": "stdout",
     "output_type": "stream",
     "text": [
      "{'max_depth': 24, 'min_samples_leaf': 2, 'min_samples_split': 8, 'n_estimators': 200}\n",
      "0.713995463995464\n"
     ]
    }
   ],
   "source": [
    "cv_method = KFold(n_splits=4)\n",
    "params={\n",
    "    'n_estimators':[200],\n",
    "    'max_depth' : [22,24],\n",
    "    'min_samples_leaf' : [2,4],\n",
    "    'min_samples_split' : [8,10]\n",
    " }\n",
    "\n",
    "rf_clf = RandomForestClassifier(random_state=0, n_jobs=-1)\n",
    "rf_grid_cv = GridSearchCV(rf_clf, param_grid=params, cv=cv_method)\n",
    "rf_grid_cv.fit(X_train, y_train)\n",
    "\n",
    "print(rf_grid_cv.best_params_)\n",
    "print(rf_grid_cv.best_score_)"
   ]
  },
  {
   "cell_type": "markdown",
   "metadata": {},
   "source": [
    "## 6. Gradient Boosting(그래디언트 부스팅)"
   ]
  },
  {
   "cell_type": "code",
   "execution_count": 260,
   "metadata": {},
   "outputs": [],
   "source": [
    "start_time=time.time()"
   ]
  },
  {
   "cell_type": "code",
   "execution_count": 261,
   "metadata": {},
   "outputs": [],
   "source": [
    "gb_clf=GradientBoostingClassifier(random_state=0)\n",
    "gb_clf.fit(X_train, y_train)\n",
    "gb_pred=gb_clf.predict(test_x)"
   ]
  },
  {
   "cell_type": "code",
   "execution_count": 262,
   "metadata": {},
   "outputs": [
    {
     "name": "stdout",
     "output_type": "stream",
     "text": [
      "12.854140281677246\n"
     ]
    }
   ],
   "source": [
    "print(time.time()-start_time)"
   ]
  },
  {
   "cell_type": "code",
   "execution_count": 263,
   "metadata": {},
   "outputs": [
    {
     "name": "stdout",
     "output_type": "stream",
     "text": [
      "Fitting 5 folds for each of 1 candidates, totalling 5 fits\n"
     ]
    },
    {
     "name": "stderr",
     "output_type": "stream",
     "text": [
      "[Parallel(n_jobs=-1)]: Using backend LokyBackend with 8 concurrent workers.\n",
      "[Parallel(n_jobs=-1)]: Done   2 out of   5 | elapsed:   52.8s remaining:  1.3min\n",
      "[Parallel(n_jobs=-1)]: Done   5 out of   5 | elapsed:   53.4s finished\n"
     ]
    },
    {
     "name": "stdout",
     "output_type": "stream",
     "text": [
      "{'learning_rate': 0.1, 'max_depth': 10, 'min_samples_leaf': 2, 'min_samples_split': 6, 'n_estimators': 100, 'subsample': 0.8}\n",
      "0.7106882215842131\n"
     ]
    }
   ],
   "source": [
    "cv_method = KFold(n_splits=5)\n",
    "params={\n",
    "    'n_estimators' : [100],\n",
    "    'learning_rate' : [0.1],\n",
    "    'subsample': [0.8],\n",
    "    'max_depth' : [10],\n",
    "    'min_samples_leaf' : [2],\n",
    "    'min_samples_split' : [6]\n",
    "}\n",
    "gb_grid_cv=GridSearchCV(gb_clf,param_grid=params,cv=cv_method,verbose=1,n_jobs=-1)\n",
    "gb_grid_cv.fit(X_train,y_train)\n",
    "\n",
    "print(gb_grid_cv.best_params_)\n",
    "print(gb_grid_cv.best_score_)"
   ]
  },
  {
   "cell_type": "markdown",
   "metadata": {},
   "source": [
    "## 7. XGBoost"
   ]
  },
  {
   "cell_type": "code",
   "execution_count": 267,
   "metadata": {},
   "outputs": [],
   "source": [
    "start_time=time.time()"
   ]
  },
  {
   "cell_type": "code",
   "execution_count": 268,
   "metadata": {},
   "outputs": [],
   "source": [
    "xgb_clf=XGBClassifier(random_state=0)\n",
    "xgb_clf.fit(X_train, y_train)\n",
    "xgb_pred=xgb_clf.predict(test_x)"
   ]
  },
  {
   "cell_type": "code",
   "execution_count": 269,
   "metadata": {},
   "outputs": [
    {
     "name": "stdout",
     "output_type": "stream",
     "text": [
      "3.941575050354004\n"
     ]
    }
   ],
   "source": [
    "print(time.time()-start_time)"
   ]
  },
  {
   "cell_type": "code",
   "execution_count": 273,
   "metadata": {
    "scrolled": true
   },
   "outputs": [
    {
     "name": "stdout",
     "output_type": "stream",
     "text": [
      "Fitting 5 folds for each of 2 candidates, totalling 10 fits\n"
     ]
    },
    {
     "name": "stderr",
     "output_type": "stream",
     "text": [
      "[Parallel(n_jobs=-1)]: Using backend LokyBackend with 8 concurrent workers.\n",
      "[Parallel(n_jobs=-1)]: Done   6 out of  10 | elapsed:   25.3s remaining:   16.8s\n"
     ]
    },
    {
     "name": "stdout",
     "output_type": "stream",
     "text": [
      "[0]\tvalidation_0-merror:0.325964\n"
     ]
    },
    {
     "name": "stderr",
     "output_type": "stream",
     "text": [
      "[Parallel(n_jobs=-1)]: Done  10 out of  10 | elapsed:   36.9s finished\n"
     ]
    },
    {
     "name": "stdout",
     "output_type": "stream",
     "text": [
      "[1]\tvalidation_0-merror:0.305556\n",
      "[2]\tvalidation_0-merror:0.30102\n",
      "[3]\tvalidation_0-merror:0.300642\n",
      "[4]\tvalidation_0-merror:0.298753\n",
      "[5]\tvalidation_0-merror:0.29932\n",
      "[6]\tvalidation_0-merror:0.29932\n",
      "[7]\tvalidation_0-merror:0.298186\n",
      "[8]\tvalidation_0-merror:0.299887\n",
      "[9]\tvalidation_0-merror:0.298186\n",
      "[10]\tvalidation_0-merror:0.297808\n",
      "[11]\tvalidation_0-merror:0.298186\n",
      "[12]\tvalidation_0-merror:0.296674\n",
      "[13]\tvalidation_0-merror:0.296863\n",
      "[14]\tvalidation_0-merror:0.296674\n",
      "[15]\tvalidation_0-merror:0.297241\n",
      "[16]\tvalidation_0-merror:0.298375\n",
      "[17]\tvalidation_0-merror:0.296485\n",
      "[18]\tvalidation_0-merror:0.297619\n",
      "[19]\tvalidation_0-merror:0.296296\n",
      "[20]\tvalidation_0-merror:0.296863\n",
      "[21]\tvalidation_0-merror:0.295162\n",
      "[22]\tvalidation_0-merror:0.295351\n",
      "[23]\tvalidation_0-merror:0.294218\n",
      "[24]\tvalidation_0-merror:0.292895\n",
      "[25]\tvalidation_0-merror:0.294218\n",
      "[26]\tvalidation_0-merror:0.293462\n",
      "[27]\tvalidation_0-merror:0.294218\n",
      "[28]\tvalidation_0-merror:0.292895\n",
      "[29]\tvalidation_0-merror:0.291761\n",
      "[30]\tvalidation_0-merror:0.290249\n",
      "[31]\tvalidation_0-merror:0.290627\n",
      "[32]\tvalidation_0-merror:0.289872\n",
      "[33]\tvalidation_0-merror:0.291005\n",
      "[34]\tvalidation_0-merror:0.288171\n",
      "[35]\tvalidation_0-merror:0.288738\n",
      "[36]\tvalidation_0-merror:0.288738\n",
      "[37]\tvalidation_0-merror:0.287226\n",
      "[38]\tvalidation_0-merror:0.287037\n",
      "[39]\tvalidation_0-merror:0.286092\n",
      "[40]\tvalidation_0-merror:0.286092\n",
      "[41]\tvalidation_0-merror:0.286281\n",
      "[42]\tvalidation_0-merror:0.28647\n",
      "[43]\tvalidation_0-merror:0.286659\n",
      "[44]\tvalidation_0-merror:0.28647\n",
      "[45]\tvalidation_0-merror:0.285336\n",
      "[46]\tvalidation_0-merror:0.285336\n",
      "[47]\tvalidation_0-merror:0.285903\n",
      "[48]\tvalidation_0-merror:0.285525\n",
      "[49]\tvalidation_0-merror:0.284769\n",
      "[50]\tvalidation_0-merror:0.284203\n",
      "[51]\tvalidation_0-merror:0.282502\n",
      "[52]\tvalidation_0-merror:0.28288\n",
      "[53]\tvalidation_0-merror:0.281557\n",
      "[54]\tvalidation_0-merror:0.281935\n",
      "[55]\tvalidation_0-merror:0.28288\n",
      "[56]\tvalidation_0-merror:0.281557\n",
      "[57]\tvalidation_0-merror:0.281746\n",
      "[58]\tvalidation_0-merror:0.28099\n",
      "[59]\tvalidation_0-merror:0.28099\n",
      "[60]\tvalidation_0-merror:0.281746\n",
      "[61]\tvalidation_0-merror:0.282313\n",
      "[62]\tvalidation_0-merror:0.28099\n",
      "[63]\tvalidation_0-merror:0.280423\n",
      "[64]\tvalidation_0-merror:0.281179\n",
      "[65]\tvalidation_0-merror:0.281368\n",
      "[66]\tvalidation_0-merror:0.281368\n",
      "[67]\tvalidation_0-merror:0.281746\n",
      "[68]\tvalidation_0-merror:0.281935\n",
      "[69]\tvalidation_0-merror:0.280612\n",
      "[70]\tvalidation_0-merror:0.280612\n",
      "[71]\tvalidation_0-merror:0.279478\n",
      "[72]\tvalidation_0-merror:0.278723\n",
      "[73]\tvalidation_0-merror:0.278912\n",
      "[74]\tvalidation_0-merror:0.278912\n",
      "[75]\tvalidation_0-merror:0.279101\n",
      "[76]\tvalidation_0-merror:0.279856\n",
      "[77]\tvalidation_0-merror:0.279667\n",
      "[78]\tvalidation_0-merror:0.279289\n",
      "[79]\tvalidation_0-merror:0.280234\n",
      "[80]\tvalidation_0-merror:0.279856\n",
      "[81]\tvalidation_0-merror:0.280612\n",
      "[82]\tvalidation_0-merror:0.280234\n",
      "[83]\tvalidation_0-merror:0.279289\n",
      "[84]\tvalidation_0-merror:0.278912\n",
      "[85]\tvalidation_0-merror:0.278723\n",
      "[86]\tvalidation_0-merror:0.279101\n",
      "[87]\tvalidation_0-merror:0.279478\n",
      "[88]\tvalidation_0-merror:0.279101\n",
      "[89]\tvalidation_0-merror:0.279478\n",
      "[90]\tvalidation_0-merror:0.278912\n",
      "[91]\tvalidation_0-merror:0.278912\n",
      "[92]\tvalidation_0-merror:0.279101\n",
      "[93]\tvalidation_0-merror:0.279856\n",
      "[94]\tvalidation_0-merror:0.280234\n",
      "[95]\tvalidation_0-merror:0.280423\n",
      "[96]\tvalidation_0-merror:0.281368\n",
      "[97]\tvalidation_0-merror:0.282313\n",
      "[98]\tvalidation_0-merror:0.281746\n",
      "[99]\tvalidation_0-merror:0.281935\n",
      "{'colsample_bytree': 0.5, 'learning_rate': 0.1, 'max_depth': 14, 'min_child_weight': 1, 'n_estimators': 100, 'subsample': 0.8}\n",
      "0.7187677430504851\n"
     ]
    }
   ],
   "source": [
    "cv_method = KFold(n_splits=5)\n",
    "\n",
    "params = {\n",
    "    'n_estimators' : [100],\n",
    "    'learning_rate': [0.1],\n",
    "    'max_depth':[14],\n",
    "    'subsample': [0.8],\n",
    "    'min_child_weight':[1,2],\n",
    "    'colsample_bytree':[0.5]\n",
    "}\n",
    "\n",
    "xgb_grid_cv=GridSearchCV(xgb_clf, param_grid=params, cv=cv_method, verbose=True, n_jobs=-1)\n",
    "xgb_grid_cv.fit(X_train,y_train, eval_set=[(X_test,y_test)])\n",
    "\n",
    "print(xgb_grid_cv.best_params_)\n",
    "print(xgb_grid_cv.best_score_)"
   ]
  },
  {
   "cell_type": "code",
   "execution_count": 274,
   "metadata": {},
   "outputs": [],
   "source": [
    "xgb_preds=xgb_grid_cv.predict(X_test)"
   ]
  },
  {
   "cell_type": "code",
   "execution_count": 275,
   "metadata": {
    "scrolled": true
   },
   "outputs": [],
   "source": [
    "xgb_accuracy=accuracy_score(y_test,xgb_preds)"
   ]
  },
  {
   "cell_type": "code",
   "execution_count": 276,
   "metadata": {
    "scrolled": true
   },
   "outputs": [
    {
     "name": "stdout",
     "output_type": "stream",
     "text": [
      "0.7180650037792895\n"
     ]
    }
   ],
   "source": [
    "print(xgb_accuracy)"
   ]
  },
  {
   "cell_type": "markdown",
   "metadata": {},
   "source": [
    "## 8. LightGBM"
   ]
  },
  {
   "cell_type": "code",
   "execution_count": 277,
   "metadata": {},
   "outputs": [],
   "source": [
    "start_time=time.time()"
   ]
  },
  {
   "cell_type": "code",
   "execution_count": 278,
   "metadata": {},
   "outputs": [],
   "source": [
    "lgbm_clf=LGBMClassifier(random_state=0)\n",
    "lgbm_clf.fit(train_x, train_y)\n",
    "lgbm_pred=lgbm_clf.predict(test_x)"
   ]
  },
  {
   "cell_type": "code",
   "execution_count": 279,
   "metadata": {},
   "outputs": [
    {
     "name": "stdout",
     "output_type": "stream",
     "text": [
      "1.2418100833892822\n"
     ]
    }
   ],
   "source": [
    "print(time.time()-start_time)"
   ]
  },
  {
   "cell_type": "code",
   "execution_count": 280,
   "metadata": {},
   "outputs": [
    {
     "name": "stdout",
     "output_type": "stream",
     "text": [
      "Fitting 5 folds for each of 16 candidates, totalling 80 fits\n"
     ]
    },
    {
     "name": "stderr",
     "output_type": "stream",
     "text": [
      "[Parallel(n_jobs=-1)]: Using backend LokyBackend with 8 concurrent workers.\n",
      "[Parallel(n_jobs=-1)]: Done  34 tasks      | elapsed:   52.4s\n",
      "[Parallel(n_jobs=-1)]: Done  80 out of  80 | elapsed:  1.8min finished\n"
     ]
    },
    {
     "name": "stdout",
     "output_type": "stream",
     "text": [
      "[1]\tvalid_0's auc_mu: 0.631226\tvalid_0's multi_logloss: 0.874688\n",
      "Training until validation scores don't improve for 100 rounds\n",
      "[2]\tvalid_0's auc_mu: 0.639785\tvalid_0's multi_logloss: 0.866858\n",
      "[3]\tvalid_0's auc_mu: 0.649964\tvalid_0's multi_logloss: 0.855276\n",
      "[4]\tvalid_0's auc_mu: 0.654894\tvalid_0's multi_logloss: 0.84638\n",
      "[5]\tvalid_0's auc_mu: 0.660852\tvalid_0's multi_logloss: 0.840868\n",
      "[6]\tvalid_0's auc_mu: 0.663984\tvalid_0's multi_logloss: 0.836902\n",
      "[7]\tvalid_0's auc_mu: 0.667619\tvalid_0's multi_logloss: 0.832831\n",
      "[8]\tvalid_0's auc_mu: 0.672024\tvalid_0's multi_logloss: 0.829367\n",
      "[9]\tvalid_0's auc_mu: 0.676696\tvalid_0's multi_logloss: 0.826311\n",
      "[10]\tvalid_0's auc_mu: 0.679733\tvalid_0's multi_logloss: 0.822618\n",
      "[11]\tvalid_0's auc_mu: 0.680522\tvalid_0's multi_logloss: 0.818668\n",
      "[12]\tvalid_0's auc_mu: 0.679773\tvalid_0's multi_logloss: 0.815245\n",
      "[13]\tvalid_0's auc_mu: 0.681582\tvalid_0's multi_logloss: 0.812119\n",
      "[14]\tvalid_0's auc_mu: 0.683147\tvalid_0's multi_logloss: 0.810147\n",
      "[15]\tvalid_0's auc_mu: 0.686771\tvalid_0's multi_logloss: 0.807598\n",
      "[16]\tvalid_0's auc_mu: 0.688165\tvalid_0's multi_logloss: 0.805215\n",
      "[17]\tvalid_0's auc_mu: 0.691696\tvalid_0's multi_logloss: 0.803061\n",
      "[18]\tvalid_0's auc_mu: 0.692245\tvalid_0's multi_logloss: 0.801872\n",
      "[19]\tvalid_0's auc_mu: 0.693328\tvalid_0's multi_logloss: 0.800545\n",
      "[20]\tvalid_0's auc_mu: 0.695679\tvalid_0's multi_logloss: 0.798896\n",
      "[21]\tvalid_0's auc_mu: 0.695714\tvalid_0's multi_logloss: 0.797377\n",
      "[22]\tvalid_0's auc_mu: 0.696508\tvalid_0's multi_logloss: 0.796084\n",
      "[23]\tvalid_0's auc_mu: 0.697472\tvalid_0's multi_logloss: 0.794733\n",
      "[24]\tvalid_0's auc_mu: 0.698307\tvalid_0's multi_logloss: 0.793591\n",
      "[25]\tvalid_0's auc_mu: 0.698826\tvalid_0's multi_logloss: 0.792432\n",
      "[26]\tvalid_0's auc_mu: 0.700139\tvalid_0's multi_logloss: 0.791165\n",
      "[27]\tvalid_0's auc_mu: 0.701018\tvalid_0's multi_logloss: 0.790147\n",
      "[28]\tvalid_0's auc_mu: 0.70118\tvalid_0's multi_logloss: 0.78947\n",
      "[29]\tvalid_0's auc_mu: 0.702787\tvalid_0's multi_logloss: 0.788219\n",
      "[30]\tvalid_0's auc_mu: 0.703538\tvalid_0's multi_logloss: 0.787359\n",
      "[31]\tvalid_0's auc_mu: 0.703884\tvalid_0's multi_logloss: 0.786887\n",
      "[32]\tvalid_0's auc_mu: 0.704918\tvalid_0's multi_logloss: 0.785783\n",
      "[33]\tvalid_0's auc_mu: 0.705395\tvalid_0's multi_logloss: 0.785064\n",
      "[34]\tvalid_0's auc_mu: 0.706538\tvalid_0's multi_logloss: 0.784024\n",
      "[35]\tvalid_0's auc_mu: 0.708228\tvalid_0's multi_logloss: 0.783036\n",
      "[36]\tvalid_0's auc_mu: 0.708334\tvalid_0's multi_logloss: 0.782582\n",
      "[37]\tvalid_0's auc_mu: 0.710057\tvalid_0's multi_logloss: 0.781505\n",
      "[38]\tvalid_0's auc_mu: 0.710602\tvalid_0's multi_logloss: 0.780981\n",
      "[39]\tvalid_0's auc_mu: 0.711513\tvalid_0's multi_logloss: 0.780011\n",
      "[40]\tvalid_0's auc_mu: 0.71144\tvalid_0's multi_logloss: 0.779804\n",
      "[41]\tvalid_0's auc_mu: 0.711743\tvalid_0's multi_logloss: 0.779225\n",
      "[42]\tvalid_0's auc_mu: 0.712202\tvalid_0's multi_logloss: 0.779051\n",
      "[43]\tvalid_0's auc_mu: 0.712843\tvalid_0's multi_logloss: 0.778186\n",
      "[44]\tvalid_0's auc_mu: 0.714531\tvalid_0's multi_logloss: 0.777345\n",
      "[45]\tvalid_0's auc_mu: 0.715276\tvalid_0's multi_logloss: 0.776782\n",
      "[46]\tvalid_0's auc_mu: 0.716022\tvalid_0's multi_logloss: 0.77617\n",
      "[47]\tvalid_0's auc_mu: 0.71766\tvalid_0's multi_logloss: 0.77555\n",
      "[48]\tvalid_0's auc_mu: 0.718378\tvalid_0's multi_logloss: 0.774974\n",
      "[49]\tvalid_0's auc_mu: 0.718303\tvalid_0's multi_logloss: 0.774688\n",
      "[50]\tvalid_0's auc_mu: 0.718794\tvalid_0's multi_logloss: 0.774368\n",
      "[51]\tvalid_0's auc_mu: 0.720769\tvalid_0's multi_logloss: 0.773449\n",
      "[52]\tvalid_0's auc_mu: 0.720325\tvalid_0's multi_logloss: 0.77321\n",
      "[53]\tvalid_0's auc_mu: 0.721305\tvalid_0's multi_logloss: 0.772897\n",
      "[54]\tvalid_0's auc_mu: 0.721542\tvalid_0's multi_logloss: 0.772443\n",
      "[55]\tvalid_0's auc_mu: 0.721649\tvalid_0's multi_logloss: 0.77215\n",
      "[56]\tvalid_0's auc_mu: 0.721924\tvalid_0's multi_logloss: 0.771877\n",
      "[57]\tvalid_0's auc_mu: 0.72236\tvalid_0's multi_logloss: 0.771505\n",
      "[58]\tvalid_0's auc_mu: 0.723402\tvalid_0's multi_logloss: 0.770953\n",
      "[59]\tvalid_0's auc_mu: 0.724991\tvalid_0's multi_logloss: 0.770124\n",
      "[60]\tvalid_0's auc_mu: 0.724875\tvalid_0's multi_logloss: 0.769828\n",
      "[61]\tvalid_0's auc_mu: 0.724805\tvalid_0's multi_logloss: 0.769621\n",
      "[62]\tvalid_0's auc_mu: 0.726312\tvalid_0's multi_logloss: 0.768809\n",
      "[63]\tvalid_0's auc_mu: 0.725503\tvalid_0's multi_logloss: 0.768925\n",
      "[64]\tvalid_0's auc_mu: 0.726203\tvalid_0's multi_logloss: 0.768463\n",
      "[65]\tvalid_0's auc_mu: 0.726817\tvalid_0's multi_logloss: 0.768054\n",
      "[66]\tvalid_0's auc_mu: 0.727797\tvalid_0's multi_logloss: 0.767591\n",
      "[67]\tvalid_0's auc_mu: 0.728576\tvalid_0's multi_logloss: 0.767068\n",
      "[68]\tvalid_0's auc_mu: 0.729254\tvalid_0's multi_logloss: 0.76658\n",
      "[69]\tvalid_0's auc_mu: 0.729154\tvalid_0's multi_logloss: 0.766332\n",
      "[70]\tvalid_0's auc_mu: 0.72916\tvalid_0's multi_logloss: 0.766233\n",
      "[71]\tvalid_0's auc_mu: 0.72962\tvalid_0's multi_logloss: 0.765542\n",
      "[72]\tvalid_0's auc_mu: 0.730419\tvalid_0's multi_logloss: 0.765178\n",
      "[73]\tvalid_0's auc_mu: 0.731386\tvalid_0's multi_logloss: 0.764691\n",
      "[74]\tvalid_0's auc_mu: 0.731593\tvalid_0's multi_logloss: 0.764515\n",
      "[75]\tvalid_0's auc_mu: 0.732049\tvalid_0's multi_logloss: 0.764108\n",
      "[76]\tvalid_0's auc_mu: 0.732379\tvalid_0's multi_logloss: 0.763779\n",
      "[77]\tvalid_0's auc_mu: 0.733164\tvalid_0's multi_logloss: 0.763253\n",
      "[78]\tvalid_0's auc_mu: 0.73286\tvalid_0's multi_logloss: 0.763076\n",
      "[79]\tvalid_0's auc_mu: 0.734084\tvalid_0's multi_logloss: 0.762345\n",
      "[80]\tvalid_0's auc_mu: 0.734521\tvalid_0's multi_logloss: 0.761909\n",
      "[81]\tvalid_0's auc_mu: 0.734922\tvalid_0's multi_logloss: 0.761403\n",
      "[82]\tvalid_0's auc_mu: 0.735382\tvalid_0's multi_logloss: 0.761178\n",
      "[83]\tvalid_0's auc_mu: 0.73616\tvalid_0's multi_logloss: 0.760609\n",
      "[84]\tvalid_0's auc_mu: 0.736195\tvalid_0's multi_logloss: 0.760203\n",
      "[85]\tvalid_0's auc_mu: 0.736263\tvalid_0's multi_logloss: 0.760021\n",
      "[86]\tvalid_0's auc_mu: 0.736239\tvalid_0's multi_logloss: 0.759814\n",
      "[87]\tvalid_0's auc_mu: 0.736693\tvalid_0's multi_logloss: 0.759505\n",
      "[88]\tvalid_0's auc_mu: 0.736908\tvalid_0's multi_logloss: 0.759295\n",
      "[89]\tvalid_0's auc_mu: 0.737639\tvalid_0's multi_logloss: 0.758515\n",
      "[90]\tvalid_0's auc_mu: 0.738277\tvalid_0's multi_logloss: 0.758094\n",
      "[91]\tvalid_0's auc_mu: 0.738641\tvalid_0's multi_logloss: 0.757769\n",
      "[92]\tvalid_0's auc_mu: 0.738968\tvalid_0's multi_logloss: 0.757605\n",
      "[93]\tvalid_0's auc_mu: 0.73873\tvalid_0's multi_logloss: 0.757328\n",
      "[94]\tvalid_0's auc_mu: 0.738484\tvalid_0's multi_logloss: 0.757249\n",
      "[95]\tvalid_0's auc_mu: 0.738993\tvalid_0's multi_logloss: 0.756818\n",
      "[96]\tvalid_0's auc_mu: 0.739436\tvalid_0's multi_logloss: 0.75633\n",
      "[97]\tvalid_0's auc_mu: 0.739527\tvalid_0's multi_logloss: 0.756164\n",
      "[98]\tvalid_0's auc_mu: 0.739833\tvalid_0's multi_logloss: 0.755802\n",
      "[99]\tvalid_0's auc_mu: 0.740079\tvalid_0's multi_logloss: 0.755607\n",
      "[100]\tvalid_0's auc_mu: 0.740299\tvalid_0's multi_logloss: 0.75529\n",
      "[101]\tvalid_0's auc_mu: 0.740819\tvalid_0's multi_logloss: 0.754851\n",
      "[102]\tvalid_0's auc_mu: 0.740838\tvalid_0's multi_logloss: 0.754716\n",
      "[103]\tvalid_0's auc_mu: 0.741166\tvalid_0's multi_logloss: 0.754476\n",
      "[104]\tvalid_0's auc_mu: 0.741696\tvalid_0's multi_logloss: 0.754258\n",
      "[105]\tvalid_0's auc_mu: 0.741921\tvalid_0's multi_logloss: 0.754181\n",
      "[106]\tvalid_0's auc_mu: 0.742357\tvalid_0's multi_logloss: 0.753898\n",
      "[107]\tvalid_0's auc_mu: 0.742468\tvalid_0's multi_logloss: 0.753656\n",
      "[108]\tvalid_0's auc_mu: 0.742351\tvalid_0's multi_logloss: 0.753526\n",
      "[109]\tvalid_0's auc_mu: 0.742395\tvalid_0's multi_logloss: 0.753441\n",
      "[110]\tvalid_0's auc_mu: 0.742939\tvalid_0's multi_logloss: 0.752893\n",
      "[111]\tvalid_0's auc_mu: 0.743673\tvalid_0's multi_logloss: 0.752444\n",
      "[112]\tvalid_0's auc_mu: 0.743998\tvalid_0's multi_logloss: 0.752108\n",
      "[113]\tvalid_0's auc_mu: 0.744301\tvalid_0's multi_logloss: 0.75184\n",
      "[114]\tvalid_0's auc_mu: 0.744714\tvalid_0's multi_logloss: 0.751565\n",
      "[115]\tvalid_0's auc_mu: 0.745365\tvalid_0's multi_logloss: 0.751228\n",
      "[116]\tvalid_0's auc_mu: 0.74542\tvalid_0's multi_logloss: 0.751064\n",
      "[117]\tvalid_0's auc_mu: 0.74581\tvalid_0's multi_logloss: 0.750936\n",
      "[118]\tvalid_0's auc_mu: 0.746752\tvalid_0's multi_logloss: 0.750597\n",
      "[119]\tvalid_0's auc_mu: 0.746881\tvalid_0's multi_logloss: 0.750504\n",
      "[120]\tvalid_0's auc_mu: 0.747495\tvalid_0's multi_logloss: 0.750092\n",
      "[121]\tvalid_0's auc_mu: 0.747384\tvalid_0's multi_logloss: 0.75002\n",
      "[122]\tvalid_0's auc_mu: 0.747759\tvalid_0's multi_logloss: 0.749889\n",
      "[123]\tvalid_0's auc_mu: 0.748152\tvalid_0's multi_logloss: 0.74957\n",
      "[124]\tvalid_0's auc_mu: 0.748903\tvalid_0's multi_logloss: 0.74899\n",
      "[125]\tvalid_0's auc_mu: 0.749165\tvalid_0's multi_logloss: 0.748783\n",
      "[126]\tvalid_0's auc_mu: 0.750033\tvalid_0's multi_logloss: 0.748374\n",
      "[127]\tvalid_0's auc_mu: 0.750438\tvalid_0's multi_logloss: 0.748155\n",
      "[128]\tvalid_0's auc_mu: 0.750639\tvalid_0's multi_logloss: 0.747784\n",
      "[129]\tvalid_0's auc_mu: 0.751001\tvalid_0's multi_logloss: 0.74749\n",
      "[130]\tvalid_0's auc_mu: 0.75109\tvalid_0's multi_logloss: 0.747455\n",
      "[131]\tvalid_0's auc_mu: 0.750814\tvalid_0's multi_logloss: 0.747427\n",
      "[132]\tvalid_0's auc_mu: 0.750905\tvalid_0's multi_logloss: 0.747214\n",
      "[133]\tvalid_0's auc_mu: 0.750806\tvalid_0's multi_logloss: 0.747067\n",
      "[134]\tvalid_0's auc_mu: 0.750895\tvalid_0's multi_logloss: 0.746992\n"
     ]
    },
    {
     "name": "stdout",
     "output_type": "stream",
     "text": [
      "[135]\tvalid_0's auc_mu: 0.751189\tvalid_0's multi_logloss: 0.74691\n",
      "[136]\tvalid_0's auc_mu: 0.751635\tvalid_0's multi_logloss: 0.746613\n",
      "[137]\tvalid_0's auc_mu: 0.751717\tvalid_0's multi_logloss: 0.746393\n",
      "[138]\tvalid_0's auc_mu: 0.751918\tvalid_0's multi_logloss: 0.746393\n",
      "[139]\tvalid_0's auc_mu: 0.751977\tvalid_0's multi_logloss: 0.746341\n",
      "[140]\tvalid_0's auc_mu: 0.752191\tvalid_0's multi_logloss: 0.746068\n",
      "[141]\tvalid_0's auc_mu: 0.752759\tvalid_0's multi_logloss: 0.745761\n",
      "[142]\tvalid_0's auc_mu: 0.75259\tvalid_0's multi_logloss: 0.745679\n",
      "[143]\tvalid_0's auc_mu: 0.752532\tvalid_0's multi_logloss: 0.745734\n",
      "[144]\tvalid_0's auc_mu: 0.752096\tvalid_0's multi_logloss: 0.745722\n",
      "[145]\tvalid_0's auc_mu: 0.752397\tvalid_0's multi_logloss: 0.745581\n",
      "[146]\tvalid_0's auc_mu: 0.752439\tvalid_0's multi_logloss: 0.745471\n",
      "[147]\tvalid_0's auc_mu: 0.752429\tvalid_0's multi_logloss: 0.745464\n",
      "[148]\tvalid_0's auc_mu: 0.752608\tvalid_0's multi_logloss: 0.745325\n",
      "[149]\tvalid_0's auc_mu: 0.753135\tvalid_0's multi_logloss: 0.745035\n",
      "[150]\tvalid_0's auc_mu: 0.752854\tvalid_0's multi_logloss: 0.745183\n",
      "[151]\tvalid_0's auc_mu: 0.752857\tvalid_0's multi_logloss: 0.745123\n",
      "[152]\tvalid_0's auc_mu: 0.753029\tvalid_0's multi_logloss: 0.744969\n",
      "[153]\tvalid_0's auc_mu: 0.753357\tvalid_0's multi_logloss: 0.744653\n",
      "[154]\tvalid_0's auc_mu: 0.753475\tvalid_0's multi_logloss: 0.744509\n",
      "[155]\tvalid_0's auc_mu: 0.753569\tvalid_0's multi_logloss: 0.744323\n",
      "[156]\tvalid_0's auc_mu: 0.753902\tvalid_0's multi_logloss: 0.743984\n",
      "[157]\tvalid_0's auc_mu: 0.754248\tvalid_0's multi_logloss: 0.74363\n",
      "[158]\tvalid_0's auc_mu: 0.75433\tvalid_0's multi_logloss: 0.743612\n",
      "[159]\tvalid_0's auc_mu: 0.754549\tvalid_0's multi_logloss: 0.743342\n",
      "[160]\tvalid_0's auc_mu: 0.754689\tvalid_0's multi_logloss: 0.743191\n",
      "[161]\tvalid_0's auc_mu: 0.754999\tvalid_0's multi_logloss: 0.743019\n",
      "[162]\tvalid_0's auc_mu: 0.755073\tvalid_0's multi_logloss: 0.742907\n",
      "[163]\tvalid_0's auc_mu: 0.755276\tvalid_0's multi_logloss: 0.742682\n",
      "[164]\tvalid_0's auc_mu: 0.755208\tvalid_0's multi_logloss: 0.742527\n",
      "[165]\tvalid_0's auc_mu: 0.755107\tvalid_0's multi_logloss: 0.74244\n",
      "[166]\tvalid_0's auc_mu: 0.75508\tvalid_0's multi_logloss: 0.74252\n",
      "[167]\tvalid_0's auc_mu: 0.755034\tvalid_0's multi_logloss: 0.742433\n",
      "[168]\tvalid_0's auc_mu: 0.755045\tvalid_0's multi_logloss: 0.742379\n",
      "[169]\tvalid_0's auc_mu: 0.755053\tvalid_0's multi_logloss: 0.742364\n",
      "[170]\tvalid_0's auc_mu: 0.755109\tvalid_0's multi_logloss: 0.742291\n",
      "[171]\tvalid_0's auc_mu: 0.755484\tvalid_0's multi_logloss: 0.74209\n",
      "[172]\tvalid_0's auc_mu: 0.75559\tvalid_0's multi_logloss: 0.741896\n",
      "[173]\tvalid_0's auc_mu: 0.755528\tvalid_0's multi_logloss: 0.741799\n",
      "[174]\tvalid_0's auc_mu: 0.755672\tvalid_0's multi_logloss: 0.741677\n",
      "[175]\tvalid_0's auc_mu: 0.75552\tvalid_0's multi_logloss: 0.741642\n",
      "[176]\tvalid_0's auc_mu: 0.756105\tvalid_0's multi_logloss: 0.741266\n",
      "[177]\tvalid_0's auc_mu: 0.75657\tvalid_0's multi_logloss: 0.740935\n",
      "[178]\tvalid_0's auc_mu: 0.756817\tvalid_0's multi_logloss: 0.740677\n",
      "[179]\tvalid_0's auc_mu: 0.756845\tvalid_0's multi_logloss: 0.7406\n",
      "[180]\tvalid_0's auc_mu: 0.756778\tvalid_0's multi_logloss: 0.740533\n",
      "[181]\tvalid_0's auc_mu: 0.756587\tvalid_0's multi_logloss: 0.740656\n",
      "[182]\tvalid_0's auc_mu: 0.756254\tvalid_0's multi_logloss: 0.740832\n",
      "[183]\tvalid_0's auc_mu: 0.756281\tvalid_0's multi_logloss: 0.74082\n",
      "[184]\tvalid_0's auc_mu: 0.756595\tvalid_0's multi_logloss: 0.740738\n",
      "[185]\tvalid_0's auc_mu: 0.756558\tvalid_0's multi_logloss: 0.740691\n",
      "[186]\tvalid_0's auc_mu: 0.756057\tvalid_0's multi_logloss: 0.740782\n",
      "[187]\tvalid_0's auc_mu: 0.75617\tvalid_0's multi_logloss: 0.740728\n",
      "[188]\tvalid_0's auc_mu: 0.756348\tvalid_0's multi_logloss: 0.740635\n",
      "[189]\tvalid_0's auc_mu: 0.756307\tvalid_0's multi_logloss: 0.740661\n",
      "[190]\tvalid_0's auc_mu: 0.756272\tvalid_0's multi_logloss: 0.740614\n",
      "[191]\tvalid_0's auc_mu: 0.756723\tvalid_0's multi_logloss: 0.740404\n",
      "[192]\tvalid_0's auc_mu: 0.75694\tvalid_0's multi_logloss: 0.740147\n",
      "[193]\tvalid_0's auc_mu: 0.756823\tvalid_0's multi_logloss: 0.740128\n",
      "[194]\tvalid_0's auc_mu: 0.756835\tvalid_0's multi_logloss: 0.740121\n",
      "[195]\tvalid_0's auc_mu: 0.756991\tvalid_0's multi_logloss: 0.739986\n",
      "[196]\tvalid_0's auc_mu: 0.756992\tvalid_0's multi_logloss: 0.739968\n",
      "[197]\tvalid_0's auc_mu: 0.756725\tvalid_0's multi_logloss: 0.740056\n",
      "[198]\tvalid_0's auc_mu: 0.757042\tvalid_0's multi_logloss: 0.739911\n",
      "[199]\tvalid_0's auc_mu: 0.75694\tvalid_0's multi_logloss: 0.740086\n",
      "[200]\tvalid_0's auc_mu: 0.756837\tvalid_0's multi_logloss: 0.740039\n",
      "[201]\tvalid_0's auc_mu: 0.757012\tvalid_0's multi_logloss: 0.739919\n",
      "[202]\tvalid_0's auc_mu: 0.757239\tvalid_0's multi_logloss: 0.739682\n",
      "[203]\tvalid_0's auc_mu: 0.757174\tvalid_0's multi_logloss: 0.739739\n",
      "[204]\tvalid_0's auc_mu: 0.757176\tvalid_0's multi_logloss: 0.739639\n",
      "[205]\tvalid_0's auc_mu: 0.757015\tvalid_0's multi_logloss: 0.739812\n",
      "[206]\tvalid_0's auc_mu: 0.757023\tvalid_0's multi_logloss: 0.739874\n",
      "[207]\tvalid_0's auc_mu: 0.757037\tvalid_0's multi_logloss: 0.739902\n",
      "[208]\tvalid_0's auc_mu: 0.756793\tvalid_0's multi_logloss: 0.739954\n",
      "[209]\tvalid_0's auc_mu: 0.757195\tvalid_0's multi_logloss: 0.739773\n",
      "[210]\tvalid_0's auc_mu: 0.756931\tvalid_0's multi_logloss: 0.739748\n",
      "[211]\tvalid_0's auc_mu: 0.756933\tvalid_0's multi_logloss: 0.739696\n",
      "[212]\tvalid_0's auc_mu: 0.757148\tvalid_0's multi_logloss: 0.739463\n",
      "[213]\tvalid_0's auc_mu: 0.75698\tvalid_0's multi_logloss: 0.739509\n",
      "[214]\tvalid_0's auc_mu: 0.75686\tvalid_0's multi_logloss: 0.739553\n",
      "[215]\tvalid_0's auc_mu: 0.756955\tvalid_0's multi_logloss: 0.739573\n",
      "[216]\tvalid_0's auc_mu: 0.756945\tvalid_0's multi_logloss: 0.739546\n",
      "[217]\tvalid_0's auc_mu: 0.757153\tvalid_0's multi_logloss: 0.739317\n",
      "[218]\tvalid_0's auc_mu: 0.757128\tvalid_0's multi_logloss: 0.739274\n",
      "[219]\tvalid_0's auc_mu: 0.75742\tvalid_0's multi_logloss: 0.739092\n",
      "[220]\tvalid_0's auc_mu: 0.75797\tvalid_0's multi_logloss: 0.738696\n",
      "[221]\tvalid_0's auc_mu: 0.75804\tvalid_0's multi_logloss: 0.738681\n",
      "[222]\tvalid_0's auc_mu: 0.758038\tvalid_0's multi_logloss: 0.738739\n",
      "[223]\tvalid_0's auc_mu: 0.758014\tvalid_0's multi_logloss: 0.738705\n",
      "[224]\tvalid_0's auc_mu: 0.758225\tvalid_0's multi_logloss: 0.738603\n",
      "[225]\tvalid_0's auc_mu: 0.758312\tvalid_0's multi_logloss: 0.738613\n",
      "[226]\tvalid_0's auc_mu: 0.758269\tvalid_0's multi_logloss: 0.738707\n",
      "[227]\tvalid_0's auc_mu: 0.758339\tvalid_0's multi_logloss: 0.73867\n",
      "[228]\tvalid_0's auc_mu: 0.75821\tvalid_0's multi_logloss: 0.738504\n",
      "[229]\tvalid_0's auc_mu: 0.758094\tvalid_0's multi_logloss: 0.738499\n",
      "[230]\tvalid_0's auc_mu: 0.758287\tvalid_0's multi_logloss: 0.738181\n",
      "[231]\tvalid_0's auc_mu: 0.758416\tvalid_0's multi_logloss: 0.738152\n",
      "[232]\tvalid_0's auc_mu: 0.758491\tvalid_0's multi_logloss: 0.738043\n",
      "[233]\tvalid_0's auc_mu: 0.758733\tvalid_0's multi_logloss: 0.737811\n",
      "[234]\tvalid_0's auc_mu: 0.758666\tvalid_0's multi_logloss: 0.737958\n",
      "[235]\tvalid_0's auc_mu: 0.758768\tvalid_0's multi_logloss: 0.737856\n",
      "[236]\tvalid_0's auc_mu: 0.759105\tvalid_0's multi_logloss: 0.737504\n",
      "[237]\tvalid_0's auc_mu: 0.759027\tvalid_0's multi_logloss: 0.737404\n",
      "[238]\tvalid_0's auc_mu: 0.759173\tvalid_0's multi_logloss: 0.737271\n",
      "[239]\tvalid_0's auc_mu: 0.759326\tvalid_0's multi_logloss: 0.736943\n",
      "[240]\tvalid_0's auc_mu: 0.759283\tvalid_0's multi_logloss: 0.736855\n",
      "[241]\tvalid_0's auc_mu: 0.759287\tvalid_0's multi_logloss: 0.736903\n",
      "[242]\tvalid_0's auc_mu: 0.759261\tvalid_0's multi_logloss: 0.736895\n",
      "[243]\tvalid_0's auc_mu: 0.759731\tvalid_0's multi_logloss: 0.736594\n",
      "[244]\tvalid_0's auc_mu: 0.759946\tvalid_0's multi_logloss: 0.736519\n",
      "[245]\tvalid_0's auc_mu: 0.760067\tvalid_0's multi_logloss: 0.736522\n",
      "[246]\tvalid_0's auc_mu: 0.760335\tvalid_0's multi_logloss: 0.73641\n",
      "[247]\tvalid_0's auc_mu: 0.760296\tvalid_0's multi_logloss: 0.736428\n",
      "[248]\tvalid_0's auc_mu: 0.760724\tvalid_0's multi_logloss: 0.736142\n",
      "[249]\tvalid_0's auc_mu: 0.760887\tvalid_0's multi_logloss: 0.735914\n",
      "[250]\tvalid_0's auc_mu: 0.760985\tvalid_0's multi_logloss: 0.735671\n",
      "[251]\tvalid_0's auc_mu: 0.76098\tvalid_0's multi_logloss: 0.735523\n",
      "[252]\tvalid_0's auc_mu: 0.761081\tvalid_0's multi_logloss: 0.735438\n",
      "[253]\tvalid_0's auc_mu: 0.761378\tvalid_0's multi_logloss: 0.735329\n",
      "[254]\tvalid_0's auc_mu: 0.761088\tvalid_0's multi_logloss: 0.735392\n",
      "[255]\tvalid_0's auc_mu: 0.761469\tvalid_0's multi_logloss: 0.735166\n",
      "[256]\tvalid_0's auc_mu: 0.761303\tvalid_0's multi_logloss: 0.735242\n",
      "[257]\tvalid_0's auc_mu: 0.761305\tvalid_0's multi_logloss: 0.735209\n",
      "[258]\tvalid_0's auc_mu: 0.761427\tvalid_0's multi_logloss: 0.735132\n"
     ]
    },
    {
     "name": "stdout",
     "output_type": "stream",
     "text": [
      "[259]\tvalid_0's auc_mu: 0.761163\tvalid_0's multi_logloss: 0.735133\n",
      "[260]\tvalid_0's auc_mu: 0.760949\tvalid_0's multi_logloss: 0.735301\n",
      "[261]\tvalid_0's auc_mu: 0.760896\tvalid_0's multi_logloss: 0.735223\n",
      "[262]\tvalid_0's auc_mu: 0.761007\tvalid_0's multi_logloss: 0.735122\n",
      "[263]\tvalid_0's auc_mu: 0.761463\tvalid_0's multi_logloss: 0.734922\n",
      "[264]\tvalid_0's auc_mu: 0.761383\tvalid_0's multi_logloss: 0.734909\n",
      "[265]\tvalid_0's auc_mu: 0.761219\tvalid_0's multi_logloss: 0.735068\n",
      "[266]\tvalid_0's auc_mu: 0.761145\tvalid_0's multi_logloss: 0.735173\n",
      "[267]\tvalid_0's auc_mu: 0.761014\tvalid_0's multi_logloss: 0.735312\n",
      "[268]\tvalid_0's auc_mu: 0.761334\tvalid_0's multi_logloss: 0.73512\n",
      "[269]\tvalid_0's auc_mu: 0.761516\tvalid_0's multi_logloss: 0.735069\n",
      "[270]\tvalid_0's auc_mu: 0.761827\tvalid_0's multi_logloss: 0.734855\n",
      "[271]\tvalid_0's auc_mu: 0.76202\tvalid_0's multi_logloss: 0.73472\n",
      "[272]\tvalid_0's auc_mu: 0.762012\tvalid_0's multi_logloss: 0.734751\n",
      "[273]\tvalid_0's auc_mu: 0.762351\tvalid_0's multi_logloss: 0.734583\n",
      "[274]\tvalid_0's auc_mu: 0.762553\tvalid_0's multi_logloss: 0.734423\n",
      "[275]\tvalid_0's auc_mu: 0.762864\tvalid_0's multi_logloss: 0.73428\n",
      "[276]\tvalid_0's auc_mu: 0.763006\tvalid_0's multi_logloss: 0.734253\n",
      "[277]\tvalid_0's auc_mu: 0.763242\tvalid_0's multi_logloss: 0.734042\n",
      "[278]\tvalid_0's auc_mu: 0.763089\tvalid_0's multi_logloss: 0.734137\n",
      "[279]\tvalid_0's auc_mu: 0.763069\tvalid_0's multi_logloss: 0.734151\n",
      "[280]\tvalid_0's auc_mu: 0.762862\tvalid_0's multi_logloss: 0.73435\n",
      "[281]\tvalid_0's auc_mu: 0.762794\tvalid_0's multi_logloss: 0.734431\n",
      "[282]\tvalid_0's auc_mu: 0.762774\tvalid_0's multi_logloss: 0.734436\n",
      "[283]\tvalid_0's auc_mu: 0.763059\tvalid_0's multi_logloss: 0.734231\n",
      "[284]\tvalid_0's auc_mu: 0.763099\tvalid_0's multi_logloss: 0.73416\n",
      "[285]\tvalid_0's auc_mu: 0.763323\tvalid_0's multi_logloss: 0.734097\n",
      "[286]\tvalid_0's auc_mu: 0.763612\tvalid_0's multi_logloss: 0.733698\n",
      "[287]\tvalid_0's auc_mu: 0.763554\tvalid_0's multi_logloss: 0.733771\n",
      "[288]\tvalid_0's auc_mu: 0.763657\tvalid_0's multi_logloss: 0.733758\n",
      "[289]\tvalid_0's auc_mu: 0.763604\tvalid_0's multi_logloss: 0.733857\n",
      "[290]\tvalid_0's auc_mu: 0.763642\tvalid_0's multi_logloss: 0.733869\n",
      "[291]\tvalid_0's auc_mu: 0.763838\tvalid_0's multi_logloss: 0.733684\n",
      "[292]\tvalid_0's auc_mu: 0.763706\tvalid_0's multi_logloss: 0.733806\n",
      "[293]\tvalid_0's auc_mu: 0.763882\tvalid_0's multi_logloss: 0.733705\n",
      "[294]\tvalid_0's auc_mu: 0.763722\tvalid_0's multi_logloss: 0.733903\n",
      "[295]\tvalid_0's auc_mu: 0.763734\tvalid_0's multi_logloss: 0.733904\n",
      "[296]\tvalid_0's auc_mu: 0.763758\tvalid_0's multi_logloss: 0.733955\n",
      "[297]\tvalid_0's auc_mu: 0.76393\tvalid_0's multi_logloss: 0.733822\n",
      "[298]\tvalid_0's auc_mu: 0.764314\tvalid_0's multi_logloss: 0.733557\n",
      "[299]\tvalid_0's auc_mu: 0.764104\tvalid_0's multi_logloss: 0.733668\n",
      "[300]\tvalid_0's auc_mu: 0.764001\tvalid_0's multi_logloss: 0.733827\n",
      "[301]\tvalid_0's auc_mu: 0.764134\tvalid_0's multi_logloss: 0.733754\n",
      "[302]\tvalid_0's auc_mu: 0.76407\tvalid_0's multi_logloss: 0.733888\n",
      "[303]\tvalid_0's auc_mu: 0.764212\tvalid_0's multi_logloss: 0.73383\n",
      "[304]\tvalid_0's auc_mu: 0.764445\tvalid_0's multi_logloss: 0.733602\n",
      "[305]\tvalid_0's auc_mu: 0.764658\tvalid_0's multi_logloss: 0.733335\n",
      "[306]\tvalid_0's auc_mu: 0.764809\tvalid_0's multi_logloss: 0.733342\n",
      "[307]\tvalid_0's auc_mu: 0.764923\tvalid_0's multi_logloss: 0.733226\n",
      "[308]\tvalid_0's auc_mu: 0.764862\tvalid_0's multi_logloss: 0.733297\n",
      "[309]\tvalid_0's auc_mu: 0.765039\tvalid_0's multi_logloss: 0.73328\n",
      "[310]\tvalid_0's auc_mu: 0.76502\tvalid_0's multi_logloss: 0.7334\n",
      "[311]\tvalid_0's auc_mu: 0.765031\tvalid_0's multi_logloss: 0.733474\n",
      "[312]\tvalid_0's auc_mu: 0.764936\tvalid_0's multi_logloss: 0.733505\n",
      "[313]\tvalid_0's auc_mu: 0.764879\tvalid_0's multi_logloss: 0.733515\n",
      "[314]\tvalid_0's auc_mu: 0.765009\tvalid_0's multi_logloss: 0.733428\n",
      "[315]\tvalid_0's auc_mu: 0.764851\tvalid_0's multi_logloss: 0.733664\n",
      "[316]\tvalid_0's auc_mu: 0.765145\tvalid_0's multi_logloss: 0.733414\n",
      "[317]\tvalid_0's auc_mu: 0.765185\tvalid_0's multi_logloss: 0.733279\n",
      "[318]\tvalid_0's auc_mu: 0.765204\tvalid_0's multi_logloss: 0.733295\n",
      "[319]\tvalid_0's auc_mu: 0.765469\tvalid_0's multi_logloss: 0.733091\n",
      "[320]\tvalid_0's auc_mu: 0.765546\tvalid_0's multi_logloss: 0.732994\n",
      "[321]\tvalid_0's auc_mu: 0.765624\tvalid_0's multi_logloss: 0.732924\n",
      "[322]\tvalid_0's auc_mu: 0.765549\tvalid_0's multi_logloss: 0.733112\n",
      "[323]\tvalid_0's auc_mu: 0.765662\tvalid_0's multi_logloss: 0.732953\n",
      "[324]\tvalid_0's auc_mu: 0.76562\tvalid_0's multi_logloss: 0.732995\n",
      "[325]\tvalid_0's auc_mu: 0.765788\tvalid_0's multi_logloss: 0.732937\n",
      "[326]\tvalid_0's auc_mu: 0.765841\tvalid_0's multi_logloss: 0.732905\n",
      "[327]\tvalid_0's auc_mu: 0.765974\tvalid_0's multi_logloss: 0.732817\n",
      "[328]\tvalid_0's auc_mu: 0.765868\tvalid_0's multi_logloss: 0.732947\n",
      "[329]\tvalid_0's auc_mu: 0.765917\tvalid_0's multi_logloss: 0.73283\n",
      "[330]\tvalid_0's auc_mu: 0.765938\tvalid_0's multi_logloss: 0.732818\n",
      "[331]\tvalid_0's auc_mu: 0.765875\tvalid_0's multi_logloss: 0.732886\n",
      "[332]\tvalid_0's auc_mu: 0.765889\tvalid_0's multi_logloss: 0.732928\n",
      "[333]\tvalid_0's auc_mu: 0.766207\tvalid_0's multi_logloss: 0.732722\n",
      "[334]\tvalid_0's auc_mu: 0.766361\tvalid_0's multi_logloss: 0.732611\n",
      "[335]\tvalid_0's auc_mu: 0.766354\tvalid_0's multi_logloss: 0.732566\n",
      "[336]\tvalid_0's auc_mu: 0.76661\tvalid_0's multi_logloss: 0.732346\n",
      "[337]\tvalid_0's auc_mu: 0.766746\tvalid_0's multi_logloss: 0.732358\n",
      "[338]\tvalid_0's auc_mu: 0.766616\tvalid_0's multi_logloss: 0.732457\n",
      "[339]\tvalid_0's auc_mu: 0.766497\tvalid_0's multi_logloss: 0.732599\n",
      "[340]\tvalid_0's auc_mu: 0.766375\tvalid_0's multi_logloss: 0.732638\n",
      "[341]\tvalid_0's auc_mu: 0.766494\tvalid_0's multi_logloss: 0.732375\n",
      "[342]\tvalid_0's auc_mu: 0.766624\tvalid_0's multi_logloss: 0.73226\n",
      "[343]\tvalid_0's auc_mu: 0.766667\tvalid_0's multi_logloss: 0.732231\n",
      "[344]\tvalid_0's auc_mu: 0.766823\tvalid_0's multi_logloss: 0.732255\n",
      "[345]\tvalid_0's auc_mu: 0.767163\tvalid_0's multi_logloss: 0.731978\n",
      "[346]\tvalid_0's auc_mu: 0.767158\tvalid_0's multi_logloss: 0.731924\n",
      "[347]\tvalid_0's auc_mu: 0.767205\tvalid_0's multi_logloss: 0.731918\n",
      "[348]\tvalid_0's auc_mu: 0.767424\tvalid_0's multi_logloss: 0.731711\n",
      "[349]\tvalid_0's auc_mu: 0.767508\tvalid_0's multi_logloss: 0.731671\n",
      "[350]\tvalid_0's auc_mu: 0.76742\tvalid_0's multi_logloss: 0.731704\n",
      "[351]\tvalid_0's auc_mu: 0.767565\tvalid_0's multi_logloss: 0.731581\n",
      "[352]\tvalid_0's auc_mu: 0.76742\tvalid_0's multi_logloss: 0.731732\n",
      "[353]\tvalid_0's auc_mu: 0.767597\tvalid_0's multi_logloss: 0.731614\n",
      "[354]\tvalid_0's auc_mu: 0.767681\tvalid_0's multi_logloss: 0.731665\n",
      "[355]\tvalid_0's auc_mu: 0.767864\tvalid_0's multi_logloss: 0.731583\n",
      "[356]\tvalid_0's auc_mu: 0.767638\tvalid_0's multi_logloss: 0.731665\n",
      "[357]\tvalid_0's auc_mu: 0.767783\tvalid_0's multi_logloss: 0.731631\n",
      "[358]\tvalid_0's auc_mu: 0.768068\tvalid_0's multi_logloss: 0.731464\n",
      "[359]\tvalid_0's auc_mu: 0.767903\tvalid_0's multi_logloss: 0.731673\n",
      "[360]\tvalid_0's auc_mu: 0.767952\tvalid_0's multi_logloss: 0.731673\n",
      "[361]\tvalid_0's auc_mu: 0.768036\tvalid_0's multi_logloss: 0.731626\n",
      "[362]\tvalid_0's auc_mu: 0.767973\tvalid_0's multi_logloss: 0.731749\n",
      "[363]\tvalid_0's auc_mu: 0.76791\tvalid_0's multi_logloss: 0.731804\n",
      "[364]\tvalid_0's auc_mu: 0.768169\tvalid_0's multi_logloss: 0.731658\n",
      "[365]\tvalid_0's auc_mu: 0.7682\tvalid_0's multi_logloss: 0.731652\n",
      "[366]\tvalid_0's auc_mu: 0.76832\tvalid_0's multi_logloss: 0.731609\n",
      "[367]\tvalid_0's auc_mu: 0.768212\tvalid_0's multi_logloss: 0.731702\n",
      "[368]\tvalid_0's auc_mu: 0.768186\tvalid_0's multi_logloss: 0.731732\n",
      "[369]\tvalid_0's auc_mu: 0.768195\tvalid_0's multi_logloss: 0.731732\n",
      "[370]\tvalid_0's auc_mu: 0.768224\tvalid_0's multi_logloss: 0.731784\n",
      "[371]\tvalid_0's auc_mu: 0.768218\tvalid_0's multi_logloss: 0.731787\n",
      "[372]\tvalid_0's auc_mu: 0.768191\tvalid_0's multi_logloss: 0.731852\n",
      "[373]\tvalid_0's auc_mu: 0.76823\tvalid_0's multi_logloss: 0.731835\n",
      "[374]\tvalid_0's auc_mu: 0.768279\tvalid_0's multi_logloss: 0.73189\n",
      "[375]\tvalid_0's auc_mu: 0.768278\tvalid_0's multi_logloss: 0.731893\n",
      "[376]\tvalid_0's auc_mu: 0.768073\tvalid_0's multi_logloss: 0.732099\n",
      "[377]\tvalid_0's auc_mu: 0.768274\tvalid_0's multi_logloss: 0.732064\n",
      "[378]\tvalid_0's auc_mu: 0.768342\tvalid_0's multi_logloss: 0.732119\n",
      "[379]\tvalid_0's auc_mu: 0.768478\tvalid_0's multi_logloss: 0.732084\n",
      "[380]\tvalid_0's auc_mu: 0.768496\tvalid_0's multi_logloss: 0.732069\n",
      "[381]\tvalid_0's auc_mu: 0.768523\tvalid_0's multi_logloss: 0.732174\n"
     ]
    },
    {
     "name": "stdout",
     "output_type": "stream",
     "text": [
      "[382]\tvalid_0's auc_mu: 0.768342\tvalid_0's multi_logloss: 0.732262\n",
      "[383]\tvalid_0's auc_mu: 0.768424\tvalid_0's multi_logloss: 0.732177\n",
      "[384]\tvalid_0's auc_mu: 0.768509\tvalid_0's multi_logloss: 0.732108\n",
      "[385]\tvalid_0's auc_mu: 0.768464\tvalid_0's multi_logloss: 0.732205\n",
      "[386]\tvalid_0's auc_mu: 0.768242\tvalid_0's multi_logloss: 0.732448\n",
      "[387]\tvalid_0's auc_mu: 0.768285\tvalid_0's multi_logloss: 0.732439\n",
      "[388]\tvalid_0's auc_mu: 0.76834\tvalid_0's multi_logloss: 0.732414\n",
      "[389]\tvalid_0's auc_mu: 0.768314\tvalid_0's multi_logloss: 0.732509\n",
      "[390]\tvalid_0's auc_mu: 0.768132\tvalid_0's multi_logloss: 0.732671\n",
      "[391]\tvalid_0's auc_mu: 0.768202\tvalid_0's multi_logloss: 0.732705\n",
      "[392]\tvalid_0's auc_mu: 0.768348\tvalid_0's multi_logloss: 0.732485\n",
      "[393]\tvalid_0's auc_mu: 0.768433\tvalid_0's multi_logloss: 0.732576\n",
      "[394]\tvalid_0's auc_mu: 0.76832\tvalid_0's multi_logloss: 0.73253\n",
      "[395]\tvalid_0's auc_mu: 0.768491\tvalid_0's multi_logloss: 0.732474\n",
      "[396]\tvalid_0's auc_mu: 0.768788\tvalid_0's multi_logloss: 0.732214\n",
      "[397]\tvalid_0's auc_mu: 0.768694\tvalid_0's multi_logloss: 0.732345\n",
      "[398]\tvalid_0's auc_mu: 0.768772\tvalid_0's multi_logloss: 0.732353\n",
      "[399]\tvalid_0's auc_mu: 0.768629\tvalid_0's multi_logloss: 0.732513\n",
      "[400]\tvalid_0's auc_mu: 0.768746\tvalid_0's multi_logloss: 0.732534\n",
      "[401]\tvalid_0's auc_mu: 0.768597\tvalid_0's multi_logloss: 0.732732\n",
      "[402]\tvalid_0's auc_mu: 0.768754\tvalid_0's multi_logloss: 0.732652\n",
      "[403]\tvalid_0's auc_mu: 0.768938\tvalid_0's multi_logloss: 0.732559\n",
      "[404]\tvalid_0's auc_mu: 0.768914\tvalid_0's multi_logloss: 0.732593\n",
      "[405]\tvalid_0's auc_mu: 0.768884\tvalid_0's multi_logloss: 0.732601\n",
      "[406]\tvalid_0's auc_mu: 0.769022\tvalid_0's multi_logloss: 0.732532\n",
      "[407]\tvalid_0's auc_mu: 0.769157\tvalid_0's multi_logloss: 0.732431\n",
      "[408]\tvalid_0's auc_mu: 0.769239\tvalid_0's multi_logloss: 0.73239\n",
      "[409]\tvalid_0's auc_mu: 0.769328\tvalid_0's multi_logloss: 0.732417\n",
      "[410]\tvalid_0's auc_mu: 0.769368\tvalid_0's multi_logloss: 0.732491\n",
      "[411]\tvalid_0's auc_mu: 0.769361\tvalid_0's multi_logloss: 0.732501\n",
      "[412]\tvalid_0's auc_mu: 0.769336\tvalid_0's multi_logloss: 0.732701\n",
      "[413]\tvalid_0's auc_mu: 0.769544\tvalid_0's multi_logloss: 0.732508\n",
      "[414]\tvalid_0's auc_mu: 0.769645\tvalid_0's multi_logloss: 0.732562\n",
      "[415]\tvalid_0's auc_mu: 0.769929\tvalid_0's multi_logloss: 0.732403\n",
      "[416]\tvalid_0's auc_mu: 0.770115\tvalid_0's multi_logloss: 0.732264\n",
      "[417]\tvalid_0's auc_mu: 0.770264\tvalid_0's multi_logloss: 0.732172\n",
      "[418]\tvalid_0's auc_mu: 0.770179\tvalid_0's multi_logloss: 0.732251\n",
      "[419]\tvalid_0's auc_mu: 0.770166\tvalid_0's multi_logloss: 0.732223\n",
      "[420]\tvalid_0's auc_mu: 0.770224\tvalid_0's multi_logloss: 0.732216\n",
      "[421]\tvalid_0's auc_mu: 0.770298\tvalid_0's multi_logloss: 0.732174\n",
      "[422]\tvalid_0's auc_mu: 0.770195\tvalid_0's multi_logloss: 0.732301\n",
      "[423]\tvalid_0's auc_mu: 0.770234\tvalid_0's multi_logloss: 0.732314\n",
      "[424]\tvalid_0's auc_mu: 0.77013\tvalid_0's multi_logloss: 0.73231\n",
      "[425]\tvalid_0's auc_mu: 0.770017\tvalid_0's multi_logloss: 0.732433\n",
      "[426]\tvalid_0's auc_mu: 0.770024\tvalid_0's multi_logloss: 0.732466\n",
      "[427]\tvalid_0's auc_mu: 0.769974\tvalid_0's multi_logloss: 0.732516\n",
      "[428]\tvalid_0's auc_mu: 0.769986\tvalid_0's multi_logloss: 0.732502\n",
      "[429]\tvalid_0's auc_mu: 0.770243\tvalid_0's multi_logloss: 0.732408\n",
      "[430]\tvalid_0's auc_mu: 0.770109\tvalid_0's multi_logloss: 0.732569\n",
      "[431]\tvalid_0's auc_mu: 0.770091\tvalid_0's multi_logloss: 0.732644\n",
      "[432]\tvalid_0's auc_mu: 0.770009\tvalid_0's multi_logloss: 0.732748\n",
      "[433]\tvalid_0's auc_mu: 0.769941\tvalid_0's multi_logloss: 0.732826\n",
      "[434]\tvalid_0's auc_mu: 0.769815\tvalid_0's multi_logloss: 0.732866\n",
      "[435]\tvalid_0's auc_mu: 0.769807\tvalid_0's multi_logloss: 0.732921\n",
      "[436]\tvalid_0's auc_mu: 0.769833\tvalid_0's multi_logloss: 0.732883\n",
      "[437]\tvalid_0's auc_mu: 0.769898\tvalid_0's multi_logloss: 0.732877\n",
      "[438]\tvalid_0's auc_mu: 0.770058\tvalid_0's multi_logloss: 0.732774\n",
      "[439]\tvalid_0's auc_mu: 0.770181\tvalid_0's multi_logloss: 0.732706\n",
      "[440]\tvalid_0's auc_mu: 0.770184\tvalid_0's multi_logloss: 0.732671\n",
      "[441]\tvalid_0's auc_mu: 0.769984\tvalid_0's multi_logloss: 0.732926\n",
      "[442]\tvalid_0's auc_mu: 0.769998\tvalid_0's multi_logloss: 0.733013\n",
      "[443]\tvalid_0's auc_mu: 0.770066\tvalid_0's multi_logloss: 0.732974\n",
      "[444]\tvalid_0's auc_mu: 0.770004\tvalid_0's multi_logloss: 0.73306\n",
      "[445]\tvalid_0's auc_mu: 0.770106\tvalid_0's multi_logloss: 0.733095\n",
      "[446]\tvalid_0's auc_mu: 0.770265\tvalid_0's multi_logloss: 0.732919\n",
      "[447]\tvalid_0's auc_mu: 0.770213\tvalid_0's multi_logloss: 0.733025\n",
      "[448]\tvalid_0's auc_mu: 0.770103\tvalid_0's multi_logloss: 0.733131\n",
      "[449]\tvalid_0's auc_mu: 0.770149\tvalid_0's multi_logloss: 0.733065\n",
      "[450]\tvalid_0's auc_mu: 0.770319\tvalid_0's multi_logloss: 0.733059\n",
      "[451]\tvalid_0's auc_mu: 0.7704\tvalid_0's multi_logloss: 0.732976\n",
      "[452]\tvalid_0's auc_mu: 0.770352\tvalid_0's multi_logloss: 0.733018\n",
      "[453]\tvalid_0's auc_mu: 0.770292\tvalid_0's multi_logloss: 0.733153\n",
      "[454]\tvalid_0's auc_mu: 0.770263\tvalid_0's multi_logloss: 0.73317\n",
      "[455]\tvalid_0's auc_mu: 0.770417\tvalid_0's multi_logloss: 0.733027\n",
      "[456]\tvalid_0's auc_mu: 0.770506\tvalid_0's multi_logloss: 0.733133\n",
      "[457]\tvalid_0's auc_mu: 0.770711\tvalid_0's multi_logloss: 0.732972\n",
      "[458]\tvalid_0's auc_mu: 0.770716\tvalid_0's multi_logloss: 0.733038\n",
      "Early stopping, best iteration is:\n",
      "[358]\tvalid_0's auc_mu: 0.768068\tvalid_0's multi_logloss: 0.731464\n",
      "{'colsample_bytree': 0.7, 'learning_rate': 0.1, 'max_depth': 14, 'min_child_samples': 14, 'n_estimators': 500, 'num_leaves': 34, 'subsample': 0.8}\n",
      "0.7090343247782636\n"
     ]
    }
   ],
   "source": [
    "cv_method = KFold(n_splits=5)\n",
    "\n",
    "params = {'n_estimators':[500],\n",
    "          'max_depth': [14,16],\n",
    "          'learning_rate':[0.1],\n",
    "          'num_leaves':[34,36],\n",
    "          'min_child_samples': [12,14],\n",
    "          'subsample': [0.8],\n",
    "         'colsample_bytree':[0.7,0.8]\n",
    "         }\n",
    "\n",
    "lgbm_grid_cv = GridSearchCV(lgbm_clf, param_grid=params, cv=cv_method, verbose=True, n_jobs=-1)\n",
    "lgbm_grid_cv.fit(X_train, y_train, early_stopping_rounds=100, eval_metric='auc_mu',\n",
    "         eval_set=[(X_test, y_test)])\n",
    "\n",
    "print(lgbm_grid_cv.best_params_)\n",
    "print(lgbm_grid_cv.best_score_)"
   ]
  },
  {
   "cell_type": "markdown",
   "metadata": {},
   "source": [
    "### 최종 모델 XGBoost의 변수 중요도"
   ]
  },
  {
   "cell_type": "code",
   "execution_count": 294,
   "metadata": {},
   "outputs": [
    {
     "data": {
      "text/plain": [
       "<AxesSubplot:title={'center':'Feature importance'}, xlabel='F score', ylabel='Features'>"
      ]
     },
     "execution_count": 294,
     "metadata": {},
     "output_type": "execute_result"
    },
    {
     "data": {
      "image/png": "[encoded data removed]",
      "text/plain": [
       "<Figure size 720x576 with 1 Axes>"
      ]
     },
     "metadata": {},
     "output_type": "display_data"
    }
   ],
   "source": [
    "fig, ax = plt.subplots(1, 1, figsize=(10,8))\n",
    "plot_importance(xgb_clf, ax=ax, max_num_features=15, height=0.4)"
   ]
  },
  {
   "cell_type": "code",
   "execution_count": null,
   "metadata": {},
   "outputs": [],
   "source": []
  },
  {
   "cell_type": "code",
   "execution_count": null,
   "metadata": {},
   "outputs": [],
   "source": []
  },
  {
   "cell_type": "code",
   "execution_count": null,
   "metadata": {},
   "outputs": [],
   "source": []
  },
  {
   "cell_type": "code",
   "execution_count": null,
   "metadata": {},
   "outputs": [],
   "source": []
  },
  {
   "cell_type": "code",
   "execution_count": null,
   "metadata": {},
   "outputs": [],
   "source": []
  },
  {
   "cell_type": "code",
   "execution_count": null,
   "metadata": {},
   "outputs": [],
   "source": []
  },
  {
   "cell_type": "code",
   "execution_count": null,
   "metadata": {},
   "outputs": [],
   "source": []
  }
 ],
 "metadata": {
  "kernelspec": {
   "display_name": "Python 3",
   "language": "python",
   "name": "python3"
  },
  "language_info": {
   "codemirror_mode": {
    "name": "ipython",
    "version": 3
   },
   "file_extension": ".py",
   "mimetype": "text/x-python",
   "name": "python",
   "nbconvert_exporter": "python",
   "pygments_lexer": "ipython3",
   "version": "3.7.9"
  }
 },
 "nbformat": 4,
 "nbformat_minor": 5
}
