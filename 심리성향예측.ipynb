{
 "cells": [
  {
   "cell_type": "code",
   "execution_count": 495,
   "metadata": {},
   "outputs": [],
   "source": [
    "import numpy as np\n",
    "import pandas as pd \n",
    "import matplotlib.pyplot as plt\n",
    "%matplotlib inline\n",
    "import seaborn as sns\n",
    "from IPython.display import Image\n",
    "import pandas_profiling\n"
   ]
  },
  {
   "cell_type": "code",
   "execution_count": 496,
   "metadata": {},
   "outputs": [],
   "source": [
    "from sklearn.model_selection import train_test_split\n",
    "from sklearn.metrics import *\n",
    "from sklearn import preprocessing\n",
    "from sklearn.preprocessing import StandardScaler\n",
    "label_encoder = preprocessing.LabelEncoder()\n",
    "from xgboost import plot_importance\n",
    "from bayes_opt import BayesianOptimization\n",
    "from sklearn.model_selection import GridSearchCV\n",
    "from sklearn.model_selection import KFold"
   ]
  },
  {
   "cell_type": "code",
   "execution_count": 497,
   "metadata": {},
   "outputs": [],
   "source": [
    "from sklearn.tree import DecisionTreeClassifier\n",
    "from sklearn.ensemble import RandomForestClassifier\n",
    "from sklearn.ensemble import GradientBoostingClassifier\n",
    "from xgboost import XGBClassifier\n",
    "from lightgbm import LGBMClassifier\n",
    "from catboost import CatBoostClassifier\n",
    "from sklearn.linear_model import LogisticRegression"
   ]
  },
  {
   "cell_type": "code",
   "execution_count": 498,
   "metadata": {},
   "outputs": [],
   "source": [
    "sample_submission = pd.read_csv('sample_submission.csv')"
   ]
  },
  {
   "cell_type": "code",
   "execution_count": 499,
   "metadata": {},
   "outputs": [],
   "source": [
    "train = pd.read_csv('train.csv')\n",
    "test = pd.read_csv('test_x.csv')"
   ]
  },
  {
   "cell_type": "code",
   "execution_count": 500,
   "metadata": {
    "scrolled": false
   },
   "outputs": [
    {
     "data": {
      "text/html": [
       "<div>\n",
       "<style scoped>\n",
       "    .dataframe tbody tr th:only-of-type {\n",
       "        vertical-align: middle;\n",
       "    }\n",
       "\n",
       "    .dataframe tbody tr th {\n",
       "        vertical-align: top;\n",
       "    }\n",
       "\n",
       "    .dataframe thead th {\n",
       "        text-align: right;\n",
       "    }\n",
       "</style>\n",
       "<table border=\"1\" class=\"dataframe\">\n",
       "  <thead>\n",
       "    <tr style=\"text-align: right;\">\n",
       "      <th></th>\n",
       "      <th>index</th>\n",
       "      <th>QaA</th>\n",
       "      <th>QaE</th>\n",
       "      <th>QbA</th>\n",
       "      <th>QbE</th>\n",
       "      <th>QcA</th>\n",
       "      <th>QcE</th>\n",
       "      <th>QdA</th>\n",
       "      <th>QdE</th>\n",
       "      <th>QeA</th>\n",
       "      <th>...</th>\n",
       "      <th>wr_04</th>\n",
       "      <th>wr_05</th>\n",
       "      <th>wr_06</th>\n",
       "      <th>wr_07</th>\n",
       "      <th>wr_08</th>\n",
       "      <th>wr_09</th>\n",
       "      <th>wr_10</th>\n",
       "      <th>wr_11</th>\n",
       "      <th>wr_12</th>\n",
       "      <th>wr_13</th>\n",
       "    </tr>\n",
       "  </thead>\n",
       "  <tbody>\n",
       "    <tr>\n",
       "      <th>0</th>\n",
       "      <td>0</td>\n",
       "      <td>3.0</td>\n",
       "      <td>363</td>\n",
       "      <td>4.0</td>\n",
       "      <td>1370</td>\n",
       "      <td>5.0</td>\n",
       "      <td>997</td>\n",
       "      <td>1.0</td>\n",
       "      <td>1024</td>\n",
       "      <td>2.0</td>\n",
       "      <td>...</td>\n",
       "      <td>0</td>\n",
       "      <td>1</td>\n",
       "      <td>0</td>\n",
       "      <td>1</td>\n",
       "      <td>1</td>\n",
       "      <td>0</td>\n",
       "      <td>1</td>\n",
       "      <td>0</td>\n",
       "      <td>1</td>\n",
       "      <td>1</td>\n",
       "    </tr>\n",
       "    <tr>\n",
       "      <th>1</th>\n",
       "      <td>1</td>\n",
       "      <td>5.0</td>\n",
       "      <td>647</td>\n",
       "      <td>5.0</td>\n",
       "      <td>1313</td>\n",
       "      <td>3.0</td>\n",
       "      <td>3387</td>\n",
       "      <td>5.0</td>\n",
       "      <td>2969</td>\n",
       "      <td>1.0</td>\n",
       "      <td>...</td>\n",
       "      <td>1</td>\n",
       "      <td>1</td>\n",
       "      <td>0</td>\n",
       "      <td>1</td>\n",
       "      <td>1</td>\n",
       "      <td>0</td>\n",
       "      <td>1</td>\n",
       "      <td>0</td>\n",
       "      <td>1</td>\n",
       "      <td>1</td>\n",
       "    </tr>\n",
       "    <tr>\n",
       "      <th>2</th>\n",
       "      <td>2</td>\n",
       "      <td>4.0</td>\n",
       "      <td>1623</td>\n",
       "      <td>1.0</td>\n",
       "      <td>1480</td>\n",
       "      <td>1.0</td>\n",
       "      <td>1021</td>\n",
       "      <td>4.0</td>\n",
       "      <td>3374</td>\n",
       "      <td>5.0</td>\n",
       "      <td>...</td>\n",
       "      <td>1</td>\n",
       "      <td>1</td>\n",
       "      <td>0</td>\n",
       "      <td>1</td>\n",
       "      <td>1</td>\n",
       "      <td>1</td>\n",
       "      <td>1</td>\n",
       "      <td>0</td>\n",
       "      <td>1</td>\n",
       "      <td>1</td>\n",
       "    </tr>\n",
       "    <tr>\n",
       "      <th>3</th>\n",
       "      <td>3</td>\n",
       "      <td>3.0</td>\n",
       "      <td>504</td>\n",
       "      <td>3.0</td>\n",
       "      <td>2311</td>\n",
       "      <td>4.0</td>\n",
       "      <td>992</td>\n",
       "      <td>3.0</td>\n",
       "      <td>3245</td>\n",
       "      <td>1.0</td>\n",
       "      <td>...</td>\n",
       "      <td>0</td>\n",
       "      <td>0</td>\n",
       "      <td>0</td>\n",
       "      <td>0</td>\n",
       "      <td>1</td>\n",
       "      <td>0</td>\n",
       "      <td>1</td>\n",
       "      <td>0</td>\n",
       "      <td>1</td>\n",
       "      <td>1</td>\n",
       "    </tr>\n",
       "    <tr>\n",
       "      <th>4</th>\n",
       "      <td>4</td>\n",
       "      <td>1.0</td>\n",
       "      <td>927</td>\n",
       "      <td>1.0</td>\n",
       "      <td>707</td>\n",
       "      <td>5.0</td>\n",
       "      <td>556</td>\n",
       "      <td>2.0</td>\n",
       "      <td>1062</td>\n",
       "      <td>1.0</td>\n",
       "      <td>...</td>\n",
       "      <td>1</td>\n",
       "      <td>1</td>\n",
       "      <td>1</td>\n",
       "      <td>1</td>\n",
       "      <td>1</td>\n",
       "      <td>0</td>\n",
       "      <td>1</td>\n",
       "      <td>1</td>\n",
       "      <td>1</td>\n",
       "      <td>1</td>\n",
       "    </tr>\n",
       "    <tr>\n",
       "      <th>...</th>\n",
       "      <td>...</td>\n",
       "      <td>...</td>\n",
       "      <td>...</td>\n",
       "      <td>...</td>\n",
       "      <td>...</td>\n",
       "      <td>...</td>\n",
       "      <td>...</td>\n",
       "      <td>...</td>\n",
       "      <td>...</td>\n",
       "      <td>...</td>\n",
       "      <td>...</td>\n",
       "      <td>...</td>\n",
       "      <td>...</td>\n",
       "      <td>...</td>\n",
       "      <td>...</td>\n",
       "      <td>...</td>\n",
       "      <td>...</td>\n",
       "      <td>...</td>\n",
       "      <td>...</td>\n",
       "      <td>...</td>\n",
       "      <td>...</td>\n",
       "    </tr>\n",
       "    <tr>\n",
       "      <th>45527</th>\n",
       "      <td>45527</td>\n",
       "      <td>2.0</td>\n",
       "      <td>1050</td>\n",
       "      <td>5.0</td>\n",
       "      <td>619</td>\n",
       "      <td>4.0</td>\n",
       "      <td>328</td>\n",
       "      <td>1.0</td>\n",
       "      <td>285</td>\n",
       "      <td>1.0</td>\n",
       "      <td>...</td>\n",
       "      <td>1</td>\n",
       "      <td>1</td>\n",
       "      <td>0</td>\n",
       "      <td>1</td>\n",
       "      <td>1</td>\n",
       "      <td>1</td>\n",
       "      <td>1</td>\n",
       "      <td>0</td>\n",
       "      <td>1</td>\n",
       "      <td>1</td>\n",
       "    </tr>\n",
       "    <tr>\n",
       "      <th>45528</th>\n",
       "      <td>45528</td>\n",
       "      <td>2.0</td>\n",
       "      <td>581</td>\n",
       "      <td>3.0</td>\n",
       "      <td>1353</td>\n",
       "      <td>4.0</td>\n",
       "      <td>1164</td>\n",
       "      <td>1.0</td>\n",
       "      <td>798</td>\n",
       "      <td>3.0</td>\n",
       "      <td>...</td>\n",
       "      <td>1</td>\n",
       "      <td>1</td>\n",
       "      <td>0</td>\n",
       "      <td>1</td>\n",
       "      <td>1</td>\n",
       "      <td>1</td>\n",
       "      <td>1</td>\n",
       "      <td>0</td>\n",
       "      <td>1</td>\n",
       "      <td>1</td>\n",
       "    </tr>\n",
       "    <tr>\n",
       "      <th>45529</th>\n",
       "      <td>45529</td>\n",
       "      <td>4.0</td>\n",
       "      <td>593</td>\n",
       "      <td>1.0</td>\n",
       "      <td>857</td>\n",
       "      <td>1.0</td>\n",
       "      <td>1047</td>\n",
       "      <td>4.0</td>\n",
       "      <td>1515</td>\n",
       "      <td>5.0</td>\n",
       "      <td>...</td>\n",
       "      <td>1</td>\n",
       "      <td>1</td>\n",
       "      <td>0</td>\n",
       "      <td>1</td>\n",
       "      <td>1</td>\n",
       "      <td>0</td>\n",
       "      <td>1</td>\n",
       "      <td>0</td>\n",
       "      <td>1</td>\n",
       "      <td>1</td>\n",
       "    </tr>\n",
       "    <tr>\n",
       "      <th>45530</th>\n",
       "      <td>45530</td>\n",
       "      <td>1.0</td>\n",
       "      <td>747</td>\n",
       "      <td>3.0</td>\n",
       "      <td>1331</td>\n",
       "      <td>4.0</td>\n",
       "      <td>892</td>\n",
       "      <td>2.0</td>\n",
       "      <td>1281</td>\n",
       "      <td>1.0</td>\n",
       "      <td>...</td>\n",
       "      <td>1</td>\n",
       "      <td>1</td>\n",
       "      <td>0</td>\n",
       "      <td>1</td>\n",
       "      <td>1</td>\n",
       "      <td>1</td>\n",
       "      <td>1</td>\n",
       "      <td>0</td>\n",
       "      <td>1</td>\n",
       "      <td>1</td>\n",
       "    </tr>\n",
       "    <tr>\n",
       "      <th>45531</th>\n",
       "      <td>45531</td>\n",
       "      <td>3.0</td>\n",
       "      <td>496</td>\n",
       "      <td>5.0</td>\n",
       "      <td>1827</td>\n",
       "      <td>5.0</td>\n",
       "      <td>754</td>\n",
       "      <td>3.0</td>\n",
       "      <td>1117</td>\n",
       "      <td>1.0</td>\n",
       "      <td>...</td>\n",
       "      <td>1</td>\n",
       "      <td>1</td>\n",
       "      <td>0</td>\n",
       "      <td>1</td>\n",
       "      <td>1</td>\n",
       "      <td>0</td>\n",
       "      <td>1</td>\n",
       "      <td>0</td>\n",
       "      <td>1</td>\n",
       "      <td>1</td>\n",
       "    </tr>\n",
       "  </tbody>\n",
       "</table>\n",
       "<p>45532 rows × 78 columns</p>\n",
       "</div>"
      ],
      "text/plain": [
       "       index  QaA   QaE  QbA   QbE  QcA   QcE  QdA   QdE  QeA  ...  wr_04  \\\n",
       "0          0  3.0   363  4.0  1370  5.0   997  1.0  1024  2.0  ...      0   \n",
       "1          1  5.0   647  5.0  1313  3.0  3387  5.0  2969  1.0  ...      1   \n",
       "2          2  4.0  1623  1.0  1480  1.0  1021  4.0  3374  5.0  ...      1   \n",
       "3          3  3.0   504  3.0  2311  4.0   992  3.0  3245  1.0  ...      0   \n",
       "4          4  1.0   927  1.0   707  5.0   556  2.0  1062  1.0  ...      1   \n",
       "...      ...  ...   ...  ...   ...  ...   ...  ...   ...  ...  ...    ...   \n",
       "45527  45527  2.0  1050  5.0   619  4.0   328  1.0   285  1.0  ...      1   \n",
       "45528  45528  2.0   581  3.0  1353  4.0  1164  1.0   798  3.0  ...      1   \n",
       "45529  45529  4.0   593  1.0   857  1.0  1047  4.0  1515  5.0  ...      1   \n",
       "45530  45530  1.0   747  3.0  1331  4.0   892  2.0  1281  1.0  ...      1   \n",
       "45531  45531  3.0   496  5.0  1827  5.0   754  3.0  1117  1.0  ...      1   \n",
       "\n",
       "       wr_05  wr_06  wr_07  wr_08  wr_09  wr_10  wr_11  wr_12  wr_13  \n",
       "0          1      0      1      1      0      1      0      1      1  \n",
       "1          1      0      1      1      0      1      0      1      1  \n",
       "2          1      0      1      1      1      1      0      1      1  \n",
       "3          0      0      0      1      0      1      0      1      1  \n",
       "4          1      1      1      1      0      1      1      1      1  \n",
       "...      ...    ...    ...    ...    ...    ...    ...    ...    ...  \n",
       "45527      1      0      1      1      1      1      0      1      1  \n",
       "45528      1      0      1      1      1      1      0      1      1  \n",
       "45529      1      0      1      1      0      1      0      1      1  \n",
       "45530      1      0      1      1      1      1      0      1      1  \n",
       "45531      1      0      1      1      0      1      0      1      1  \n",
       "\n",
       "[45532 rows x 78 columns]"
      ]
     },
     "execution_count": 500,
     "metadata": {},
     "output_type": "execute_result"
    }
   ],
   "source": [
    "train"
   ]
  },
  {
   "cell_type": "code",
   "execution_count": 501,
   "metadata": {},
   "outputs": [
    {
     "data": {
      "text/html": [
       "<div>\n",
       "<style scoped>\n",
       "    .dataframe tbody tr th:only-of-type {\n",
       "        vertical-align: middle;\n",
       "    }\n",
       "\n",
       "    .dataframe tbody tr th {\n",
       "        vertical-align: top;\n",
       "    }\n",
       "\n",
       "    .dataframe thead th {\n",
       "        text-align: right;\n",
       "    }\n",
       "</style>\n",
       "<table border=\"1\" class=\"dataframe\">\n",
       "  <thead>\n",
       "    <tr style=\"text-align: right;\">\n",
       "      <th></th>\n",
       "      <th>index</th>\n",
       "      <th>QaA</th>\n",
       "      <th>QaE</th>\n",
       "      <th>QbA</th>\n",
       "      <th>QbE</th>\n",
       "      <th>QcA</th>\n",
       "      <th>QcE</th>\n",
       "      <th>QdA</th>\n",
       "      <th>QdE</th>\n",
       "      <th>QeA</th>\n",
       "      <th>...</th>\n",
       "      <th>wr_04</th>\n",
       "      <th>wr_05</th>\n",
       "      <th>wr_06</th>\n",
       "      <th>wr_07</th>\n",
       "      <th>wr_08</th>\n",
       "      <th>wr_09</th>\n",
       "      <th>wr_10</th>\n",
       "      <th>wr_11</th>\n",
       "      <th>wr_12</th>\n",
       "      <th>wr_13</th>\n",
       "    </tr>\n",
       "  </thead>\n",
       "  <tbody>\n",
       "    <tr>\n",
       "      <th>0</th>\n",
       "      <td>0</td>\n",
       "      <td>3.0</td>\n",
       "      <td>736</td>\n",
       "      <td>2.0</td>\n",
       "      <td>2941</td>\n",
       "      <td>3.0</td>\n",
       "      <td>4621</td>\n",
       "      <td>1.0</td>\n",
       "      <td>4857</td>\n",
       "      <td>2.0</td>\n",
       "      <td>...</td>\n",
       "      <td>0</td>\n",
       "      <td>1</td>\n",
       "      <td>0</td>\n",
       "      <td>0</td>\n",
       "      <td>1</td>\n",
       "      <td>0</td>\n",
       "      <td>1</td>\n",
       "      <td>0</td>\n",
       "      <td>1</td>\n",
       "      <td>1</td>\n",
       "    </tr>\n",
       "    <tr>\n",
       "      <th>1</th>\n",
       "      <td>1</td>\n",
       "      <td>3.0</td>\n",
       "      <td>514</td>\n",
       "      <td>2.0</td>\n",
       "      <td>1952</td>\n",
       "      <td>3.0</td>\n",
       "      <td>1552</td>\n",
       "      <td>3.0</td>\n",
       "      <td>821</td>\n",
       "      <td>4.0</td>\n",
       "      <td>...</td>\n",
       "      <td>0</td>\n",
       "      <td>0</td>\n",
       "      <td>0</td>\n",
       "      <td>0</td>\n",
       "      <td>0</td>\n",
       "      <td>0</td>\n",
       "      <td>0</td>\n",
       "      <td>0</td>\n",
       "      <td>0</td>\n",
       "      <td>0</td>\n",
       "    </tr>\n",
       "    <tr>\n",
       "      <th>2</th>\n",
       "      <td>2</td>\n",
       "      <td>3.0</td>\n",
       "      <td>500</td>\n",
       "      <td>2.0</td>\n",
       "      <td>2507</td>\n",
       "      <td>4.0</td>\n",
       "      <td>480</td>\n",
       "      <td>2.0</td>\n",
       "      <td>614</td>\n",
       "      <td>2.0</td>\n",
       "      <td>...</td>\n",
       "      <td>0</td>\n",
       "      <td>1</td>\n",
       "      <td>0</td>\n",
       "      <td>1</td>\n",
       "      <td>1</td>\n",
       "      <td>0</td>\n",
       "      <td>1</td>\n",
       "      <td>0</td>\n",
       "      <td>1</td>\n",
       "      <td>1</td>\n",
       "    </tr>\n",
       "    <tr>\n",
       "      <th>3</th>\n",
       "      <td>3</td>\n",
       "      <td>1.0</td>\n",
       "      <td>669</td>\n",
       "      <td>1.0</td>\n",
       "      <td>1050</td>\n",
       "      <td>5.0</td>\n",
       "      <td>1435</td>\n",
       "      <td>2.0</td>\n",
       "      <td>2252</td>\n",
       "      <td>5.0</td>\n",
       "      <td>...</td>\n",
       "      <td>1</td>\n",
       "      <td>1</td>\n",
       "      <td>1</td>\n",
       "      <td>1</td>\n",
       "      <td>1</td>\n",
       "      <td>1</td>\n",
       "      <td>1</td>\n",
       "      <td>1</td>\n",
       "      <td>1</td>\n",
       "      <td>1</td>\n",
       "    </tr>\n",
       "    <tr>\n",
       "      <th>4</th>\n",
       "      <td>4</td>\n",
       "      <td>2.0</td>\n",
       "      <td>499</td>\n",
       "      <td>1.0</td>\n",
       "      <td>1243</td>\n",
       "      <td>5.0</td>\n",
       "      <td>845</td>\n",
       "      <td>2.0</td>\n",
       "      <td>1666</td>\n",
       "      <td>2.0</td>\n",
       "      <td>...</td>\n",
       "      <td>1</td>\n",
       "      <td>1</td>\n",
       "      <td>0</td>\n",
       "      <td>1</td>\n",
       "      <td>1</td>\n",
       "      <td>0</td>\n",
       "      <td>1</td>\n",
       "      <td>1</td>\n",
       "      <td>1</td>\n",
       "      <td>1</td>\n",
       "    </tr>\n",
       "    <tr>\n",
       "      <th>...</th>\n",
       "      <td>...</td>\n",
       "      <td>...</td>\n",
       "      <td>...</td>\n",
       "      <td>...</td>\n",
       "      <td>...</td>\n",
       "      <td>...</td>\n",
       "      <td>...</td>\n",
       "      <td>...</td>\n",
       "      <td>...</td>\n",
       "      <td>...</td>\n",
       "      <td>...</td>\n",
       "      <td>...</td>\n",
       "      <td>...</td>\n",
       "      <td>...</td>\n",
       "      <td>...</td>\n",
       "      <td>...</td>\n",
       "      <td>...</td>\n",
       "      <td>...</td>\n",
       "      <td>...</td>\n",
       "      <td>...</td>\n",
       "      <td>...</td>\n",
       "    </tr>\n",
       "    <tr>\n",
       "      <th>11378</th>\n",
       "      <td>11378</td>\n",
       "      <td>5.0</td>\n",
       "      <td>427</td>\n",
       "      <td>5.0</td>\n",
       "      <td>1066</td>\n",
       "      <td>5.0</td>\n",
       "      <td>588</td>\n",
       "      <td>1.0</td>\n",
       "      <td>560</td>\n",
       "      <td>2.0</td>\n",
       "      <td>...</td>\n",
       "      <td>1</td>\n",
       "      <td>1</td>\n",
       "      <td>0</td>\n",
       "      <td>1</td>\n",
       "      <td>1</td>\n",
       "      <td>0</td>\n",
       "      <td>1</td>\n",
       "      <td>0</td>\n",
       "      <td>1</td>\n",
       "      <td>1</td>\n",
       "    </tr>\n",
       "    <tr>\n",
       "      <th>11379</th>\n",
       "      <td>11379</td>\n",
       "      <td>1.0</td>\n",
       "      <td>314</td>\n",
       "      <td>5.0</td>\n",
       "      <td>554</td>\n",
       "      <td>5.0</td>\n",
       "      <td>230</td>\n",
       "      <td>1.0</td>\n",
       "      <td>956</td>\n",
       "      <td>2.0</td>\n",
       "      <td>...</td>\n",
       "      <td>1</td>\n",
       "      <td>1</td>\n",
       "      <td>1</td>\n",
       "      <td>1</td>\n",
       "      <td>1</td>\n",
       "      <td>1</td>\n",
       "      <td>1</td>\n",
       "      <td>1</td>\n",
       "      <td>1</td>\n",
       "      <td>1</td>\n",
       "    </tr>\n",
       "    <tr>\n",
       "      <th>11380</th>\n",
       "      <td>11380</td>\n",
       "      <td>1.0</td>\n",
       "      <td>627</td>\n",
       "      <td>2.0</td>\n",
       "      <td>799</td>\n",
       "      <td>1.0</td>\n",
       "      <td>739</td>\n",
       "      <td>2.0</td>\n",
       "      <td>1123</td>\n",
       "      <td>1.0</td>\n",
       "      <td>...</td>\n",
       "      <td>1</td>\n",
       "      <td>1</td>\n",
       "      <td>0</td>\n",
       "      <td>1</td>\n",
       "      <td>1</td>\n",
       "      <td>0</td>\n",
       "      <td>1</td>\n",
       "      <td>0</td>\n",
       "      <td>1</td>\n",
       "      <td>1</td>\n",
       "    </tr>\n",
       "    <tr>\n",
       "      <th>11381</th>\n",
       "      <td>11381</td>\n",
       "      <td>2.0</td>\n",
       "      <td>539</td>\n",
       "      <td>1.0</td>\n",
       "      <td>2090</td>\n",
       "      <td>2.0</td>\n",
       "      <td>4642</td>\n",
       "      <td>1.0</td>\n",
       "      <td>673</td>\n",
       "      <td>2.0</td>\n",
       "      <td>...</td>\n",
       "      <td>1</td>\n",
       "      <td>0</td>\n",
       "      <td>0</td>\n",
       "      <td>1</td>\n",
       "      <td>1</td>\n",
       "      <td>0</td>\n",
       "      <td>1</td>\n",
       "      <td>1</td>\n",
       "      <td>1</td>\n",
       "      <td>0</td>\n",
       "    </tr>\n",
       "    <tr>\n",
       "      <th>11382</th>\n",
       "      <td>11382</td>\n",
       "      <td>2.0</td>\n",
       "      <td>541</td>\n",
       "      <td>4.0</td>\n",
       "      <td>900</td>\n",
       "      <td>5.0</td>\n",
       "      <td>691</td>\n",
       "      <td>2.0</td>\n",
       "      <td>1951</td>\n",
       "      <td>1.0</td>\n",
       "      <td>...</td>\n",
       "      <td>0</td>\n",
       "      <td>0</td>\n",
       "      <td>1</td>\n",
       "      <td>0</td>\n",
       "      <td>1</td>\n",
       "      <td>0</td>\n",
       "      <td>0</td>\n",
       "      <td>1</td>\n",
       "      <td>0</td>\n",
       "      <td>0</td>\n",
       "    </tr>\n",
       "  </tbody>\n",
       "</table>\n",
       "<p>11383 rows × 77 columns</p>\n",
       "</div>"
      ],
      "text/plain": [
       "       index  QaA  QaE  QbA   QbE  QcA   QcE  QdA   QdE  QeA  ...  wr_04  \\\n",
       "0          0  3.0  736  2.0  2941  3.0  4621  1.0  4857  2.0  ...      0   \n",
       "1          1  3.0  514  2.0  1952  3.0  1552  3.0   821  4.0  ...      0   \n",
       "2          2  3.0  500  2.0  2507  4.0   480  2.0   614  2.0  ...      0   \n",
       "3          3  1.0  669  1.0  1050  5.0  1435  2.0  2252  5.0  ...      1   \n",
       "4          4  2.0  499  1.0  1243  5.0   845  2.0  1666  2.0  ...      1   \n",
       "...      ...  ...  ...  ...   ...  ...   ...  ...   ...  ...  ...    ...   \n",
       "11378  11378  5.0  427  5.0  1066  5.0   588  1.0   560  2.0  ...      1   \n",
       "11379  11379  1.0  314  5.0   554  5.0   230  1.0   956  2.0  ...      1   \n",
       "11380  11380  1.0  627  2.0   799  1.0   739  2.0  1123  1.0  ...      1   \n",
       "11381  11381  2.0  539  1.0  2090  2.0  4642  1.0   673  2.0  ...      1   \n",
       "11382  11382  2.0  541  4.0   900  5.0   691  2.0  1951  1.0  ...      0   \n",
       "\n",
       "       wr_05  wr_06  wr_07  wr_08  wr_09  wr_10  wr_11  wr_12  wr_13  \n",
       "0          1      0      0      1      0      1      0      1      1  \n",
       "1          0      0      0      0      0      0      0      0      0  \n",
       "2          1      0      1      1      0      1      0      1      1  \n",
       "3          1      1      1      1      1      1      1      1      1  \n",
       "4          1      0      1      1      0      1      1      1      1  \n",
       "...      ...    ...    ...    ...    ...    ...    ...    ...    ...  \n",
       "11378      1      0      1      1      0      1      0      1      1  \n",
       "11379      1      1      1      1      1      1      1      1      1  \n",
       "11380      1      0      1      1      0      1      0      1      1  \n",
       "11381      0      0      1      1      0      1      1      1      0  \n",
       "11382      0      1      0      1      0      0      1      0      0  \n",
       "\n",
       "[11383 rows x 77 columns]"
      ]
     },
     "execution_count": 501,
     "metadata": {},
     "output_type": "execute_result"
    }
   ],
   "source": [
    "test"
   ]
  },
  {
   "cell_type": "code",
   "execution_count": 502,
   "metadata": {},
   "outputs": [
    {
     "data": {
      "text/html": [
       "<div>\n",
       "<style scoped>\n",
       "    .dataframe tbody tr th:only-of-type {\n",
       "        vertical-align: middle;\n",
       "    }\n",
       "\n",
       "    .dataframe tbody tr th {\n",
       "        vertical-align: top;\n",
       "    }\n",
       "\n",
       "    .dataframe thead th {\n",
       "        text-align: right;\n",
       "    }\n",
       "</style>\n",
       "<table border=\"1\" class=\"dataframe\">\n",
       "  <thead>\n",
       "    <tr style=\"text-align: right;\">\n",
       "      <th></th>\n",
       "      <th>count</th>\n",
       "      <th>mean</th>\n",
       "      <th>std</th>\n",
       "      <th>min</th>\n",
       "      <th>25%</th>\n",
       "      <th>50%</th>\n",
       "      <th>75%</th>\n",
       "      <th>max</th>\n",
       "    </tr>\n",
       "  </thead>\n",
       "  <tbody>\n",
       "    <tr>\n",
       "      <th>index</th>\n",
       "      <td>45532.0</td>\n",
       "      <td>22765.500000</td>\n",
       "      <td>13144.100565</td>\n",
       "      <td>0.0</td>\n",
       "      <td>11382.75</td>\n",
       "      <td>22765.5</td>\n",
       "      <td>34148.25</td>\n",
       "      <td>45531.0</td>\n",
       "    </tr>\n",
       "    <tr>\n",
       "      <th>QaA</th>\n",
       "      <td>45532.0</td>\n",
       "      <td>2.129535</td>\n",
       "      <td>1.196952</td>\n",
       "      <td>1.0</td>\n",
       "      <td>1.00</td>\n",
       "      <td>2.0</td>\n",
       "      <td>3.00</td>\n",
       "      <td>5.0</td>\n",
       "    </tr>\n",
       "    <tr>\n",
       "      <th>QaE</th>\n",
       "      <td>45532.0</td>\n",
       "      <td>945.357046</td>\n",
       "      <td>13075.648143</td>\n",
       "      <td>25.0</td>\n",
       "      <td>404.00</td>\n",
       "      <td>557.0</td>\n",
       "      <td>827.00</td>\n",
       "      <td>2413960.0</td>\n",
       "    </tr>\n",
       "    <tr>\n",
       "      <th>QbA</th>\n",
       "      <td>45532.0</td>\n",
       "      <td>2.904463</td>\n",
       "      <td>1.566142</td>\n",
       "      <td>1.0</td>\n",
       "      <td>1.00</td>\n",
       "      <td>3.0</td>\n",
       "      <td>4.00</td>\n",
       "      <td>5.0</td>\n",
       "    </tr>\n",
       "    <tr>\n",
       "      <th>QbE</th>\n",
       "      <td>45532.0</td>\n",
       "      <td>2189.588575</td>\n",
       "      <td>33510.265924</td>\n",
       "      <td>25.0</td>\n",
       "      <td>875.00</td>\n",
       "      <td>1218.0</td>\n",
       "      <td>1838.00</td>\n",
       "      <td>5580395.0</td>\n",
       "    </tr>\n",
       "    <tr>\n",
       "      <th>...</th>\n",
       "      <td>...</td>\n",
       "      <td>...</td>\n",
       "      <td>...</td>\n",
       "      <td>...</td>\n",
       "      <td>...</td>\n",
       "      <td>...</td>\n",
       "      <td>...</td>\n",
       "      <td>...</td>\n",
       "    </tr>\n",
       "    <tr>\n",
       "      <th>wr_09</th>\n",
       "      <td>45532.0</td>\n",
       "      <td>0.202824</td>\n",
       "      <td>0.402107</td>\n",
       "      <td>0.0</td>\n",
       "      <td>0.00</td>\n",
       "      <td>0.0</td>\n",
       "      <td>0.00</td>\n",
       "      <td>1.0</td>\n",
       "    </tr>\n",
       "    <tr>\n",
       "      <th>wr_10</th>\n",
       "      <td>45532.0</td>\n",
       "      <td>0.946104</td>\n",
       "      <td>0.225815</td>\n",
       "      <td>0.0</td>\n",
       "      <td>1.00</td>\n",
       "      <td>1.0</td>\n",
       "      <td>1.00</td>\n",
       "      <td>1.0</td>\n",
       "    </tr>\n",
       "    <tr>\n",
       "      <th>wr_11</th>\n",
       "      <td>45532.0</td>\n",
       "      <td>0.395195</td>\n",
       "      <td>0.488898</td>\n",
       "      <td>0.0</td>\n",
       "      <td>0.00</td>\n",
       "      <td>0.0</td>\n",
       "      <td>1.00</td>\n",
       "      <td>1.0</td>\n",
       "    </tr>\n",
       "    <tr>\n",
       "      <th>wr_12</th>\n",
       "      <td>45532.0</td>\n",
       "      <td>0.947729</td>\n",
       "      <td>0.222575</td>\n",
       "      <td>0.0</td>\n",
       "      <td>1.00</td>\n",
       "      <td>1.0</td>\n",
       "      <td>1.00</td>\n",
       "      <td>1.0</td>\n",
       "    </tr>\n",
       "    <tr>\n",
       "      <th>wr_13</th>\n",
       "      <td>45532.0</td>\n",
       "      <td>0.927040</td>\n",
       "      <td>0.260073</td>\n",
       "      <td>0.0</td>\n",
       "      <td>1.00</td>\n",
       "      <td>1.0</td>\n",
       "      <td>1.00</td>\n",
       "      <td>1.0</td>\n",
       "    </tr>\n",
       "  </tbody>\n",
       "</table>\n",
       "<p>74 rows × 8 columns</p>\n",
       "</div>"
      ],
      "text/plain": [
       "         count          mean           std   min       25%      50%       75%  \\\n",
       "index  45532.0  22765.500000  13144.100565   0.0  11382.75  22765.5  34148.25   \n",
       "QaA    45532.0      2.129535      1.196952   1.0      1.00      2.0      3.00   \n",
       "QaE    45532.0    945.357046  13075.648143  25.0    404.00    557.0    827.00   \n",
       "QbA    45532.0      2.904463      1.566142   1.0      1.00      3.0      4.00   \n",
       "QbE    45532.0   2189.588575  33510.265924  25.0    875.00   1218.0   1838.00   \n",
       "...        ...           ...           ...   ...       ...      ...       ...   \n",
       "wr_09  45532.0      0.202824      0.402107   0.0      0.00      0.0      0.00   \n",
       "wr_10  45532.0      0.946104      0.225815   0.0      1.00      1.0      1.00   \n",
       "wr_11  45532.0      0.395195      0.488898   0.0      0.00      0.0      1.00   \n",
       "wr_12  45532.0      0.947729      0.222575   0.0      1.00      1.0      1.00   \n",
       "wr_13  45532.0      0.927040      0.260073   0.0      1.00      1.0      1.00   \n",
       "\n",
       "             max  \n",
       "index    45531.0  \n",
       "QaA          5.0  \n",
       "QaE    2413960.0  \n",
       "QbA          5.0  \n",
       "QbE    5580395.0  \n",
       "...          ...  \n",
       "wr_09        1.0  \n",
       "wr_10        1.0  \n",
       "wr_11        1.0  \n",
       "wr_12        1.0  \n",
       "wr_13        1.0  \n",
       "\n",
       "[74 rows x 8 columns]"
      ]
     },
     "execution_count": 502,
     "metadata": {},
     "output_type": "execute_result"
    }
   ],
   "source": [
    "train.describe().T"
   ]
  },
  {
   "cell_type": "markdown",
   "metadata": {},
   "source": [
    "Qa : 비밀\n",
    "Qb : 대부분의 범죄자와 다른 사람들의 가장 큰 차이점은 범죄자 잡힐 정도로 어리 석다는 것입니다.\n",
    "Qc : 다른 사람을 완전히 신뢰하고있는 사람은 누구나 문제를 찾고 있습니다.\n",
    "Qd : 비밀\n",
    "Qe : P.T. Barnum은 매분마다 빠는 사람이 태어난다고 말한 것은 틀렸습니다.\n",
    "Qf : 다른 사람에게 거짓말을 하는 것은 변명의 여지가 없습니다.\n",
    "Qg : 비밀\n",
    "Qh : 대부분의 사람들은 재산을 잃는 것보다 부모의 죽음을 더 쉽게 잊는다.\n",
    "Qi : 비밀\n",
    "Qj : 누구에게나 악행은 있고 기회가 있을 때 나온다고 보는 것이 가장 안전하다.\n",
    "Qk : 대체로 중요하고 부정직한 것보다 겸손하고 정직한 것이 낫다.\n",
    "Ql : 비밀\n",
    "Qm : 여기저기서 코너를 자르지 않고는 앞서가기가 어렵습니다.\n",
    "Qn : 비밀\n",
    "Qo: 사람을 대하는 가장 좋은 방법은 그들이 듣고 싶은 말을 하는 것입니다.\n",
    "Qp : 비밀\n",
    "Qq : 대부분의 사람들은 기본적으로 착하고 친절합니다.\n",
    "Qr : 도덕적으로 옳다고 확신할 때만 조치를 취해야 합니다.\n",
    "Qs : 중요한 사람에게 아첨하는 것이 현명하다.\n",
    "Qt : 비밀\n",
    "1= 동의하지않음, 2=약간 동의하지않음, 3=보통, 4=약간 동의함, 5=동의함 "
   ]
  },
  {
   "cell_type": "code",
   "execution_count": 503,
   "metadata": {},
   "outputs": [
    {
     "name": "stdout",
     "output_type": "stream",
     "text": [
      "<class 'pandas.core.frame.DataFrame'>\n",
      "RangeIndex: 45532 entries, 0 to 45531\n",
      "Data columns (total 78 columns):\n",
      " #   Column      Non-Null Count  Dtype  \n",
      "---  ------      --------------  -----  \n",
      " 0   index       45532 non-null  int64  \n",
      " 1   QaA         45532 non-null  float64\n",
      " 2   QaE         45532 non-null  int64  \n",
      " 3   QbA         45532 non-null  float64\n",
      " 4   QbE         45532 non-null  int64  \n",
      " 5   QcA         45532 non-null  float64\n",
      " 6   QcE         45532 non-null  int64  \n",
      " 7   QdA         45532 non-null  float64\n",
      " 8   QdE         45532 non-null  int64  \n",
      " 9   QeA         45532 non-null  float64\n",
      " 10  QeE         45532 non-null  int64  \n",
      " 11  QfA         45532 non-null  float64\n",
      " 12  QfE         45532 non-null  int64  \n",
      " 13  QgA         45532 non-null  float64\n",
      " 14  QgE         45532 non-null  int64  \n",
      " 15  QhA         45532 non-null  float64\n",
      " 16  QhE         45532 non-null  int64  \n",
      " 17  QiA         45532 non-null  float64\n",
      " 18  QiE         45532 non-null  int64  \n",
      " 19  QjA         45532 non-null  float64\n",
      " 20  QjE         45532 non-null  int64  \n",
      " 21  QkA         45532 non-null  float64\n",
      " 22  QkE         45532 non-null  int64  \n",
      " 23  QlA         45532 non-null  float64\n",
      " 24  QlE         45532 non-null  int64  \n",
      " 25  QmA         45532 non-null  float64\n",
      " 26  QmE         45532 non-null  int64  \n",
      " 27  QnA         45532 non-null  float64\n",
      " 28  QnE         45532 non-null  int64  \n",
      " 29  QoA         45532 non-null  float64\n",
      " 30  QoE         45532 non-null  int64  \n",
      " 31  QpA         45532 non-null  float64\n",
      " 32  QpE         45532 non-null  int64  \n",
      " 33  QqA         45532 non-null  float64\n",
      " 34  QqE         45532 non-null  int64  \n",
      " 35  QrA         45532 non-null  float64\n",
      " 36  QrE         45532 non-null  int64  \n",
      " 37  QsA         45532 non-null  float64\n",
      " 38  QsE         45532 non-null  int64  \n",
      " 39  QtA         45532 non-null  float64\n",
      " 40  QtE         45532 non-null  int64  \n",
      " 41  age_group   45532 non-null  object \n",
      " 42  education   45532 non-null  int64  \n",
      " 43  engnat      45532 non-null  int64  \n",
      " 44  familysize  45532 non-null  int64  \n",
      " 45  gender      45532 non-null  object \n",
      " 46  hand        45532 non-null  int64  \n",
      " 47  married     45532 non-null  int64  \n",
      " 48  race        45532 non-null  object \n",
      " 49  religion    45532 non-null  object \n",
      " 50  tp01        45532 non-null  int64  \n",
      " 51  tp02        45532 non-null  int64  \n",
      " 52  tp03        45532 non-null  int64  \n",
      " 53  tp04        45532 non-null  int64  \n",
      " 54  tp05        45532 non-null  int64  \n",
      " 55  tp06        45532 non-null  int64  \n",
      " 56  tp07        45532 non-null  int64  \n",
      " 57  tp08        45532 non-null  int64  \n",
      " 58  tp09        45532 non-null  int64  \n",
      " 59  tp10        45532 non-null  int64  \n",
      " 60  urban       45532 non-null  int64  \n",
      " 61  voted       45532 non-null  int64  \n",
      " 62  wf_01       45532 non-null  int64  \n",
      " 63  wf_02       45532 non-null  int64  \n",
      " 64  wf_03       45532 non-null  int64  \n",
      " 65  wr_01       45532 non-null  int64  \n",
      " 66  wr_02       45532 non-null  int64  \n",
      " 67  wr_03       45532 non-null  int64  \n",
      " 68  wr_04       45532 non-null  int64  \n",
      " 69  wr_05       45532 non-null  int64  \n",
      " 70  wr_06       45532 non-null  int64  \n",
      " 71  wr_07       45532 non-null  int64  \n",
      " 72  wr_08       45532 non-null  int64  \n",
      " 73  wr_09       45532 non-null  int64  \n",
      " 74  wr_10       45532 non-null  int64  \n",
      " 75  wr_11       45532 non-null  int64  \n",
      " 76  wr_12       45532 non-null  int64  \n",
      " 77  wr_13       45532 non-null  int64  \n",
      "dtypes: float64(20), int64(54), object(4)\n",
      "memory usage: 27.1+ MB\n"
     ]
    }
   ],
   "source": [
    "train.info()"
   ]
  },
  {
   "cell_type": "code",
   "execution_count": 504,
   "metadata": {},
   "outputs": [],
   "source": [
    "train['voted'].replace(2, 0, inplace=True)"
   ]
  },
  {
   "cell_type": "markdown",
   "metadata": {},
   "source": [
    "- 0:투표 미참여자\n",
    "- 1:투표 참여자"
   ]
  },
  {
   "cell_type": "code",
   "execution_count": 505,
   "metadata": {},
   "outputs": [
    {
     "data": {
      "text/plain": [
       "0    24898\n",
       "1    20634\n",
       "Name: voted, dtype: int64"
      ]
     },
     "execution_count": 505,
     "metadata": {},
     "output_type": "execute_result"
    }
   ],
   "source": [
    "# 타겟 분포 확인\n",
    "train[\"voted\"].value_counts()"
   ]
  },
  {
   "cell_type": "code",
   "execution_count": 584,
   "metadata": {},
   "outputs": [
    {
     "data": {
      "text/plain": [
       "<AxesSubplot:title={'center':'Target Rate'}, ylabel='voted'>"
      ]
     },
     "execution_count": 584,
     "metadata": {},
     "output_type": "execute_result"
    },
    {
     "data": {
      "image/png": "[encoded data removed]",
      "text/plain": [
       "<Figure size 720x720 with 1 Axes>"
      ]
     },
     "metadata": {},
     "output_type": "display_data"
    }
   ],
   "source": [
    "#타겟에 대한 비율을 파이 차트로 표현\n",
    "plt.figure(figsize=(10,10))\n",
    "plt.title('Target Rate', fontsize=15)\n",
    "train['voted'].value_counts().plot.pie(autopct='%1.2f%%',\n",
    "                                            labels=['Not Voted', 'Voted'])"
   ]
  },
  {
   "cell_type": "code",
   "execution_count": 506,
   "metadata": {},
   "outputs": [
    {
     "data": {
      "text/plain": [
       "<AxesSubplot:xlabel='gender', ylabel='count'>"
      ]
     },
     "execution_count": 506,
     "metadata": {},
     "output_type": "execute_result"
    },
    {
     "data": {
      "image/png": "[encoded data removed]",
      "text/plain": [
       "<Figure size 432x288 with 1 Axes>"
      ]
     },
     "metadata": {
      "needs_background": "light"
     },
     "output_type": "display_data"
    }
   ],
   "source": [
    "# 성별에 따른 타겟 분포 확인\n",
    "sns.countplot(data = train, x = 'gender', hue = \"voted\")"
   ]
  },
  {
   "cell_type": "code",
   "execution_count": 507,
   "metadata": {},
   "outputs": [
    {
     "data": {
      "text/plain": [
       "<AxesSubplot:xlabel='age_group', ylabel='count'>"
      ]
     },
     "execution_count": 507,
     "metadata": {},
     "output_type": "execute_result"
    },
    {
     "data": {
      "image/png": "[encoded data removed]",
      "text/plain": [
       "<Figure size 432x288 with 1 Axes>"
      ]
     },
     "metadata": {
      "needs_background": "light"
     },
     "output_type": "display_data"
    }
   ],
   "source": [
    "# 연령에 따른 타겟 분포 확인\n",
    "sns.countplot(data = train, x = 'age_group', hue = \"voted\")"
   ]
  },
  {
   "cell_type": "markdown",
   "metadata": {},
   "source": [
    "- 유독 10대들이 투표를 많이 안함"
   ]
  },
  {
   "cell_type": "code",
   "execution_count": 508,
   "metadata": {},
   "outputs": [
    {
     "data": {
      "text/plain": [
       "<AxesSubplot:xlabel='education', ylabel='count'>"
      ]
     },
     "execution_count": 508,
     "metadata": {},
     "output_type": "execute_result"
    },
    {
     "data": {
      "image/png": "[encoded data removed]",
      "text/plain": [
       "<Figure size 432x288 with 1 Axes>"
      ]
     },
     "metadata": {
      "needs_background": "light"
     },
     "output_type": "display_data"
    }
   ],
   "source": [
    "# 교육수준에 따른 타겟 분포 확인\n",
    "sns.countplot(data = train, x = 'education', hue = \"voted\")"
   ]
  },
  {
   "cell_type": "markdown",
   "metadata": {},
   "source": [
    "- 교육수준이 높을수록 투표를 많이 함(학사 학위 이상~)"
   ]
  },
  {
   "cell_type": "code",
   "execution_count": 509,
   "metadata": {},
   "outputs": [
    {
     "data": {
      "text/plain": [
       "<AxesSubplot:xlabel='urban', ylabel='count'>"
      ]
     },
     "execution_count": 509,
     "metadata": {},
     "output_type": "execute_result"
    },
    {
     "data": {
      "image/png": "[encoded data removed]",
      "text/plain": [
       "<Figure size 432x288 with 1 Axes>"
      ]
     },
     "metadata": {
      "needs_background": "light"
     },
     "output_type": "display_data"
    }
   ],
   "source": [
    "# 유년기 거주구역에 따른 타겟 분포 확인\n",
    "sns.countplot(data = train, x = 'urban', hue = \"voted\")"
   ]
  },
  {
   "cell_type": "markdown",
   "metadata": {},
   "source": [
    "- 유년기에 도시근처에 살았을수록 투표 안함"
   ]
  },
  {
   "cell_type": "code",
   "execution_count": 510,
   "metadata": {},
   "outputs": [
    {
     "data": {
      "text/plain": [
       "<AxesSubplot:xlabel='hand', ylabel='count'>"
      ]
     },
     "execution_count": 510,
     "metadata": {},
     "output_type": "execute_result"
    },
    {
     "data": {
      "image/png": "[encoded data removed]",
      "text/plain": [
       "<Figure size 432x288 with 1 Axes>"
      ]
     },
     "metadata": {
      "needs_background": "light"
     },
     "output_type": "display_data"
    }
   ],
   "source": [
    "# 왼/오른손잡이에 따른 타겟 분포 확인\n",
    "sns.countplot(data = train, x = 'hand', hue = \"voted\")"
   ]
  },
  {
   "cell_type": "code",
   "execution_count": 511,
   "metadata": {},
   "outputs": [
    {
     "data": {
      "text/plain": [
       "<AxesSubplot:xlabel='married', ylabel='count'>"
      ]
     },
     "execution_count": 511,
     "metadata": {},
     "output_type": "execute_result"
    },
    {
     "data": {
      "image/png": "[encoded data removed]",
      "text/plain": [
       "<Figure size 432x288 with 1 Axes>"
      ]
     },
     "metadata": {
      "needs_background": "light"
     },
     "output_type": "display_data"
    }
   ],
   "source": [
    "# 혼인상태에 따른 타겟 분포 확인(1: 미혼, 2:기혼, 3:이혼)\n",
    "sns.countplot(data = train, x = 'married', hue = \"voted\")"
   ]
  },
  {
   "cell_type": "markdown",
   "metadata": {},
   "source": [
    "- 미혼일수록 투표 안함, 결혼을 했던 사람일수록 투표를 함"
   ]
  },
  {
   "cell_type": "code",
   "execution_count": 512,
   "metadata": {},
   "outputs": [
    {
     "data": {
      "text/plain": [
       "<AxesSubplot:xlabel='race', ylabel='count'>"
      ]
     },
     "execution_count": 512,
     "metadata": {},
     "output_type": "execute_result"
    },
    {
     "data": {
      "image/png": "[encoded data removed]",
      "text/plain": [
       "<Figure size 1440x576 with 1 Axes>"
      ]
     },
     "metadata": {
      "needs_background": "light"
     },
     "output_type": "display_data"
    }
   ],
   "source": [
    "# 인종에 따른 타겟 분포 확인\n",
    "plt.figure(figsize=(20,8))\n",
    "sns.countplot(data = train, x = 'race', hue = \"voted\")"
   ]
  },
  {
   "cell_type": "code",
   "execution_count": 513,
   "metadata": {},
   "outputs": [
    {
     "data": {
      "text/plain": [
       "<AxesSubplot:xlabel='religion', ylabel='count'>"
      ]
     },
     "execution_count": 513,
     "metadata": {},
     "output_type": "execute_result"
    },
    {
     "data": {
      "image/png": "[encoded data removed]",
      "text/plain": [
       "<Figure size 1440x576 with 1 Axes>"
      ]
     },
     "metadata": {
      "needs_background": "light"
     },
     "output_type": "display_data"
    }
   ],
   "source": [
    "# 종교에 따른 타겟 분포 확인\n",
    "plt.figure(figsize=(20,8))\n",
    "sns.countplot(data = train, x = 'religion', hue = \"voted\")"
   ]
  },
  {
   "cell_type": "code",
   "execution_count": 514,
   "metadata": {},
   "outputs": [
    {
     "data": {
      "text/plain": [
       "<AxesSubplot:xlabel='engnat', ylabel='count'>"
      ]
     },
     "execution_count": 514,
     "metadata": {},
     "output_type": "execute_result"
    },
    {
     "data": {
      "image/png": "[encoded data removed]",
      "text/plain": [
       "<Figure size 432x288 with 1 Axes>"
      ]
     },
     "metadata": {
      "needs_background": "light"
     },
     "output_type": "display_data"
    }
   ],
   "source": [
    "# 사용 언어에 따른 타겟 분포 확인\n",
    "sns.countplot(data = train, x = 'engnat', hue = \"voted\")"
   ]
  },
  {
   "cell_type": "code",
   "execution_count": 515,
   "metadata": {},
   "outputs": [
    {
     "data": {
      "text/plain": [
       "2             17918\n",
       "3             11256\n",
       "1              6535\n",
       "4              4907\n",
       "5              1962\n",
       "0              1217\n",
       "6               838\n",
       "7               387\n",
       "8               221\n",
       "9               126\n",
       "10               59\n",
       "11               39\n",
       "12               21\n",
       "13               11\n",
       "14                9\n",
       "15                8\n",
       "44                3\n",
       "17                3\n",
       "21                2\n",
       "16                2\n",
       "20                2\n",
       "999               1\n",
       "100               1\n",
       "34                1\n",
       "18                1\n",
       "2147483647        1\n",
       "30                1\n",
       "Name: familysize, dtype: int64"
      ]
     },
     "execution_count": 515,
     "metadata": {},
     "output_type": "execute_result"
    }
   ],
   "source": [
    "# 가족 구성원 분포 확인\n",
    "train['familysize'].value_counts()"
   ]
  },
  {
   "cell_type": "code",
   "execution_count": null,
   "metadata": {},
   "outputs": [],
   "source": []
  },
  {
   "cell_type": "code",
   "execution_count": null,
   "metadata": {},
   "outputs": [],
   "source": []
  },
  {
   "cell_type": "code",
   "execution_count": 516,
   "metadata": {},
   "outputs": [],
   "source": [
    "# 범주형으로 타입변경\n",
    "\n",
    "train['QaA']=train['QaA'].astype(object)\n",
    "train['QbA']=train['QbA'].astype(object)\n",
    "train['QcA']=train['QcA'].astype(object)\n",
    "train['QdA']=train['QdA'].astype(object)\n",
    "train['QeA']=train['QeA'].astype(object)\n",
    "train['QfA']=train['QfA'].astype(object)\n",
    "train['QgA']=train['QgA'].astype(object)\n",
    "train['QhA']=train['QhA'].astype(object)\n",
    "train['QiA']=train['QiA'].astype(object)\n",
    "train['QjA']=train['QjA'].astype(object)\n",
    "train['QkA']=train['QkA'].astype(object)\n",
    "train['QlA']=train['QlA'].astype(object)\n",
    "train['QmA']=train['QmA'].astype(object)\n",
    "train['QnA']=train['QnA'].astype(object)\n",
    "train['QoA']=train['QoA'].astype(object)\n",
    "train['QpA']=train['QpA'].astype(object)\n",
    "train['QqA']=train['QqA'].astype(object)\n",
    "train['QrA']=train['QrA'].astype(object)\n",
    "train['QsA']=train['QsA'].astype(object)\n",
    "train['QtA']=train['QtA'].astype(object)\n",
    "\n",
    "train['education']=train['education'].astype(object)\n",
    "train['engnat']=train['engnat'].astype(object)\n",
    "train['hand']=train['hand'].astype(object)\n",
    "train['married']=train['married'].astype(object)\n",
    "train['urban']=train['urban'].astype(object)\n",
    "\n",
    "train['wf_01']=train['wf_01'].astype(object)\n",
    "train['wf_02']=train['wf_02'].astype(object)\n",
    "train['wf_03']=train['wf_03'].astype(object)\n",
    "\n",
    "train['wr_01']=train['wr_01'].astype(object)\n",
    "train['wr_02']=train['wr_02'].astype(object)\n",
    "train['wr_03']=train['wr_03'].astype(object)\n",
    "train['wr_04']=train['wr_04'].astype(object)\n",
    "train['wr_05']=train['wr_05'].astype(object)\n",
    "train['wr_06']=train['wr_06'].astype(object)\n",
    "train['wr_07']=train['wr_07'].astype(object)\n",
    "train['wr_08']=train['wr_08'].astype(object)\n",
    "train['wr_09']=train['wr_09'].astype(object)\n",
    "train['wr_10']=train['wr_10'].astype(object)\n",
    "train['wr_11']=train['wr_11'].astype(object)\n",
    "train['wr_12']=train['wr_12'].astype(object)\n",
    "train['wr_13']=train['wr_13'].astype(object)"
   ]
  },
  {
   "cell_type": "code",
   "execution_count": 517,
   "metadata": {},
   "outputs": [],
   "source": [
    "# 범주형으로 타입변경\n",
    "\n",
    "test['QaA']=test['QaA'].astype(object)\n",
    "test['QbA']=test['QbA'].astype(object)\n",
    "test['QcA']=test['QcA'].astype(object)\n",
    "test['QdA']=test['QdA'].astype(object)\n",
    "test['QeA']=test['QeA'].astype(object)\n",
    "test['QfA']=test['QfA'].astype(object)\n",
    "test['QgA']=test['QgA'].astype(object)\n",
    "test['QhA']=test['QhA'].astype(object)\n",
    "test['QiA']=test['QiA'].astype(object)\n",
    "test['QjA']=test['QjA'].astype(object)\n",
    "test['QkA']=test['QkA'].astype(object)\n",
    "test['QlA']=test['QlA'].astype(object)\n",
    "test['QmA']=test['QmA'].astype(object)\n",
    "test['QnA']=test['QnA'].astype(object)\n",
    "test['QoA']=test['QoA'].astype(object)\n",
    "test['QpA']=test['QpA'].astype(object)\n",
    "test['QqA']=test['QqA'].astype(object)\n",
    "test['QrA']=test['QrA'].astype(object)\n",
    "test['QsA']=test['QsA'].astype(object)\n",
    "test['QtA']=test['QtA'].astype(object)\n",
    "\n",
    "test['education']=test['education'].astype(object)\n",
    "test['engnat']=test['engnat'].astype(object)\n",
    "test['hand']=test['hand'].astype(object)\n",
    "test['married']=test['married'].astype(object)\n",
    "test['urban']=test['urban'].astype(object)\n",
    "\n",
    "test['wf_01']=test['wf_01'].astype(object)\n",
    "test['wf_02']=test['wf_02'].astype(object)\n",
    "test['wf_03']=test['wf_03'].astype(object)\n",
    "\n",
    "test['wr_01']=test['wr_01'].astype(object)\n",
    "test['wr_02']=test['wr_02'].astype(object)\n",
    "test['wr_03']=test['wr_03'].astype(object)\n",
    "test['wr_04']=test['wr_04'].astype(object)\n",
    "test['wr_05']=test['wr_05'].astype(object)\n",
    "test['wr_06']=test['wr_06'].astype(object)\n",
    "test['wr_07']=test['wr_07'].astype(object)\n",
    "test['wr_08']=test['wr_08'].astype(object)\n",
    "test['wr_09']=test['wr_09'].astype(object)\n",
    "test['wr_10']=test['wr_10'].astype(object)\n",
    "test['wr_11']=test['wr_11'].astype(object)\n",
    "test['wr_12']=test['wr_12'].astype(object)\n",
    "test['wr_13']=test['wr_13'].astype(object)"
   ]
  },
  {
   "cell_type": "code",
   "execution_count": 518,
   "metadata": {},
   "outputs": [],
   "source": [
    "# label encoding\n",
    "label = label_encoder\n",
    "\n",
    "train['QaA']=label.fit_transform(train['QaA'])\n",
    "train['QbA']=label.fit_transform(train['QbA'])\n",
    "train['QcA']=label.fit_transform(train['QcA'])\n",
    "train['QdA']=label.fit_transform(train['QdA'])\n",
    "train['QeA']=label.fit_transform(train['QeA'])\n",
    "train['QfA']=label.fit_transform(train['QfA'])\n",
    "train['QgA']=label.fit_transform(train['QgA'])\n",
    "train['QhA']=label.fit_transform(train['QhA'])\n",
    "train['QiA']=label.fit_transform(train['QiA'])\n",
    "train['QjA']=label.fit_transform(train['QjA'])\n",
    "train['QkA']=label.fit_transform(train['QkA'])\n",
    "train['QlA']=label.fit_transform(train['QlA'])\n",
    "train['QmA']=label.fit_transform(train['QmA'])\n",
    "train['QnA']=label.fit_transform(train['QnA'])\n",
    "train['QoA']=label.fit_transform(train['QoA'])\n",
    "train['QpA']=label.fit_transform(train['QpA'])\n",
    "train['QqA']=label.fit_transform(train['QqA'])\n",
    "train['QrA']=label.fit_transform(train['QrA'])\n",
    "train['QsA']=label.fit_transform(train['QsA'])\n",
    "train['QtA']=label.fit_transform(train['QtA'])\n",
    "\n",
    "train['education']=label.fit_transform(train['education'])\n",
    "train['engnat']=label.fit_transform(train['engnat'])\n",
    "train['hand']=label.fit_transform(train['hand'])\n",
    "train['married']=label.fit_transform(train['married'])\n",
    "train['urban']=label.fit_transform(train['urban'])\n",
    "\n",
    "train['wf_01']=label.fit_transform(train['wf_01'])\n",
    "train['wf_02']=label.fit_transform(train['wf_02'])\n",
    "train['wf_03']=label.fit_transform(train['wf_03'])\n",
    "\n",
    "train['wr_01']=label.fit_transform(train['wr_01'])\n",
    "train['wr_02']=label.fit_transform(train['wr_02'])\n",
    "train['wr_03']=label.fit_transform(train['wr_03'])\n",
    "train['wr_04']=label.fit_transform(train['wr_04'])\n",
    "train['wr_05']=label.fit_transform(train['wr_05'])\n",
    "train['wr_06']=label.fit_transform(train['wr_06'])\n",
    "train['wr_07']=label.fit_transform(train['wr_07'])\n",
    "train['wr_08']=label.fit_transform(train['wr_08'])\n",
    "train['wr_09']=label.fit_transform(train['wr_09'])\n",
    "train['wr_10']=label.fit_transform(train['wr_10'])\n",
    "train['wr_11']=label.fit_transform(train['wr_11'])\n",
    "train['wr_12']=label.fit_transform(train['wr_12'])\n",
    "train['wr_13']=label.fit_transform(train['wr_13'])\n",
    "\n",
    "train['gender'] = label.fit_transform(train['gender'])\n",
    "train['age_group'] = label.fit_transform(train['age_group'])\n",
    "train['race'] = label.fit_transform(train['race'])\n",
    "train['religion'] = label.fit_transform(train['religion'])"
   ]
  },
  {
   "cell_type": "code",
   "execution_count": 519,
   "metadata": {},
   "outputs": [],
   "source": [
    "# label encoding\n",
    "label = label_encoder\n",
    "\n",
    "test['QaA']=label.fit_transform(test['QaA'])\n",
    "test['QbA']=label.fit_transform(test['QbA'])\n",
    "test['QcA']=label.fit_transform(test['QcA'])\n",
    "test['QdA']=label.fit_transform(test['QdA'])\n",
    "test['QeA']=label.fit_transform(test['QeA'])\n",
    "test['QfA']=label.fit_transform(test['QfA'])\n",
    "test['QgA']=label.fit_transform(test['QgA'])\n",
    "test['QhA']=label.fit_transform(test['QhA'])\n",
    "test['QiA']=label.fit_transform(test['QiA'])\n",
    "test['QjA']=label.fit_transform(test['QjA'])\n",
    "test['QkA']=label.fit_transform(test['QkA'])\n",
    "test['QlA']=label.fit_transform(test['QlA'])\n",
    "test['QmA']=label.fit_transform(test['QmA'])\n",
    "test['QnA']=label.fit_transform(test['QnA'])\n",
    "test['QoA']=label.fit_transform(test['QoA'])\n",
    "test['QpA']=label.fit_transform(test['QpA'])\n",
    "test['QqA']=label.fit_transform(test['QqA'])\n",
    "test['QrA']=label.fit_transform(test['QrA'])\n",
    "test['QsA']=label.fit_transform(test['QsA'])\n",
    "test['QtA']=label.fit_transform(test['QtA'])\n",
    "\n",
    "test['education']=label.fit_transform(test['education'])\n",
    "test['engnat']=label.fit_transform(test['engnat'])\n",
    "test['hand']=label.fit_transform(test['hand'])\n",
    "test['married']=label.fit_transform(test['married'])\n",
    "test['urban']=label.fit_transform(test['urban'])\n",
    "\n",
    "test['wf_01']=label.fit_transform(test['wf_01'])\n",
    "test['wf_02']=label.fit_transform(test['wf_02'])\n",
    "test['wf_03']=label.fit_transform(test['wf_03'])\n",
    "\n",
    "test['wr_01']=label.fit_transform(test['wr_01'])\n",
    "test['wr_02']=label.fit_transform(test['wr_02'])\n",
    "test['wr_03']=label.fit_transform(test['wr_03'])\n",
    "test['wr_04']=label.fit_transform(test['wr_04'])\n",
    "test['wr_05']=label.fit_transform(test['wr_05'])\n",
    "test['wr_06']=label.fit_transform(test['wr_06'])\n",
    "test['wr_07']=label.fit_transform(test['wr_07'])\n",
    "test['wr_08']=label.fit_transform(test['wr_08'])\n",
    "test['wr_09']=label.fit_transform(test['wr_09'])\n",
    "test['wr_10']=label.fit_transform(test['wr_10'])\n",
    "test['wr_11']=label.fit_transform(test['wr_11'])\n",
    "test['wr_12']=label.fit_transform(test['wr_12'])\n",
    "test['wr_13']=label.fit_transform(test['wr_13'])\n",
    "\n",
    "test['gender'] = label.fit_transform(test['gender'])\n",
    "test['age_group'] = label.fit_transform(test['age_group'])\n",
    "test['race'] = label.fit_transform(test['race'])\n",
    "test['religion'] = label.fit_transform(test['religion'])"
   ]
  },
  {
   "cell_type": "code",
   "execution_count": null,
   "metadata": {},
   "outputs": [],
   "source": []
  },
  {
   "cell_type": "code",
   "execution_count": null,
   "metadata": {},
   "outputs": [],
   "source": []
  },
  {
   "cell_type": "markdown",
   "metadata": {},
   "source": [
    "### train_2 data"
   ]
  },
  {
   "cell_type": "markdown",
   "metadata": {},
   "source": [
    "- 이상치 제거\n",
    "- 왜도 1 이상인 변수 제거\n",
    "- "
   ]
  },
  {
   "cell_type": "code",
   "execution_count": 520,
   "metadata": {},
   "outputs": [],
   "source": [
    "# 가족 구성원 50이상 이상치라 판단 제거\n",
    "outlier = train[train['familysize'] > 50].index"
   ]
  },
  {
   "cell_type": "code",
   "execution_count": 521,
   "metadata": {},
   "outputs": [],
   "source": [
    "train_2 = train.drop(outlier)"
   ]
  },
  {
   "cell_type": "code",
   "execution_count": 522,
   "metadata": {},
   "outputs": [
    {
     "data": {
      "text/plain": [
       "2     17918\n",
       "3     11256\n",
       "1      6535\n",
       "4      4907\n",
       "5      1962\n",
       "0      1217\n",
       "6       838\n",
       "7       387\n",
       "8       221\n",
       "9       126\n",
       "10       59\n",
       "11       39\n",
       "12       21\n",
       "13       11\n",
       "14        9\n",
       "15        8\n",
       "44        3\n",
       "17        3\n",
       "21        2\n",
       "16        2\n",
       "20        2\n",
       "34        1\n",
       "18        1\n",
       "30        1\n",
       "Name: familysize, dtype: int64"
      ]
     },
     "execution_count": 522,
     "metadata": {},
     "output_type": "execute_result"
    }
   ],
   "source": [
    "train_2['familysize'].value_counts()"
   ]
  },
  {
   "cell_type": "code",
   "execution_count": 523,
   "metadata": {},
   "outputs": [
    {
     "name": "stdout",
     "output_type": "stream",
     "text": [
      "QhE           213.132316\n",
      "QrE           212.354303\n",
      "QlE           208.509713\n",
      "QqE           161.426471\n",
      "QmE           159.057331\n",
      "QjE           152.124871\n",
      "QaE           147.660376\n",
      "QpE           145.902213\n",
      "QtE           139.298516\n",
      "QsE           130.382501\n",
      "QbE           129.018493\n",
      "QfE           125.588496\n",
      "QkE           118.696461\n",
      "QiE           115.159603\n",
      "QdE            90.887212\n",
      "QeE            85.366621\n",
      "QoE            76.643866\n",
      "QgE            68.224760\n",
      "QnE            64.336566\n",
      "QcE            56.093498\n",
      "familysize      3.411673\n",
      "wf_01           3.106392\n",
      "hand            2.587962\n",
      "wf_03           2.363764\n",
      "wf_02           1.818277\n",
      "wr_09           1.478174\n",
      "QdA             1.451387\n",
      "wr_03           1.431657\n",
      "married         1.366367\n",
      "tp05            1.362548\n",
      "dtype: float64\n"
     ]
    }
   ],
   "source": [
    "# 왜도 수치형 변수 추출\n",
    "from scipy.stats import skew\n",
    "\n",
    "features_index =train_2.dtypes[train.dtypes != 'object'].index\n",
    "skew_features = train_2[features_index].apply(lambda x : skew(x))\n",
    "\n",
    "skew_features_top = skew_features[skew_features>1]\n",
    "print(skew_features_top.sort_values(ascending=False))"
   ]
  },
  {
   "cell_type": "code",
   "execution_count": 524,
   "metadata": {},
   "outputs": [],
   "source": [
    "# 변수 제거\n",
    "drop_list = ['QaE','QbE','QcE','QdE','QeE','QfE','QgE','QhE','QiE','QjE','QkE','QlE','QmE','QmE','QoE','QpE','QqE','QrE','QsE','QtE']\n",
    "\n",
    "train_2 = train_2.drop(drop_list, axis=1)"
   ]
  },
  {
   "cell_type": "code",
   "execution_count": null,
   "metadata": {},
   "outputs": [],
   "source": []
  },
  {
   "cell_type": "code",
   "execution_count": null,
   "metadata": {},
   "outputs": [],
   "source": []
  },
  {
   "cell_type": "code",
   "execution_count": null,
   "metadata": {},
   "outputs": [],
   "source": []
  },
  {
   "cell_type": "markdown",
   "metadata": {},
   "source": [
    "### train_3 data"
   ]
  },
  {
   "cell_type": "markdown",
   "metadata": {},
   "source": [
    "- 파생변수 생성"
   ]
  },
  {
   "cell_type": "code",
   "execution_count": 525,
   "metadata": {},
   "outputs": [],
   "source": [
    "train_3 = train.iloc[:]"
   ]
  },
  {
   "cell_type": "code",
   "execution_count": 526,
   "metadata": {},
   "outputs": [],
   "source": [
    "# 1~7까지 선택 7로 갈수록 매우 그렇다라고 가정한 후 해석"
   ]
  },
  {
   "cell_type": "code",
   "execution_count": 527,
   "metadata": {},
   "outputs": [],
   "source": [
    "# tp01~10을 이용해 긍정적인 성향변수 만들기\n",
    "train_3['tp_positive'] = (train_3['tp01']+train_3['tp03']+train_3['tp05']+train_3['tp07']+train_3['tp09'])\n",
    "test['tp_positive'] = (test['tp01']+test['tp03']+test['tp05']+test['tp07']+test['tp09'])"
   ]
  },
  {
   "cell_type": "code",
   "execution_count": 528,
   "metadata": {},
   "outputs": [],
   "source": [
    "# tp01~10을 이용해 부정적인 성향변수 만들기\n",
    "train_3['tp_negative'] = (train_3['tp02']+train_3['tp04']+train_3['tp06']+train_3['tp08']+train_3['tp10'])\n",
    "test['tp_negative'] = (test['tp02']+test['tp04']+test['tp06']+test['tp08']+test['tp10'])"
   ]
  },
  {
   "cell_type": "code",
   "execution_count": 529,
   "metadata": {},
   "outputs": [
    {
     "data": {
      "text/plain": [
       "<AxesSubplot:xlabel='tp_positive', ylabel='count'>"
      ]
     },
     "execution_count": 529,
     "metadata": {},
     "output_type": "execute_result"
    },
    {
     "data": {
      "image/png": "[encoded data removed]",
      "text/plain": [
       "<Figure size 720x432 with 1 Axes>"
      ]
     },
     "metadata": {
      "needs_background": "light"
     },
     "output_type": "display_data"
    }
   ],
   "source": [
    "plt.figure(figsize=(10,6))\n",
    "sns.countplot(data = train_3, x = 'tp_positive', hue = \"voted\")"
   ]
  },
  {
   "cell_type": "code",
   "execution_count": 530,
   "metadata": {},
   "outputs": [
    {
     "data": {
      "text/plain": [
       "<AxesSubplot:xlabel='voted', ylabel='tp_positive'>"
      ]
     },
     "execution_count": 530,
     "metadata": {},
     "output_type": "execute_result"
    },
    {
     "data": {
      "image/png": "[encoded data removed]",
      "text/plain": [
       "<Figure size 720x432 with 1 Axes>"
      ]
     },
     "metadata": {
      "needs_background": "light"
     },
     "output_type": "display_data"
    }
   ],
   "source": [
    "plt.figure(figsize=(10,6))\n",
    "sns.boxplot(data=train_3, x= 'voted', y='tp_positive')"
   ]
  },
  {
   "cell_type": "markdown",
   "metadata": {},
   "source": [
    "- 긍정적인 성향이 클수록 투표를 하지 않는다"
   ]
  },
  {
   "cell_type": "code",
   "execution_count": 531,
   "metadata": {},
   "outputs": [
    {
     "data": {
      "text/plain": [
       "<AxesSubplot:xlabel='tp_negative', ylabel='count'>"
      ]
     },
     "execution_count": 531,
     "metadata": {},
     "output_type": "execute_result"
    },
    {
     "data": {
      "image/png": "[encoded data removed]",
      "text/plain": [
       "<Figure size 720x432 with 1 Axes>"
      ]
     },
     "metadata": {
      "needs_background": "light"
     },
     "output_type": "display_data"
    }
   ],
   "source": [
    "plt.figure(figsize=(10,6))\n",
    "sns.countplot(data = train_3, x = 'tp_negative', hue = \"voted\")"
   ]
  },
  {
   "cell_type": "code",
   "execution_count": 532,
   "metadata": {
    "scrolled": true
   },
   "outputs": [
    {
     "data": {
      "text/plain": [
       "<AxesSubplot:xlabel='voted', ylabel='tp_negative'>"
      ]
     },
     "execution_count": 532,
     "metadata": {},
     "output_type": "execute_result"
    },
    {
     "data": {
      "image/png": "[encoded data removed]",
      "text/plain": [
       "<Figure size 720x432 with 1 Axes>"
      ]
     },
     "metadata": {
      "needs_background": "light"
     },
     "output_type": "display_data"
    }
   ],
   "source": [
    "plt.figure(figsize=(10,6))\n",
    "sns.boxplot(data=train_3, x= 'voted', y='tp_negative')\n"
   ]
  },
  {
   "cell_type": "markdown",
   "metadata": {},
   "source": [
    "- 부정적 성향이 높을수록 투표를 한다?"
   ]
  },
  {
   "cell_type": "code",
   "execution_count": 533,
   "metadata": {},
   "outputs": [],
   "source": [
    "# wf01~03을 이용해 거짓말(허언증)하는 성향변수 만들기\n",
    "train_3['wf_liar'] = (train_3['wf_01']+train_3['wf_02']+train_3['wf_03'])\n",
    "test['wf_liar'] = (test['wf_01']+test['wf_02']+test['wf_03'])"
   ]
  },
  {
   "cell_type": "code",
   "execution_count": 534,
   "metadata": {
    "scrolled": true
   },
   "outputs": [
    {
     "data": {
      "text/plain": [
       "<AxesSubplot:xlabel='wf_liar', ylabel='count'>"
      ]
     },
     "execution_count": 534,
     "metadata": {},
     "output_type": "execute_result"
    },
    {
     "data": {
      "image/png": "[encoded data removed]",
      "text/plain": [
       "<Figure size 432x288 with 1 Axes>"
      ]
     },
     "metadata": {
      "needs_background": "light"
     },
     "output_type": "display_data"
    }
   ],
   "source": [
    "sns.countplot(data = train_3, x = 'wf_liar', hue = \"voted\")"
   ]
  },
  {
   "cell_type": "markdown",
   "metadata": {},
   "source": [
    "- 거짓말을 하지 않는 사람일수록 투표를 하지 않는다"
   ]
  },
  {
   "cell_type": "code",
   "execution_count": 535,
   "metadata": {},
   "outputs": [],
   "source": [
    "# wr01~13을 이용해 정직+똑똑하다는 성향변수 만들기\n",
    "# 합이 클수록 정직+상식많은 사람, 작을수록 정직은 하되 상식없는 사람\n",
    "train_3['wr_honest'] = (train_3['wr_01']+train_3['wr_02']+train_3['wr_03']+train_3['wr_04']+train_3['wr_05']+train_3['wr_06']+train_3['wr_07']+train_3['wr_08']+train_3['wr_09']+train_3['wr_10']+train_3['wr_11']+train_3['wr_12']+train_3['wr_13'])\n",
    "test['wr_honest'] = (test['wr_01']+test['wr_02']+test['wr_03']+test['wr_04']+test['wr_05']+test['wr_06']+test['wr_07']+test['wr_08']+test['wr_09']+test['wr_10']+test['wr_11']+test['wr_12']+test['wr_13'])"
   ]
  },
  {
   "cell_type": "code",
   "execution_count": 536,
   "metadata": {
    "scrolled": true
   },
   "outputs": [
    {
     "data": {
      "text/plain": [
       "<AxesSubplot:xlabel='wr_honest', ylabel='count'>"
      ]
     },
     "execution_count": 536,
     "metadata": {},
     "output_type": "execute_result"
    },
    {
     "data": {
      "image/png": "[encoded data removed]",
      "text/plain": [
       "<Figure size 432x288 with 1 Axes>"
      ]
     },
     "metadata": {
      "needs_background": "light"
     },
     "output_type": "display_data"
    }
   ],
   "source": [
    "sns.countplot(data = train_3, x = 'wr_honest', hue = \"voted\")"
   ]
  },
  {
   "cell_type": "markdown",
   "metadata": {},
   "source": [
    "- 11~13: 거의 모든 단어의 뜻을 안다 -> 상식 높음 -> 투표 하는 경우가 더 많음"
   ]
  },
  {
   "cell_type": "code",
   "execution_count": 537,
   "metadata": {},
   "outputs": [],
   "source": [
    "# wr+wf=16인 사람은 븅신인거지...걸러야 하는 사람\n",
    "train_3['wrwf'] = (train_3['wf_01']+train_3['wf_02']+train_3['wf_03']+train_3['wr_01']+train_3['wr_02']+train_3['wr_03']+train_3['wr_04']+train_3['wr_05']+train_3['wr_06']+train_3['wr_07']+train_3['wr_08']+train_3['wr_09']+train_3['wr_10']+train_3['wr_11']+train_3['wr_12']+train_3['wr_13'])\n",
    "test['wrwf'] = (test['wf_01']+test['wf_02']+test['wf_03']+test['wr_01']+test['wr_02']+test['wr_03']+test['wr_04']+test['wr_05']+test['wr_06']+test['wr_07']+test['wr_08']+test['wr_09']+test['wr_10']+test['wr_11']+test['wr_12']+test['wr_13'])"
   ]
  },
  {
   "cell_type": "code",
   "execution_count": 538,
   "metadata": {},
   "outputs": [
    {
     "data": {
      "text/plain": [
       "9     9173\n",
       "10    8099\n",
       "11    6144\n",
       "8     5166\n",
       "12    4445\n",
       "13    3518\n",
       "7     2555\n",
       "6     1446\n",
       "14    1297\n",
       "5      798\n",
       "4      619\n",
       "16     467\n",
       "3      424\n",
       "15     423\n",
       "2      363\n",
       "1      307\n",
       "0      288\n",
       "Name: wrwf, dtype: int64"
      ]
     },
     "execution_count": 538,
     "metadata": {},
     "output_type": "execute_result"
    }
   ],
   "source": [
    "train_3['wrwf'].value_counts()"
   ]
  },
  {
   "cell_type": "markdown",
   "metadata": {},
   "source": [
    "- 걍 모든 단어 안다고 체크한 사람이 467명이나 존재... 테스트를 대충했거나(= 결과를 신뢰하지 못함), 걍 븅신이거나(허언증, 똑똑해보이고 싶은 사람?)..."
   ]
  },
  {
   "cell_type": "code",
   "execution_count": null,
   "metadata": {},
   "outputs": [],
   "source": []
  },
  {
   "cell_type": "markdown",
   "metadata": {},
   "source": [
    "### train_4 data"
   ]
  },
  {
   "cell_type": "code",
   "execution_count": 539,
   "metadata": {},
   "outputs": [],
   "source": [
    "train_4 = train_3.iloc[:]"
   ]
  },
  {
   "cell_type": "code",
   "execution_count": 540,
   "metadata": {},
   "outputs": [],
   "source": [
    "outlier_4 = train_4[train_4['familysize'] > 50].index"
   ]
  },
  {
   "cell_type": "code",
   "execution_count": 541,
   "metadata": {},
   "outputs": [],
   "source": [
    "train_4 = train_4.drop(outlier_4)"
   ]
  },
  {
   "cell_type": "code",
   "execution_count": 542,
   "metadata": {},
   "outputs": [
    {
     "name": "stdout",
     "output_type": "stream",
     "text": [
      "QhE           213.132316\n",
      "QrE           212.354303\n",
      "QlE           208.509713\n",
      "QqE           161.426471\n",
      "QmE           159.057331\n",
      "QjE           152.124871\n",
      "QaE           147.660376\n",
      "QpE           145.902213\n",
      "QtE           139.298516\n",
      "QsE           130.382501\n",
      "QbE           129.018493\n",
      "QfE           125.588496\n",
      "QkE           118.696461\n",
      "QiE           115.159603\n",
      "QdE            90.887212\n",
      "QeE            85.366621\n",
      "QoE            76.643866\n",
      "QgE            68.224760\n",
      "QnE            64.336566\n",
      "QcE            56.093498\n",
      "familysize      3.411673\n",
      "wf_01           3.106392\n",
      "hand            2.587962\n",
      "wf_03           2.363764\n",
      "wf_liar         2.043517\n",
      "wf_02           1.818277\n",
      "wr_09           1.478174\n",
      "QdA             1.451387\n",
      "wr_03           1.431657\n",
      "married         1.366367\n",
      "tp05            1.362548\n",
      "dtype: float64\n"
     ]
    }
   ],
   "source": [
    "# 왜도가 1 이상인 수치형 변수 추출\n",
    "from scipy.stats import skew\n",
    "\n",
    "features_index =train_4.dtypes[train_4.dtypes != 'object'].index\n",
    "skew_features = train_4[features_index].apply(lambda x : skew(x))\n",
    "\n",
    "skew_features_top = skew_features[skew_features>1]\n",
    "print(skew_features_top.sort_values(ascending=False))"
   ]
  },
  {
   "cell_type": "code",
   "execution_count": 543,
   "metadata": {},
   "outputs": [],
   "source": [
    "# 변수 제거\n",
    "drop_list_4 = ['QaE','QbE','QcE','QdE','QeE','QfE','QgE','QhE','QiE','QjE','QkE','QlE','QmE','QmE','QoE','QpE','QqE','QrE','QsE','QtE']\n",
    "\n",
    "train_4 = train_4.drop(drop_list_4, axis=1)\n",
    "test = test.drop(drop_list_4, axis=1)"
   ]
  },
  {
   "cell_type": "code",
   "execution_count": null,
   "metadata": {},
   "outputs": [],
   "source": []
  },
  {
   "cell_type": "code",
   "execution_count": null,
   "metadata": {},
   "outputs": [],
   "source": []
  },
  {
   "cell_type": "code",
   "execution_count": null,
   "metadata": {},
   "outputs": [],
   "source": []
  },
  {
   "cell_type": "code",
   "execution_count": null,
   "metadata": {},
   "outputs": [],
   "source": []
  },
  {
   "cell_type": "code",
   "execution_count": 544,
   "metadata": {
    "scrolled": true
   },
   "outputs": [
    {
     "data": {
      "text/plain": [
       "(45532, 78)"
      ]
     },
     "execution_count": 544,
     "metadata": {},
     "output_type": "execute_result"
    }
   ],
   "source": [
    "train.shape"
   ]
  },
  {
   "cell_type": "code",
   "execution_count": 545,
   "metadata": {},
   "outputs": [
    {
     "data": {
      "text/plain": [
       "(45529, 59)"
      ]
     },
     "execution_count": 545,
     "metadata": {},
     "output_type": "execute_result"
    }
   ],
   "source": [
    "train_2.shape"
   ]
  },
  {
   "cell_type": "code",
   "execution_count": 546,
   "metadata": {},
   "outputs": [
    {
     "data": {
      "text/plain": [
       "(45532, 83)"
      ]
     },
     "execution_count": 546,
     "metadata": {},
     "output_type": "execute_result"
    }
   ],
   "source": [
    "train_3.shape"
   ]
  },
  {
   "cell_type": "code",
   "execution_count": 547,
   "metadata": {},
   "outputs": [
    {
     "data": {
      "text/plain": [
       "(45529, 64)"
      ]
     },
     "execution_count": 547,
     "metadata": {},
     "output_type": "execute_result"
    }
   ],
   "source": [
    "train_4.shape"
   ]
  },
  {
   "cell_type": "code",
   "execution_count": 548,
   "metadata": {},
   "outputs": [],
   "source": [
    "X_data = train.loc[:,train.columns != 'voted']\n",
    "y_target = train['voted']"
   ]
  },
  {
   "cell_type": "code",
   "execution_count": 549,
   "metadata": {},
   "outputs": [],
   "source": [
    "X_train, X_valid, y_train, y_valid=train_test_split(X_data, y_target,\n",
    "                                                  test_size=0.2, random_state=2021)"
   ]
  },
  {
   "cell_type": "code",
   "execution_count": 550,
   "metadata": {},
   "outputs": [
    {
     "name": "stdout",
     "output_type": "stream",
     "text": [
      "(36425, 77)\n",
      "(36425,)\n",
      "(9107, 77)\n",
      "(9107,)\n"
     ]
    }
   ],
   "source": [
    "print(X_train.shape)\n",
    "print(y_train.shape)\n",
    "print(X_valid.shape)\n",
    "print(y_valid.shape)"
   ]
  },
  {
   "cell_type": "code",
   "execution_count": null,
   "metadata": {},
   "outputs": [],
   "source": []
  },
  {
   "cell_type": "code",
   "execution_count": 551,
   "metadata": {},
   "outputs": [],
   "source": [
    "X_data_2 = train_2.loc[:,train_2.columns != 'voted']\n",
    "y_target_2 = train_2['voted']"
   ]
  },
  {
   "cell_type": "code",
   "execution_count": 552,
   "metadata": {},
   "outputs": [],
   "source": [
    "X_train_2, X_valid_2, y_train_2, y_valid_2=train_test_split(X_data_2, y_target_2,\n",
    "                                                  test_size=0.2, random_state=2021)"
   ]
  },
  {
   "cell_type": "code",
   "execution_count": 553,
   "metadata": {},
   "outputs": [
    {
     "name": "stdout",
     "output_type": "stream",
     "text": [
      "(36423, 58)\n",
      "(36423,)\n",
      "(9106, 58)\n",
      "(9106,)\n"
     ]
    }
   ],
   "source": [
    "print(X_train_2.shape)\n",
    "print(y_train_2.shape)\n",
    "print(X_valid_2.shape)\n",
    "print(y_valid_2.shape)"
   ]
  },
  {
   "cell_type": "code",
   "execution_count": null,
   "metadata": {},
   "outputs": [],
   "source": []
  },
  {
   "cell_type": "code",
   "execution_count": 554,
   "metadata": {},
   "outputs": [],
   "source": [
    "X_data_3 = train_3.loc[:,train_3.columns != 'voted']\n",
    "y_target_3 = train_3['voted']"
   ]
  },
  {
   "cell_type": "code",
   "execution_count": 555,
   "metadata": {},
   "outputs": [],
   "source": [
    "X_train_3, X_valid_3, y_train_3, y_valid_3=train_test_split(X_data_3, y_target_3,\n",
    "                                                  test_size=0.2, random_state=2021)"
   ]
  },
  {
   "cell_type": "code",
   "execution_count": 556,
   "metadata": {},
   "outputs": [
    {
     "name": "stdout",
     "output_type": "stream",
     "text": [
      "(36425, 82)\n",
      "(36425,)\n",
      "(9107, 82)\n",
      "(9107,)\n"
     ]
    }
   ],
   "source": [
    "print(X_train_3.shape)\n",
    "print(y_train_3.shape)\n",
    "print(X_valid_3.shape)\n",
    "print(y_valid_3.shape)"
   ]
  },
  {
   "cell_type": "code",
   "execution_count": null,
   "metadata": {},
   "outputs": [],
   "source": []
  },
  {
   "cell_type": "code",
   "execution_count": 557,
   "metadata": {},
   "outputs": [],
   "source": [
    "X_data_4 = train_4.loc[:,train_4.columns != 'voted']\n",
    "y_target_4 = train_4['voted']"
   ]
  },
  {
   "cell_type": "code",
   "execution_count": 558,
   "metadata": {},
   "outputs": [],
   "source": [
    "X_train_4, X_valid_4, y_train_4, y_valid_4=train_test_split(X_data_4, y_target_4,\n",
    "                                                  test_size=0.2, random_state=2021)"
   ]
  },
  {
   "cell_type": "code",
   "execution_count": 559,
   "metadata": {},
   "outputs": [
    {
     "name": "stdout",
     "output_type": "stream",
     "text": [
      "(36423, 63)\n",
      "(36423,)\n",
      "(9106, 63)\n",
      "(9106,)\n"
     ]
    }
   ],
   "source": [
    "print(X_train_4.shape)\n",
    "print(y_train_4.shape)\n",
    "print(X_valid_4.shape)\n",
    "print(y_valid_4.shape)"
   ]
  },
  {
   "cell_type": "code",
   "execution_count": null,
   "metadata": {},
   "outputs": [],
   "source": []
  },
  {
   "cell_type": "code",
   "execution_count": null,
   "metadata": {},
   "outputs": [],
   "source": [
    "#X_data = StandardScaler().fit_transform(X_data)"
   ]
  },
  {
   "cell_type": "code",
   "execution_count": null,
   "metadata": {},
   "outputs": [],
   "source": [
    "#X_data"
   ]
  },
  {
   "cell_type": "markdown",
   "metadata": {},
   "source": [
    "## 모델링1"
   ]
  },
  {
   "cell_type": "markdown",
   "metadata": {},
   "source": [
    "#### decision tree"
   ]
  },
  {
   "cell_type": "code",
   "execution_count": 266,
   "metadata": {},
   "outputs": [],
   "source": [
    "dt= DecisionTreeClassifier(random_state=0)\n",
    "dt.fit(X_train, y_train)\n",
    "\n",
    "dt_preds = dt.predict_proba(X_valid)[:, 1]"
   ]
  },
  {
   "cell_type": "code",
   "execution_count": 267,
   "metadata": {},
   "outputs": [
    {
     "name": "stdout",
     "output_type": "stream",
     "text": [
      "0.6038795610071114\n"
     ]
    }
   ],
   "source": [
    "print(roc_auc_score(y_valid, dt_preds))"
   ]
  },
  {
   "cell_type": "code",
   "execution_count": 272,
   "metadata": {},
   "outputs": [
    {
     "name": "stdout",
     "output_type": "stream",
     "text": [
      "{'max_depth': 2, 'max_leaf_nodes': 4, 'min_samples_leaf': 2, 'min_samples_split': 2}\n",
      "0.6719286368823905\n"
     ]
    }
   ],
   "source": [
    "cv_method = KFold(n_splits=10)\n",
    "params = {\n",
    "    'max_depth':[2],\n",
    "    'min_samples_leaf':[2],\n",
    "    'min_samples_split':[2],\n",
    "    'max_leaf_nodes':[4]\n",
    "}\n",
    "dt_grid_cv = GridSearchCV(dt, param_grid=params, scoring='accuracy', cv=cv_method, n_jobs=-1)\n",
    "dt_grid_cv.fit(X_train, y_train)\n",
    "\n",
    "dt_preds = dt_grid_cv.predict_proba(X_valid)[:, 1]\n",
    "\n",
    "print(dt_grid_cv.best_params_)\n",
    "print(dt_grid_cv.best_score_)"
   ]
  },
  {
   "cell_type": "code",
   "execution_count": 273,
   "metadata": {},
   "outputs": [
    {
     "name": "stdout",
     "output_type": "stream",
     "text": [
      "0.7086240285741375\n"
     ]
    }
   ],
   "source": [
    "print(roc_auc_score(y_valid, dt_preds))"
   ]
  },
  {
   "cell_type": "code",
   "execution_count": null,
   "metadata": {},
   "outputs": [],
   "source": []
  },
  {
   "cell_type": "markdown",
   "metadata": {},
   "source": [
    "#### random forest"
   ]
  },
  {
   "cell_type": "code",
   "execution_count": 274,
   "metadata": {},
   "outputs": [],
   "source": [
    "rf = RandomForestClassifier(random_state=0)\n",
    "rf.fit(X_train, y_train)\n",
    "\n",
    "rf_preds=rf.predict_proba(X_valid)[:, 1]"
   ]
  },
  {
   "cell_type": "code",
   "execution_count": 275,
   "metadata": {},
   "outputs": [
    {
     "name": "stdout",
     "output_type": "stream",
     "text": [
      "0.7495703697127537\n"
     ]
    }
   ],
   "source": [
    "print(roc_auc_score(y_valid, rf_preds))"
   ]
  },
  {
   "cell_type": "code",
   "execution_count": 278,
   "metadata": {},
   "outputs": [
    {
     "name": "stdout",
     "output_type": "stream",
     "text": [
      "{'max_depth': 8, 'min_samples_leaf': 4, 'min_samples_split': 2, 'n_estimators': 200}\n",
      "0.6871928620452985\n"
     ]
    }
   ],
   "source": [
    "cv_method = KFold(n_splits=5)\n",
    "params={\n",
    "    'n_estimators':[200],\n",
    "    'max_depth' : [8],\n",
    "    'min_samples_leaf' : [4],\n",
    "    'min_samples_split' : [2]\n",
    " }\n",
    "\n",
    "rf_grid_cv = GridSearchCV(rf, param_grid=params, cv=cv_method)\n",
    "rf_grid_cv.fit(X_train, y_train)\n",
    "\n",
    "rf_preds=rf_grid_cv.predict_proba(X_valid)[:, 1]\n",
    "\n",
    "print(rf_grid_cv.best_params_)\n",
    "print(rf_grid_cv.best_score_)"
   ]
  },
  {
   "cell_type": "code",
   "execution_count": 279,
   "metadata": {},
   "outputs": [
    {
     "name": "stdout",
     "output_type": "stream",
     "text": [
      "0.7531350794224663\n"
     ]
    }
   ],
   "source": [
    "print(roc_auc_score(y_valid, rf_preds))"
   ]
  },
  {
   "cell_type": "code",
   "execution_count": null,
   "metadata": {},
   "outputs": [],
   "source": []
  },
  {
   "cell_type": "markdown",
   "metadata": {},
   "source": [
    "#### xgb"
   ]
  },
  {
   "cell_type": "code",
   "execution_count": 280,
   "metadata": {},
   "outputs": [],
   "source": [
    "xgb=XGBClassifier(random_state=0)\n",
    "xgb.fit(X_train, y_train)\n",
    "xgb_pred=xgb.predict_proba(X_valid)[:,1]"
   ]
  },
  {
   "cell_type": "code",
   "execution_count": 281,
   "metadata": {},
   "outputs": [
    {
     "name": "stdout",
     "output_type": "stream",
     "text": [
      "0.760889305004504\n"
     ]
    }
   ],
   "source": [
    "print(roc_auc_score(y_valid, xgb_pred))"
   ]
  },
  {
   "cell_type": "code",
   "execution_count": 290,
   "metadata": {
    "scrolled": true
   },
   "outputs": [
    {
     "name": "stdout",
     "output_type": "stream",
     "text": [
      "Fitting 5 folds for each of 1 candidates, totalling 5 fits\n",
      "[0]\tvalidation_0-error:0.338201\n",
      "[1]\tvalidation_0-error:0.326452\n",
      "[2]\tvalidation_0-error:0.326562\n",
      "[3]\tvalidation_0-error:0.317997\n",
      "[4]\tvalidation_0-error:0.315801\n",
      "[5]\tvalidation_0-error:0.311738\n",
      "[6]\tvalidation_0-error:0.312946\n",
      "[7]\tvalidation_0-error:0.311738\n",
      "[8]\tvalidation_0-error:0.311409\n",
      "[9]\tvalidation_0-error:0.314593\n",
      "[10]\tvalidation_0-error:0.314154\n",
      "[11]\tvalidation_0-error:0.313495\n",
      "[12]\tvalidation_0-error:0.311628\n",
      "[13]\tvalidation_0-error:0.31097\n",
      "[14]\tvalidation_0-error:0.309213\n",
      "[15]\tvalidation_0-error:0.309981\n",
      "[16]\tvalidation_0-error:0.309103\n",
      "[17]\tvalidation_0-error:0.308115\n",
      "[18]\tvalidation_0-error:0.307895\n",
      "[19]\tvalidation_0-error:0.309432\n",
      "[20]\tvalidation_0-error:0.309542\n",
      "[21]\tvalidation_0-error:0.309432\n",
      "[22]\tvalidation_0-error:0.309103\n",
      "[23]\tvalidation_0-error:0.307895\n",
      "[24]\tvalidation_0-error:0.308993\n",
      "[25]\tvalidation_0-error:0.309432\n",
      "[26]\tvalidation_0-error:0.310201\n",
      "[27]\tvalidation_0-error:0.31053\n",
      "[28]\tvalidation_0-error:0.309872\n",
      "[29]\tvalidation_0-error:0.31064\n",
      "[30]\tvalidation_0-error:0.309323\n",
      "[31]\tvalidation_0-error:0.309432\n",
      "[32]\tvalidation_0-error:0.308554\n",
      "[33]\tvalidation_0-error:0.307895\n",
      "[34]\tvalidation_0-error:0.309103\n",
      "[35]\tvalidation_0-error:0.309762\n",
      "[36]\tvalidation_0-error:0.308993\n",
      "[37]\tvalidation_0-error:0.309323\n",
      "[38]\tvalidation_0-error:0.308115\n",
      "[39]\tvalidation_0-error:0.307675\n",
      "[40]\tvalidation_0-error:0.307566\n",
      "[41]\tvalidation_0-error:0.307346\n",
      "[42]\tvalidation_0-error:0.307236\n",
      "[43]\tvalidation_0-error:0.307126\n",
      "[44]\tvalidation_0-error:0.307236\n",
      "[45]\tvalidation_0-error:0.306687\n",
      "[46]\tvalidation_0-error:0.306468\n",
      "[47]\tvalidation_0-error:0.306468\n",
      "[48]\tvalidation_0-error:0.306248\n",
      "[49]\tvalidation_0-error:0.307126\n",
      "[50]\tvalidation_0-error:0.306468\n",
      "[51]\tvalidation_0-error:0.305369\n",
      "[52]\tvalidation_0-error:0.30482\n",
      "[53]\tvalidation_0-error:0.30493\n",
      "[54]\tvalidation_0-error:0.304711\n",
      "[55]\tvalidation_0-error:0.30515\n",
      "[56]\tvalidation_0-error:0.304601\n",
      "[57]\tvalidation_0-error:0.30515\n",
      "[58]\tvalidation_0-error:0.304601\n",
      "[59]\tvalidation_0-error:0.30482\n",
      "[60]\tvalidation_0-error:0.305589\n",
      "[61]\tvalidation_0-error:0.30526\n",
      "[62]\tvalidation_0-error:0.30504\n",
      "[63]\tvalidation_0-error:0.305919\n",
      "[64]\tvalidation_0-error:0.306468\n",
      "[65]\tvalidation_0-error:0.306028\n",
      "[66]\tvalidation_0-error:0.30493\n",
      "[67]\tvalidation_0-error:0.304711\n",
      "[68]\tvalidation_0-error:0.305479\n",
      "[69]\tvalidation_0-error:0.305809\n",
      "[70]\tvalidation_0-error:0.30515\n",
      "[71]\tvalidation_0-error:0.305369\n",
      "[72]\tvalidation_0-error:0.304711\n",
      "[73]\tvalidation_0-error:0.305479\n",
      "[74]\tvalidation_0-error:0.305589\n",
      "[75]\tvalidation_0-error:0.305589\n",
      "[76]\tvalidation_0-error:0.306358\n",
      "[77]\tvalidation_0-error:0.306248\n",
      "[78]\tvalidation_0-error:0.306248\n",
      "[79]\tvalidation_0-error:0.306358\n",
      "[80]\tvalidation_0-error:0.306687\n",
      "[81]\tvalidation_0-error:0.307346\n",
      "[82]\tvalidation_0-error:0.307017\n",
      "[83]\tvalidation_0-error:0.307346\n",
      "[84]\tvalidation_0-error:0.306468\n",
      "[85]\tvalidation_0-error:0.306577\n",
      "[86]\tvalidation_0-error:0.307456\n",
      "[87]\tvalidation_0-error:0.307017\n",
      "[88]\tvalidation_0-error:0.307346\n",
      "[89]\tvalidation_0-error:0.307017\n",
      "[90]\tvalidation_0-error:0.307017\n",
      "[91]\tvalidation_0-error:0.306907\n",
      "[92]\tvalidation_0-error:0.306797\n",
      "[93]\tvalidation_0-error:0.307346\n",
      "[94]\tvalidation_0-error:0.307236\n",
      "[95]\tvalidation_0-error:0.307785\n",
      "[96]\tvalidation_0-error:0.308224\n",
      "[97]\tvalidation_0-error:0.307895\n",
      "[98]\tvalidation_0-error:0.307346\n",
      "[99]\tvalidation_0-error:0.307346\n",
      "{'colsample_bytree': 0.6, 'learning_rate': 0.05, 'max_depth': 6, 'min_child_weight': 4, 'n_estimators': 100, 'subsample': 0.8}\n",
      "0.6953740562800274\n"
     ]
    }
   ],
   "source": [
    "cv_method = KFold(n_splits=5)\n",
    "\n",
    "params = {\n",
    "    'n_estimators' : [100],\n",
    "    'learning_rate': [0.05],\n",
    "    'max_depth':[6],\n",
    "    'subsample': [0.8],\n",
    "    'min_child_weight':[4],\n",
    "    'colsample_bytree':[0.6]\n",
    "}\n",
    "\n",
    "xgb_grid_cv=GridSearchCV(xgb, param_grid=params, cv=cv_method, verbose=True, n_jobs=-1)\n",
    "xgb_grid_cv.fit(X_train,y_train, eval_set=[(X_valid,y_valid)])\n",
    "\n",
    "xgb_pred=xgb_grid_cv.predict_proba(X_valid)[:,1]\n",
    "\n",
    "print(xgb_grid_cv.best_params_)\n",
    "print(xgb_grid_cv.best_score_)"
   ]
  },
  {
   "cell_type": "code",
   "execution_count": 291,
   "metadata": {},
   "outputs": [
    {
     "name": "stdout",
     "output_type": "stream",
     "text": [
      "0.7638190603795311\n"
     ]
    }
   ],
   "source": [
    "print(roc_auc_score(y_valid, xgb_pred))"
   ]
  },
  {
   "cell_type": "code",
   "execution_count": null,
   "metadata": {},
   "outputs": [],
   "source": []
  },
  {
   "cell_type": "markdown",
   "metadata": {},
   "source": [
    "#### lgbm"
   ]
  },
  {
   "cell_type": "code",
   "execution_count": 292,
   "metadata": {},
   "outputs": [],
   "source": [
    "lgbm=LGBMClassifier(random_state=0)\n",
    "lgbm.fit(X_train, y_train)\n",
    "lgbm_pred=lgbm.predict_proba(X_valid)[:,1]"
   ]
  },
  {
   "cell_type": "code",
   "execution_count": 293,
   "metadata": {},
   "outputs": [
    {
     "name": "stdout",
     "output_type": "stream",
     "text": [
      "0.764317683635189\n"
     ]
    }
   ],
   "source": [
    "print(roc_auc_score(y_valid, lgbm_pred))"
   ]
  },
  {
   "cell_type": "code",
   "execution_count": 306,
   "metadata": {},
   "outputs": [
    {
     "name": "stdout",
     "output_type": "stream",
     "text": [
      "Fitting 5 folds for each of 1 candidates, totalling 5 fits\n",
      "[1]\tvalid_0's binary_logloss: 0.681153\n",
      "Training until validation scores don't improve for 100 rounds\n",
      "[2]\tvalid_0's binary_logloss: 0.674554\n",
      "[3]\tvalid_0's binary_logloss: 0.666245\n",
      "[4]\tvalid_0's binary_logloss: 0.662065\n",
      "[5]\tvalid_0's binary_logloss: 0.65839\n",
      "[6]\tvalid_0's binary_logloss: 0.65063\n",
      "[7]\tvalid_0's binary_logloss: 0.643636\n",
      "[8]\tvalid_0's binary_logloss: 0.63735\n",
      "[9]\tvalid_0's binary_logloss: 0.631576\n",
      "[10]\tvalid_0's binary_logloss: 0.626344\n",
      "[11]\tvalid_0's binary_logloss: 0.622917\n",
      "[12]\tvalid_0's binary_logloss: 0.619253\n",
      "[13]\tvalid_0's binary_logloss: 0.615008\n",
      "[14]\tvalid_0's binary_logloss: 0.611763\n",
      "[15]\tvalid_0's binary_logloss: 0.607902\n",
      "[16]\tvalid_0's binary_logloss: 0.604568\n",
      "[17]\tvalid_0's binary_logloss: 0.601444\n",
      "[18]\tvalid_0's binary_logloss: 0.598863\n",
      "[19]\tvalid_0's binary_logloss: 0.596707\n",
      "[20]\tvalid_0's binary_logloss: 0.594402\n",
      "[21]\tvalid_0's binary_logloss: 0.592507\n",
      "[22]\tvalid_0's binary_logloss: 0.590296\n",
      "[23]\tvalid_0's binary_logloss: 0.58857\n",
      "[24]\tvalid_0's binary_logloss: 0.586994\n",
      "[25]\tvalid_0's binary_logloss: 0.585303\n",
      "[26]\tvalid_0's binary_logloss: 0.583546\n",
      "[27]\tvalid_0's binary_logloss: 0.582908\n",
      "[28]\tvalid_0's binary_logloss: 0.581528\n",
      "[29]\tvalid_0's binary_logloss: 0.580408\n",
      "[30]\tvalid_0's binary_logloss: 0.579092\n",
      "[31]\tvalid_0's binary_logloss: 0.578248\n",
      "[32]\tvalid_0's binary_logloss: 0.576873\n",
      "[33]\tvalid_0's binary_logloss: 0.575629\n",
      "[34]\tvalid_0's binary_logloss: 0.574688\n",
      "[35]\tvalid_0's binary_logloss: 0.573739\n",
      "[36]\tvalid_0's binary_logloss: 0.572896\n",
      "[37]\tvalid_0's binary_logloss: 0.572075\n",
      "[38]\tvalid_0's binary_logloss: 0.571294\n",
      "[39]\tvalid_0's binary_logloss: 0.571182\n",
      "[40]\tvalid_0's binary_logloss: 0.570567\n",
      "[41]\tvalid_0's binary_logloss: 0.570137\n",
      "[42]\tvalid_0's binary_logloss: 0.569433\n",
      "[43]\tvalid_0's binary_logloss: 0.568952\n",
      "[44]\tvalid_0's binary_logloss: 0.568475\n",
      "[45]\tvalid_0's binary_logloss: 0.567863\n",
      "[46]\tvalid_0's binary_logloss: 0.567559\n",
      "[47]\tvalid_0's binary_logloss: 0.567258\n",
      "[48]\tvalid_0's binary_logloss: 0.566645\n",
      "[49]\tvalid_0's binary_logloss: 0.566315\n",
      "[50]\tvalid_0's binary_logloss: 0.565947\n",
      "[51]\tvalid_0's binary_logloss: 0.565537\n",
      "[52]\tvalid_0's binary_logloss: 0.565311\n",
      "[53]\tvalid_0's binary_logloss: 0.56502\n",
      "[54]\tvalid_0's binary_logloss: 0.564687\n",
      "[55]\tvalid_0's binary_logloss: 0.564353\n",
      "[56]\tvalid_0's binary_logloss: 0.564029\n",
      "[57]\tvalid_0's binary_logloss: 0.563788\n",
      "[58]\tvalid_0's binary_logloss: 0.563587\n",
      "[59]\tvalid_0's binary_logloss: 0.563355\n",
      "[60]\tvalid_0's binary_logloss: 0.56317\n",
      "[61]\tvalid_0's binary_logloss: 0.562903\n",
      "[62]\tvalid_0's binary_logloss: 0.562636\n",
      "[63]\tvalid_0's binary_logloss: 0.562492\n",
      "[64]\tvalid_0's binary_logloss: 0.562312\n",
      "[65]\tvalid_0's binary_logloss: 0.562143\n",
      "[66]\tvalid_0's binary_logloss: 0.562012\n",
      "[67]\tvalid_0's binary_logloss: 0.561958\n",
      "[68]\tvalid_0's binary_logloss: 0.561896\n",
      "[69]\tvalid_0's binary_logloss: 0.561651\n",
      "[70]\tvalid_0's binary_logloss: 0.561584\n",
      "[71]\tvalid_0's binary_logloss: 0.561436\n",
      "[72]\tvalid_0's binary_logloss: 0.561378\n",
      "[73]\tvalid_0's binary_logloss: 0.561324\n",
      "[74]\tvalid_0's binary_logloss: 0.561222\n",
      "[75]\tvalid_0's binary_logloss: 0.561241\n",
      "[76]\tvalid_0's binary_logloss: 0.561105\n",
      "[77]\tvalid_0's binary_logloss: 0.561018\n",
      "[78]\tvalid_0's binary_logloss: 0.56094\n",
      "[79]\tvalid_0's binary_logloss: 0.560784\n",
      "[80]\tvalid_0's binary_logloss: 0.560731\n",
      "[81]\tvalid_0's binary_logloss: 0.560775\n",
      "[82]\tvalid_0's binary_logloss: 0.560767\n",
      "[83]\tvalid_0's binary_logloss: 0.560682\n",
      "[84]\tvalid_0's binary_logloss: 0.560645\n",
      "[85]\tvalid_0's binary_logloss: 0.560675\n",
      "[86]\tvalid_0's binary_logloss: 0.560608\n",
      "[87]\tvalid_0's binary_logloss: 0.560619\n",
      "[88]\tvalid_0's binary_logloss: 0.560664\n",
      "[89]\tvalid_0's binary_logloss: 0.560619\n",
      "[90]\tvalid_0's binary_logloss: 0.560574\n",
      "[91]\tvalid_0's binary_logloss: 0.560349\n",
      "[92]\tvalid_0's binary_logloss: 0.560247\n",
      "[93]\tvalid_0's binary_logloss: 0.560227\n",
      "[94]\tvalid_0's binary_logloss: 0.560114\n",
      "[95]\tvalid_0's binary_logloss: 0.560044\n",
      "[96]\tvalid_0's binary_logloss: 0.560007\n",
      "[97]\tvalid_0's binary_logloss: 0.56006\n",
      "[98]\tvalid_0's binary_logloss: 0.560071\n",
      "[99]\tvalid_0's binary_logloss: 0.560107\n",
      "[100]\tvalid_0's binary_logloss: 0.5601\n",
      "Did not meet early stopping. Best iteration is:\n",
      "[96]\tvalid_0's binary_logloss: 0.560007\n",
      "{'colsample_bytree': 0.7, 'learning_rate': 0.05, 'max_depth': 12, 'min_child_samples': 6, 'n_estimators': 100, 'num_leaves': 22, 'subsample': 0.8}\n",
      "0.6979272477693892\n"
     ]
    }
   ],
   "source": [
    "cv_method = KFold(n_splits=5)\n",
    "\n",
    "params = {'n_estimators':[100],\n",
    "          'max_depth': [12],\n",
    "          'learning_rate':[0.05],\n",
    "          'num_leaves':[22],\n",
    "          'min_child_samples': [6],\n",
    "          'subsample': [0.8],\n",
    "         'colsample_bytree':[0.7]\n",
    "         }\n",
    "\n",
    "lgbm_grid_cv = GridSearchCV(lgbm, param_grid=params, cv=cv_method, verbose=True, n_jobs=-1)\n",
    "lgbm_grid_cv.fit(X_train, y_train, early_stopping_rounds=100, eval_metric='accuracy',\n",
    "         eval_set=[(X_valid, y_valid)])\n",
    "\n",
    "lgbm_pred=lgbm_grid_cv.predict_proba(X_valid)[:,1]\n",
    "\n",
    "print(lgbm_grid_cv.best_params_)\n",
    "print(lgbm_grid_cv.best_score_)"
   ]
  },
  {
   "cell_type": "code",
   "execution_count": 307,
   "metadata": {},
   "outputs": [
    {
     "name": "stdout",
     "output_type": "stream",
     "text": [
      "0.7661198724474547\n"
     ]
    }
   ],
   "source": [
    "print(roc_auc_score(y_valid, lgbm_pred))"
   ]
  },
  {
   "cell_type": "code",
   "execution_count": null,
   "metadata": {},
   "outputs": [],
   "source": []
  },
  {
   "cell_type": "markdown",
   "metadata": {},
   "source": [
    "#### 로지스틱 회귀"
   ]
  },
  {
   "cell_type": "code",
   "execution_count": 322,
   "metadata": {},
   "outputs": [],
   "source": [
    "#lr = LogisticRegression(C = 0.9, solver='lbfgs', max_iter=10000)\n",
    "#lr.fit(X_train, y_train)\n",
    "#lr_preds = lr.predict_proba(X_valid)[:,1]"
   ]
  },
  {
   "cell_type": "code",
   "execution_count": 323,
   "metadata": {},
   "outputs": [],
   "source": [
    "#print(roc_auc_score(y_valid,lr_preds))"
   ]
  },
  {
   "cell_type": "code",
   "execution_count": 324,
   "metadata": {},
   "outputs": [],
   "source": [
    "#cv_method = KFold(n_splits=5)\n",
    "#params = {\n",
    "#    'C': [0.4,0.43,0.45]\n",
    "#}\n",
    "#lr_grid_cv = GridSearchCV(lr, param_grid=params, scoring='accuracy', cv=cv_method, n_jobs=-1)\n",
    "#lr_grid_cv.fit(X_train, y_train)\n",
    "\n",
    "#lr_grid_cv_preds = lr_grid_cv.predict_proba(X_valid)[:,1]\n",
    "\n",
    "#print(lr_grid_cv.best_params_)\n",
    "#print(lr_grid_cv.best_score_)"
   ]
  },
  {
   "cell_type": "code",
   "execution_count": 325,
   "metadata": {},
   "outputs": [],
   "source": [
    "#print(roc_auc_score(y_valid,lr_preds))"
   ]
  },
  {
   "cell_type": "markdown",
   "metadata": {},
   "source": [
    "#### catboost"
   ]
  },
  {
   "cell_type": "code",
   "execution_count": 308,
   "metadata": {},
   "outputs": [
    {
     "name": "stdout",
     "output_type": "stream",
     "text": [
      "0:\tlearn: 0.6918848\ttotal: 178ms\tremaining: 14m 51s\n",
      "500:\tlearn: 0.5608740\ttotal: 14.3s\tremaining: 2m 8s\n",
      "1000:\tlearn: 0.5505095\ttotal: 27.6s\tremaining: 1m 50s\n",
      "1500:\tlearn: 0.5433973\ttotal: 40.5s\tremaining: 1m 34s\n",
      "2000:\tlearn: 0.5368496\ttotal: 54.4s\tremaining: 1m 21s\n",
      "2500:\tlearn: 0.5293999\ttotal: 1m 7s\tremaining: 1m 7s\n",
      "3000:\tlearn: 0.5217363\ttotal: 1m 21s\tremaining: 54.1s\n",
      "3500:\tlearn: 0.5143404\ttotal: 1m 33s\tremaining: 40.2s\n",
      "4000:\tlearn: 0.5073502\ttotal: 1m 46s\tremaining: 26.7s\n",
      "4500:\tlearn: 0.5006668\ttotal: 1m 59s\tremaining: 13.2s\n",
      "4999:\tlearn: 0.4940618\ttotal: 2m 11s\tremaining: 0us\n"
     ]
    }
   ],
   "source": [
    "cat = CatBoostClassifier(learning_rate=0.005, iterations=5000)\n",
    "cat.fit(X_train, y_train, early_stopping_rounds=100,verbose=500)\n",
    "cat_preds = cat.predict_proba(X_valid)[:,1]"
   ]
  },
  {
   "cell_type": "code",
   "execution_count": 309,
   "metadata": {},
   "outputs": [
    {
     "name": "stdout",
     "output_type": "stream",
     "text": [
      "0.7663964283885598\n"
     ]
    }
   ],
   "source": [
    "print(roc_auc_score(y_valid, cat_preds))"
   ]
  },
  {
   "cell_type": "code",
   "execution_count": 312,
   "metadata": {},
   "outputs": [
    {
     "name": "stdout",
     "output_type": "stream",
     "text": [
      "0:\tlearn: 0.6918848\ttotal: 21.5ms\tremaining: 1m 47s\n",
      "100:\tlearn: 0.6088150\ttotal: 1.99s\tremaining: 1m 36s\n",
      "200:\tlearn: 0.5816635\ttotal: 4.09s\tremaining: 1m 37s\n",
      "300:\tlearn: 0.5705376\ttotal: 6.23s\tremaining: 1m 37s\n",
      "400:\tlearn: 0.5647040\ttotal: 8.4s\tremaining: 1m 36s\n",
      "500:\tlearn: 0.5608740\ttotal: 10.5s\tremaining: 1m 34s\n",
      "600:\tlearn: 0.5581117\ttotal: 12.9s\tremaining: 1m 34s\n",
      "700:\tlearn: 0.5558639\ttotal: 15s\tremaining: 1m 32s\n",
      "800:\tlearn: 0.5538854\ttotal: 17.3s\tremaining: 1m 30s\n",
      "900:\tlearn: 0.5521023\ttotal: 19.5s\tremaining: 1m 28s\n",
      "1000:\tlearn: 0.5505095\ttotal: 21.7s\tremaining: 1m 26s\n",
      "1100:\tlearn: 0.5489753\ttotal: 23.8s\tremaining: 1m 24s\n",
      "1200:\tlearn: 0.5475315\ttotal: 26s\tremaining: 1m 22s\n",
      "1300:\tlearn: 0.5461047\ttotal: 28.4s\tremaining: 1m 20s\n",
      "1400:\tlearn: 0.5447633\ttotal: 30.6s\tremaining: 1m 18s\n",
      "1500:\tlearn: 0.5433973\ttotal: 33s\tremaining: 1m 16s\n",
      "1600:\tlearn: 0.5421356\ttotal: 35.3s\tremaining: 1m 14s\n",
      "1700:\tlearn: 0.5408320\ttotal: 37.7s\tremaining: 1m 13s\n",
      "1800:\tlearn: 0.5395171\ttotal: 40.1s\tremaining: 1m 11s\n",
      "1900:\tlearn: 0.5382084\ttotal: 42.6s\tremaining: 1m 9s\n",
      "2000:\tlearn: 0.5368496\ttotal: 45.6s\tremaining: 1m 8s\n",
      "2100:\tlearn: 0.5354475\ttotal: 48.8s\tremaining: 1m 7s\n",
      "2200:\tlearn: 0.5339616\ttotal: 52.4s\tremaining: 1m 6s\n",
      "2300:\tlearn: 0.5324572\ttotal: 55.6s\tremaining: 1m 5s\n",
      "2400:\tlearn: 0.5309141\ttotal: 58.7s\tremaining: 1m 3s\n",
      "2500:\tlearn: 0.5293999\ttotal: 1m 1s\tremaining: 1m 1s\n",
      "2600:\tlearn: 0.5278562\ttotal: 1m 4s\tremaining: 59.9s\n",
      "2700:\tlearn: 0.5263002\ttotal: 1m 7s\tremaining: 57.6s\n",
      "2800:\tlearn: 0.5247377\ttotal: 1m 10s\tremaining: 55.5s\n",
      "2900:\tlearn: 0.5232244\ttotal: 1m 14s\tremaining: 53.6s\n",
      "3000:\tlearn: 0.5217363\ttotal: 1m 17s\tremaining: 51.4s\n",
      "3100:\tlearn: 0.5202342\ttotal: 1m 20s\tremaining: 49.2s\n",
      "3200:\tlearn: 0.5187381\ttotal: 1m 23s\tremaining: 46.7s\n",
      "3300:\tlearn: 0.5172381\ttotal: 1m 25s\tremaining: 44.1s\n",
      "3400:\tlearn: 0.5157908\ttotal: 1m 28s\tremaining: 41.5s\n",
      "3500:\tlearn: 0.5143404\ttotal: 1m 30s\tremaining: 39s\n",
      "3600:\tlearn: 0.5128834\ttotal: 1m 33s\tremaining: 36.4s\n",
      "3700:\tlearn: 0.5114926\ttotal: 1m 36s\tremaining: 33.8s\n",
      "3800:\tlearn: 0.5101268\ttotal: 1m 39s\tremaining: 31.4s\n",
      "3900:\tlearn: 0.5087232\ttotal: 1m 42s\tremaining: 28.9s\n",
      "4000:\tlearn: 0.5073502\ttotal: 1m 45s\tremaining: 26.5s\n",
      "4100:\tlearn: 0.5059907\ttotal: 1m 48s\tremaining: 23.8s\n",
      "4200:\tlearn: 0.5046568\ttotal: 1m 51s\tremaining: 21.2s\n",
      "4300:\tlearn: 0.5033281\ttotal: 1m 53s\tremaining: 18.5s\n",
      "4400:\tlearn: 0.5019835\ttotal: 1m 56s\tremaining: 15.8s\n",
      "4500:\tlearn: 0.5006668\ttotal: 1m 59s\tremaining: 13.2s\n",
      "4600:\tlearn: 0.4993569\ttotal: 2m 1s\tremaining: 10.5s\n",
      "4700:\tlearn: 0.4979939\ttotal: 2m 4s\tremaining: 7.89s\n",
      "4800:\tlearn: 0.4967095\ttotal: 2m 6s\tremaining: 5.25s\n",
      "4900:\tlearn: 0.4953462\ttotal: 2m 9s\tremaining: 2.61s\n",
      "4999:\tlearn: 0.4940618\ttotal: 2m 11s\tremaining: 0us\n"
     ]
    }
   ],
   "source": [
    "cat = CatBoostClassifier(learning_rate=0.005, iterations=5000)\n",
    "cat.fit(X_train, y_train, early_stopping_rounds=100,verbose=100)\n",
    "cat_preds = cat.predict_proba(X_valid)[:,1]"
   ]
  },
  {
   "cell_type": "code",
   "execution_count": 313,
   "metadata": {},
   "outputs": [
    {
     "name": "stdout",
     "output_type": "stream",
     "text": [
      "0.7663964283885598\n"
     ]
    }
   ],
   "source": [
    "print(roc_auc_score(y_valid, cat_preds))"
   ]
  },
  {
   "cell_type": "code",
   "execution_count": 102,
   "metadata": {
    "scrolled": true
   },
   "outputs": [
    {
     "data": {
      "text/plain": [
       "{'nan_mode': 'Min',\n",
       " 'eval_metric': 'Logloss',\n",
       " 'iterations': 5000,\n",
       " 'sampling_frequency': 'PerTree',\n",
       " 'leaf_estimation_method': 'Newton',\n",
       " 'od_pval': 0,\n",
       " 'grow_policy': 'SymmetricTree',\n",
       " 'penalties_coefficient': 1,\n",
       " 'boosting_type': 'Plain',\n",
       " 'model_shrink_mode': 'Constant',\n",
       " 'feature_border_type': 'GreedyLogSum',\n",
       " 'bayesian_matrix_reg': 0.10000000149011612,\n",
       " 'l2_leaf_reg': 3,\n",
       " 'random_strength': 1,\n",
       " 'od_type': 'Iter',\n",
       " 'rsm': 1,\n",
       " 'boost_from_average': False,\n",
       " 'model_size_reg': 0.5,\n",
       " 'pool_metainfo_options': {'tags': {}},\n",
       " 'subsample': 0.800000011920929,\n",
       " 'use_best_model': False,\n",
       " 'od_wait': 100,\n",
       " 'class_names': [1, 2],\n",
       " 'random_seed': 0,\n",
       " 'depth': 6,\n",
       " 'posterior_sampling': False,\n",
       " 'border_count': 254,\n",
       " 'classes_count': 0,\n",
       " 'auto_class_weights': 'None',\n",
       " 'sparse_features_conflict_fraction': 0,\n",
       " 'leaf_estimation_backtracking': 'AnyImprovement',\n",
       " 'best_model_min_trees': 1,\n",
       " 'model_shrink_rate': 0,\n",
       " 'min_data_in_leaf': 1,\n",
       " 'loss_function': 'Logloss',\n",
       " 'learning_rate': 0.05000000074505806,\n",
       " 'score_function': 'Cosine',\n",
       " 'task_type': 'CPU',\n",
       " 'leaf_estimation_iterations': 10,\n",
       " 'bootstrap_type': 'MVS',\n",
       " 'max_leaves': 64}"
      ]
     },
     "execution_count": 102,
     "metadata": {},
     "output_type": "execute_result"
    }
   ],
   "source": [
    "cat.get_all_params()"
   ]
  },
  {
   "cell_type": "markdown",
   "metadata": {},
   "source": [
    "### 기본 데이터로 모델링 시\n",
    "### - decision tree -> 0.7086\n",
    "### - random forest -> 0.7531\n",
    "### - xgboost -> 0.7638\n",
    "### - lightgbm -> 0.7661\n",
    "### - catboost -> 0.7664"
   ]
  },
  {
   "cell_type": "code",
   "execution_count": null,
   "metadata": {},
   "outputs": [],
   "source": []
  },
  {
   "cell_type": "markdown",
   "metadata": {},
   "source": [
    "## 모델링2"
   ]
  },
  {
   "cell_type": "markdown",
   "metadata": {},
   "source": [
    "#### decision tree"
   ]
  },
  {
   "cell_type": "code",
   "execution_count": 296,
   "metadata": {},
   "outputs": [],
   "source": [
    "dt= DecisionTreeClassifier(random_state=0)\n",
    "dt.fit(X_train_2, y_train_2)\n",
    "\n",
    "dt_preds = dt.predict_proba(X_valid_2)[:, 1]"
   ]
  },
  {
   "cell_type": "code",
   "execution_count": 297,
   "metadata": {},
   "outputs": [
    {
     "name": "stdout",
     "output_type": "stream",
     "text": [
      "0.6131602430030264\n"
     ]
    }
   ],
   "source": [
    "print(roc_auc_score(y_valid_2, dt_preds))"
   ]
  },
  {
   "cell_type": "code",
   "execution_count": 326,
   "metadata": {},
   "outputs": [
    {
     "name": "stdout",
     "output_type": "stream",
     "text": [
      "{'max_depth': 2, 'max_leaf_nodes': 4, 'min_samples_leaf': 2, 'min_samples_split': 2}\n",
      "0.6707022170809551\n"
     ]
    }
   ],
   "source": [
    "cv_method = KFold(n_splits=10)\n",
    "params = {\n",
    "    'max_depth':[2],\n",
    "    'min_samples_leaf':[2],\n",
    "    'min_samples_split':[2],\n",
    "    'max_leaf_nodes':[4]\n",
    "}\n",
    "dt_grid_cv = GridSearchCV(dt, param_grid=params, scoring='accuracy', cv=cv_method, n_jobs=-1)\n",
    "dt_grid_cv.fit(X_train_2, y_train_2)\n",
    "\n",
    "dt_preds = dt_grid_cv.predict_proba(X_valid_2)[:, 1]\n",
    "\n",
    "print(dt_grid_cv.best_params_)\n",
    "print(dt_grid_cv.best_score_)"
   ]
  },
  {
   "cell_type": "code",
   "execution_count": 327,
   "metadata": {},
   "outputs": [
    {
     "name": "stdout",
     "output_type": "stream",
     "text": [
      "0.7139478570589649\n"
     ]
    }
   ],
   "source": [
    "print(roc_auc_score(y_valid_2, dt_preds))"
   ]
  },
  {
   "cell_type": "code",
   "execution_count": null,
   "metadata": {},
   "outputs": [],
   "source": []
  },
  {
   "cell_type": "markdown",
   "metadata": {},
   "source": [
    "#### random forest"
   ]
  },
  {
   "cell_type": "code",
   "execution_count": 316,
   "metadata": {},
   "outputs": [],
   "source": [
    "rf = RandomForestClassifier(random_state=0)\n",
    "rf.fit(X_train_2, y_train_2)\n",
    "\n",
    "rf_preds=rf.predict_proba(X_valid_2)[:, 1]"
   ]
  },
  {
   "cell_type": "code",
   "execution_count": 317,
   "metadata": {},
   "outputs": [
    {
     "name": "stdout",
     "output_type": "stream",
     "text": [
      "0.759353928673377\n"
     ]
    }
   ],
   "source": [
    "print(roc_auc_score(y_valid_2, rf_preds))"
   ]
  },
  {
   "cell_type": "code",
   "execution_count": 344,
   "metadata": {},
   "outputs": [
    {
     "name": "stdout",
     "output_type": "stream",
     "text": [
      "{'max_depth': 14, 'min_samples_leaf': 2, 'min_samples_split': 2, 'n_estimators': 200}\n",
      "0.6933256972625855\n"
     ]
    }
   ],
   "source": [
    "cv_method = KFold(n_splits=5)\n",
    "params={\n",
    "    'n_estimators':[200],\n",
    "    'max_depth' : [14],\n",
    "    'min_samples_leaf' : [2],\n",
    "    'min_samples_split' : [2]\n",
    " }\n",
    "\n",
    "rf_grid_cv = GridSearchCV(rf, param_grid=params, cv=cv_method)\n",
    "rf_grid_cv.fit(X_train_2, y_train_2)\n",
    "\n",
    "rf_preds=rf_grid_cv.predict_proba(X_valid_2)[:, 1]\n",
    "\n",
    "print(rf_grid_cv.best_params_)\n",
    "print(rf_grid_cv.best_score_)"
   ]
  },
  {
   "cell_type": "code",
   "execution_count": 345,
   "metadata": {},
   "outputs": [
    {
     "name": "stdout",
     "output_type": "stream",
     "text": [
      "0.7660819262123901\n"
     ]
    }
   ],
   "source": [
    "print(roc_auc_score(y_valid_2, rf_preds))"
   ]
  },
  {
   "cell_type": "code",
   "execution_count": null,
   "metadata": {},
   "outputs": [],
   "source": []
  },
  {
   "cell_type": "markdown",
   "metadata": {},
   "source": [
    "#### xgboost"
   ]
  },
  {
   "cell_type": "code",
   "execution_count": 330,
   "metadata": {},
   "outputs": [],
   "source": [
    "xgb=XGBClassifier(random_state=0)\n",
    "xgb.fit(X_train_2, y_train_2)\n",
    "xgb_pred=xgb.predict_proba(X_valid_2)[:,1]"
   ]
  },
  {
   "cell_type": "code",
   "execution_count": 331,
   "metadata": {},
   "outputs": [
    {
     "name": "stdout",
     "output_type": "stream",
     "text": [
      "0.7681721658397263\n"
     ]
    }
   ],
   "source": [
    "print(roc_auc_score(y_valid_2, xgb_pred))"
   ]
  },
  {
   "cell_type": "code",
   "execution_count": 338,
   "metadata": {
    "scrolled": true
   },
   "outputs": [
    {
     "name": "stdout",
     "output_type": "stream",
     "text": [
      "Fitting 5 folds for each of 2 candidates, totalling 10 fits\n",
      "[0]\tvalidation_0-error:0.331649\n",
      "[1]\tvalidation_0-error:0.336591\n",
      "[2]\tvalidation_0-error:0.323084\n",
      "[3]\tvalidation_0-error:0.322095\n",
      "[4]\tvalidation_0-error:0.318362\n",
      "[5]\tvalidation_0-error:0.315616\n",
      "[6]\tvalidation_0-error:0.312541\n",
      "[7]\tvalidation_0-error:0.315177\n",
      "[8]\tvalidation_0-error:0.310345\n",
      "[9]\tvalidation_0-error:0.310674\n",
      "[10]\tvalidation_0-error:0.310235\n",
      "[11]\tvalidation_0-error:0.308368\n",
      "[12]\tvalidation_0-error:0.308148\n",
      "[13]\tvalidation_0-error:0.304524\n",
      "[14]\tvalidation_0-error:0.305842\n",
      "[15]\tvalidation_0-error:0.306501\n",
      "[16]\tvalidation_0-error:0.306391\n",
      "[17]\tvalidation_0-error:0.305513\n",
      "[18]\tvalidation_0-error:0.304854\n",
      "[19]\tvalidation_0-error:0.304744\n",
      "[20]\tvalidation_0-error:0.304634\n",
      "[21]\tvalidation_0-error:0.304854\n",
      "[22]\tvalidation_0-error:0.303207\n",
      "[23]\tvalidation_0-error:0.302108\n",
      "[24]\tvalidation_0-error:0.302658\n",
      "[25]\tvalidation_0-error:0.302328\n",
      "[26]\tvalidation_0-error:0.302987\n",
      "[27]\tvalidation_0-error:0.301999\n",
      "[28]\tvalidation_0-error:0.303207\n",
      "[29]\tvalidation_0-error:0.30145\n",
      "[30]\tvalidation_0-error:0.302767\n",
      "[31]\tvalidation_0-error:0.303426\n",
      "[32]\tvalidation_0-error:0.303646\n",
      "[33]\tvalidation_0-error:0.302987\n",
      "[34]\tvalidation_0-error:0.303317\n",
      "[35]\tvalidation_0-error:0.303975\n",
      "[36]\tvalidation_0-error:0.303756\n",
      "[37]\tvalidation_0-error:0.303426\n",
      "[38]\tvalidation_0-error:0.302987\n",
      "[39]\tvalidation_0-error:0.302438\n",
      "[40]\tvalidation_0-error:0.302438\n",
      "[41]\tvalidation_0-error:0.302767\n",
      "[42]\tvalidation_0-error:0.302987\n",
      "[43]\tvalidation_0-error:0.302767\n",
      "[44]\tvalidation_0-error:0.302438\n",
      "[45]\tvalidation_0-error:0.302658\n",
      "[46]\tvalidation_0-error:0.302108\n",
      "[47]\tvalidation_0-error:0.302108\n",
      "[48]\tvalidation_0-error:0.301999\n",
      "[49]\tvalidation_0-error:0.301669\n",
      "[50]\tvalidation_0-error:0.301559\n",
      "[51]\tvalidation_0-error:0.300681\n",
      "[52]\tvalidation_0-error:0.30112\n",
      "[53]\tvalidation_0-error:0.30134\n",
      "[54]\tvalidation_0-error:0.30134\n",
      "[55]\tvalidation_0-error:0.302767\n",
      "[56]\tvalidation_0-error:0.302108\n",
      "[57]\tvalidation_0-error:0.302767\n",
      "[58]\tvalidation_0-error:0.302108\n",
      "[59]\tvalidation_0-error:0.301779\n",
      "[60]\tvalidation_0-error:0.301779\n",
      "[61]\tvalidation_0-error:0.302108\n",
      "[62]\tvalidation_0-error:0.302328\n",
      "[63]\tvalidation_0-error:0.300791\n",
      "[64]\tvalidation_0-error:0.300351\n",
      "[65]\tvalidation_0-error:0.30101\n",
      "[66]\tvalidation_0-error:0.300132\n",
      "[67]\tvalidation_0-error:0.300351\n",
      "[68]\tvalidation_0-error:0.300242\n",
      "[69]\tvalidation_0-error:0.300242\n",
      "[70]\tvalidation_0-error:0.300681\n",
      "[71]\tvalidation_0-error:0.299363\n",
      "[72]\tvalidation_0-error:0.300022\n",
      "[73]\tvalidation_0-error:0.300132\n",
      "[74]\tvalidation_0-error:0.300901\n",
      "[75]\tvalidation_0-error:0.300242\n",
      "[76]\tvalidation_0-error:0.299912\n",
      "[77]\tvalidation_0-error:0.300461\n",
      "[78]\tvalidation_0-error:0.299802\n",
      "[79]\tvalidation_0-error:0.299912\n",
      "[80]\tvalidation_0-error:0.300461\n",
      "[81]\tvalidation_0-error:0.300242\n",
      "[82]\tvalidation_0-error:0.300022\n",
      "[83]\tvalidation_0-error:0.300791\n",
      "[84]\tvalidation_0-error:0.300132\n",
      "[85]\tvalidation_0-error:0.300242\n",
      "[86]\tvalidation_0-error:0.300791\n",
      "[87]\tvalidation_0-error:0.300351\n",
      "[88]\tvalidation_0-error:0.300022\n",
      "[89]\tvalidation_0-error:0.300132\n",
      "[90]\tvalidation_0-error:0.300571\n",
      "[91]\tvalidation_0-error:0.300681\n",
      "[92]\tvalidation_0-error:0.30112\n",
      "[93]\tvalidation_0-error:0.300791\n",
      "[94]\tvalidation_0-error:0.299802\n",
      "[95]\tvalidation_0-error:0.300461\n",
      "[96]\tvalidation_0-error:0.300461\n",
      "[97]\tvalidation_0-error:0.299912\n",
      "[98]\tvalidation_0-error:0.299912\n",
      "[99]\tvalidation_0-error:0.299693\n",
      "{'colsample_bytree': 0.6, 'learning_rate': 0.05, 'max_depth': 6, 'min_child_weight': 2, 'n_estimators': 100, 'subsample': 0.8}\n",
      "0.695714306174777\n"
     ]
    }
   ],
   "source": [
    "cv_method = KFold(n_splits=5)\n",
    "\n",
    "params = {\n",
    "    'n_estimators' : [100],\n",
    "    'learning_rate': [0.05],\n",
    "    'max_depth':[6],\n",
    "    'subsample': [0.8],\n",
    "    'min_child_weight':[2],\n",
    "    'colsample_bytree':[0.6]\n",
    "}\n",
    "\n",
    "xgb_grid_cv=GridSearchCV(xgb, param_grid=params, cv=cv_method, verbose=True, n_jobs=-1)\n",
    "xgb_grid_cv.fit(X_train_2,y_train_2, eval_set=[(X_valid_2,y_valid_2)])\n",
    "\n",
    "xgb_pred=xgb_grid_cv.predict_proba(X_valid_2)[:,1]\n",
    "\n",
    "print(xgb_grid_cv.best_params_)\n",
    "print(xgb_grid_cv.best_score_)"
   ]
  },
  {
   "cell_type": "code",
   "execution_count": 339,
   "metadata": {},
   "outputs": [
    {
     "name": "stdout",
     "output_type": "stream",
     "text": [
      "0.7719045299973633\n"
     ]
    }
   ],
   "source": [
    "print(roc_auc_score(y_valid_2, xgb_pred))"
   ]
  },
  {
   "cell_type": "code",
   "execution_count": null,
   "metadata": {},
   "outputs": [],
   "source": []
  },
  {
   "cell_type": "markdown",
   "metadata": {},
   "source": [
    "#### lgbm"
   ]
  },
  {
   "cell_type": "code",
   "execution_count": 342,
   "metadata": {},
   "outputs": [],
   "source": [
    "lgbm=LGBMClassifier(random_state=0)\n",
    "lgbm.fit(X_train_2, y_train_2)\n",
    "lgbm_pred=lgbm.predict_proba(X_valid_2)[:,1]"
   ]
  },
  {
   "cell_type": "code",
   "execution_count": 343,
   "metadata": {},
   "outputs": [
    {
     "name": "stdout",
     "output_type": "stream",
     "text": [
      "0.7715978545699768\n"
     ]
    }
   ],
   "source": [
    "print(roc_auc_score(y_valid_2, lgbm_pred))"
   ]
  },
  {
   "cell_type": "code",
   "execution_count": 350,
   "metadata": {},
   "outputs": [
    {
     "name": "stdout",
     "output_type": "stream",
     "text": [
      "Fitting 5 folds for each of 8 candidates, totalling 40 fits\n",
      "[1]\tvalid_0's binary_logloss: 0.679041\n",
      "Training until validation scores don't improve for 100 rounds\n",
      "[2]\tvalid_0's binary_logloss: 0.670989\n",
      "[3]\tvalid_0's binary_logloss: 0.662303\n",
      "[4]\tvalid_0's binary_logloss: 0.655577\n",
      "[5]\tvalid_0's binary_logloss: 0.648168\n",
      "[6]\tvalid_0's binary_logloss: 0.642246\n",
      "[7]\tvalid_0's binary_logloss: 0.635997\n",
      "[8]\tvalid_0's binary_logloss: 0.630235\n",
      "[9]\tvalid_0's binary_logloss: 0.625728\n",
      "[10]\tvalid_0's binary_logloss: 0.621526\n",
      "[11]\tvalid_0's binary_logloss: 0.617678\n",
      "[12]\tvalid_0's binary_logloss: 0.616369\n",
      "[13]\tvalid_0's binary_logloss: 0.612207\n",
      "[14]\tvalid_0's binary_logloss: 0.608358\n",
      "[15]\tvalid_0's binary_logloss: 0.606922\n",
      "[16]\tvalid_0's binary_logloss: 0.60368\n",
      "[17]\tvalid_0's binary_logloss: 0.600481\n",
      "[18]\tvalid_0's binary_logloss: 0.597552\n",
      "[19]\tvalid_0's binary_logloss: 0.596397\n",
      "[20]\tvalid_0's binary_logloss: 0.593832\n",
      "[21]\tvalid_0's binary_logloss: 0.591519\n",
      "[22]\tvalid_0's binary_logloss: 0.589137\n",
      "[23]\tvalid_0's binary_logloss: 0.58718\n",
      "[24]\tvalid_0's binary_logloss: 0.585603\n",
      "[25]\tvalid_0's binary_logloss: 0.584097\n",
      "[26]\tvalid_0's binary_logloss: 0.582323\n",
      "[27]\tvalid_0's binary_logloss: 0.580749\n",
      "[28]\tvalid_0's binary_logloss: 0.579373\n",
      "[29]\tvalid_0's binary_logloss: 0.578065\n",
      "[30]\tvalid_0's binary_logloss: 0.576788\n",
      "[31]\tvalid_0's binary_logloss: 0.575806\n",
      "[32]\tvalid_0's binary_logloss: 0.574629\n",
      "[33]\tvalid_0's binary_logloss: 0.573523\n",
      "[34]\tvalid_0's binary_logloss: 0.572384\n",
      "[35]\tvalid_0's binary_logloss: 0.57142\n",
      "[36]\tvalid_0's binary_logloss: 0.570536\n",
      "[37]\tvalid_0's binary_logloss: 0.569599\n",
      "[38]\tvalid_0's binary_logloss: 0.569059\n",
      "[39]\tvalid_0's binary_logloss: 0.56855\n",
      "[40]\tvalid_0's binary_logloss: 0.567804\n",
      "[41]\tvalid_0's binary_logloss: 0.567296\n",
      "[42]\tvalid_0's binary_logloss: 0.566598\n",
      "[43]\tvalid_0's binary_logloss: 0.565928\n",
      "[44]\tvalid_0's binary_logloss: 0.565339\n",
      "[45]\tvalid_0's binary_logloss: 0.565018\n",
      "[46]\tvalid_0's binary_logloss: 0.564698\n",
      "[47]\tvalid_0's binary_logloss: 0.564203\n",
      "[48]\tvalid_0's binary_logloss: 0.563725\n",
      "[49]\tvalid_0's binary_logloss: 0.563331\n",
      "[50]\tvalid_0's binary_logloss: 0.562914\n",
      "[51]\tvalid_0's binary_logloss: 0.562732\n",
      "[52]\tvalid_0's binary_logloss: 0.562341\n",
      "[53]\tvalid_0's binary_logloss: 0.562161\n",
      "[54]\tvalid_0's binary_logloss: 0.561781\n",
      "[55]\tvalid_0's binary_logloss: 0.561403\n",
      "[56]\tvalid_0's binary_logloss: 0.56103\n",
      "[57]\tvalid_0's binary_logloss: 0.560764\n",
      "[58]\tvalid_0's binary_logloss: 0.560568\n",
      "[59]\tvalid_0's binary_logloss: 0.560388\n",
      "[60]\tvalid_0's binary_logloss: 0.560217\n",
      "[61]\tvalid_0's binary_logloss: 0.559941\n",
      "[62]\tvalid_0's binary_logloss: 0.559741\n",
      "[63]\tvalid_0's binary_logloss: 0.559671\n",
      "[64]\tvalid_0's binary_logloss: 0.559478\n",
      "[65]\tvalid_0's binary_logloss: 0.559273\n",
      "[66]\tvalid_0's binary_logloss: 0.559083\n",
      "[67]\tvalid_0's binary_logloss: 0.558916\n",
      "[68]\tvalid_0's binary_logloss: 0.558717\n",
      "[69]\tvalid_0's binary_logloss: 0.55853\n",
      "[70]\tvalid_0's binary_logloss: 0.558296\n",
      "[71]\tvalid_0's binary_logloss: 0.558264\n",
      "[72]\tvalid_0's binary_logloss: 0.558084\n",
      "[73]\tvalid_0's binary_logloss: 0.557873\n",
      "[74]\tvalid_0's binary_logloss: 0.557755\n",
      "[75]\tvalid_0's binary_logloss: 0.557654\n",
      "[76]\tvalid_0's binary_logloss: 0.557623\n",
      "[77]\tvalid_0's binary_logloss: 0.557485\n",
      "[78]\tvalid_0's binary_logloss: 0.557426\n",
      "[79]\tvalid_0's binary_logloss: 0.55727\n",
      "[80]\tvalid_0's binary_logloss: 0.557135\n",
      "[81]\tvalid_0's binary_logloss: 0.55712\n",
      "[82]\tvalid_0's binary_logloss: 0.557037\n",
      "[83]\tvalid_0's binary_logloss: 0.557051\n",
      "[84]\tvalid_0's binary_logloss: 0.556943\n",
      "[85]\tvalid_0's binary_logloss: 0.556821\n",
      "[86]\tvalid_0's binary_logloss: 0.556753\n",
      "[87]\tvalid_0's binary_logloss: 0.556672\n",
      "[88]\tvalid_0's binary_logloss: 0.556627\n",
      "[89]\tvalid_0's binary_logloss: 0.556576\n",
      "[90]\tvalid_0's binary_logloss: 0.556565\n",
      "[91]\tvalid_0's binary_logloss: 0.556473\n",
      "[92]\tvalid_0's binary_logloss: 0.556449\n",
      "[93]\tvalid_0's binary_logloss: 0.556418\n",
      "[94]\tvalid_0's binary_logloss: 0.556379\n",
      "[95]\tvalid_0's binary_logloss: 0.556299\n",
      "[96]\tvalid_0's binary_logloss: 0.556266\n",
      "[97]\tvalid_0's binary_logloss: 0.556182\n",
      "[98]\tvalid_0's binary_logloss: 0.556128\n",
      "[99]\tvalid_0's binary_logloss: 0.556115\n",
      "[100]\tvalid_0's binary_logloss: 0.556072\n",
      "[101]\tvalid_0's binary_logloss: 0.55611\n",
      "[102]\tvalid_0's binary_logloss: 0.556077\n",
      "[103]\tvalid_0's binary_logloss: 0.556059\n",
      "[104]\tvalid_0's binary_logloss: 0.556047\n",
      "[105]\tvalid_0's binary_logloss: 0.556046\n",
      "[106]\tvalid_0's binary_logloss: 0.55604\n",
      "[107]\tvalid_0's binary_logloss: 0.556017\n",
      "[108]\tvalid_0's binary_logloss: 0.555963\n",
      "[109]\tvalid_0's binary_logloss: 0.555943\n",
      "[110]\tvalid_0's binary_logloss: 0.555857\n",
      "[111]\tvalid_0's binary_logloss: 0.555901\n",
      "[112]\tvalid_0's binary_logloss: 0.555881\n",
      "[113]\tvalid_0's binary_logloss: 0.555927\n",
      "[114]\tvalid_0's binary_logloss: 0.555966\n",
      "[115]\tvalid_0's binary_logloss: 0.555989\n",
      "[116]\tvalid_0's binary_logloss: 0.555977\n",
      "[117]\tvalid_0's binary_logloss: 0.556042\n",
      "[118]\tvalid_0's binary_logloss: 0.556029\n",
      "[119]\tvalid_0's binary_logloss: 0.556043\n",
      "[120]\tvalid_0's binary_logloss: 0.555971\n",
      "[121]\tvalid_0's binary_logloss: 0.555952\n",
      "[122]\tvalid_0's binary_logloss: 0.555956\n",
      "[123]\tvalid_0's binary_logloss: 0.555968\n",
      "[124]\tvalid_0's binary_logloss: 0.555989\n",
      "[125]\tvalid_0's binary_logloss: 0.555944\n",
      "[126]\tvalid_0's binary_logloss: 0.555909\n",
      "[127]\tvalid_0's binary_logloss: 0.555963\n",
      "[128]\tvalid_0's binary_logloss: 0.555892\n",
      "[129]\tvalid_0's binary_logloss: 0.555887\n",
      "[130]\tvalid_0's binary_logloss: 0.55584\n",
      "[131]\tvalid_0's binary_logloss: 0.555845\n",
      "[132]\tvalid_0's binary_logloss: 0.555781\n",
      "[133]\tvalid_0's binary_logloss: 0.555809\n",
      "[134]\tvalid_0's binary_logloss: 0.555824\n",
      "[135]\tvalid_0's binary_logloss: 0.555832\n",
      "[136]\tvalid_0's binary_logloss: 0.555788\n",
      "[137]\tvalid_0's binary_logloss: 0.55579\n",
      "[138]\tvalid_0's binary_logloss: 0.555783\n",
      "[139]\tvalid_0's binary_logloss: 0.555804\n",
      "[140]\tvalid_0's binary_logloss: 0.555763\n",
      "[141]\tvalid_0's binary_logloss: 0.555762\n",
      "[142]\tvalid_0's binary_logloss: 0.555725\n",
      "[143]\tvalid_0's binary_logloss: 0.555793\n",
      "[144]\tvalid_0's binary_logloss: 0.555772\n",
      "[145]\tvalid_0's binary_logloss: 0.555768\n",
      "[146]\tvalid_0's binary_logloss: 0.555769\n",
      "[147]\tvalid_0's binary_logloss: 0.555725\n",
      "[148]\tvalid_0's binary_logloss: 0.555745\n",
      "[149]\tvalid_0's binary_logloss: 0.555759\n",
      "[150]\tvalid_0's binary_logloss: 0.555732\n",
      "[151]\tvalid_0's binary_logloss: 0.555737\n",
      "[152]\tvalid_0's binary_logloss: 0.555694\n",
      "[153]\tvalid_0's binary_logloss: 0.555689\n",
      "[154]\tvalid_0's binary_logloss: 0.55561\n",
      "[155]\tvalid_0's binary_logloss: 0.555539\n",
      "[156]\tvalid_0's binary_logloss: 0.555585\n",
      "[157]\tvalid_0's binary_logloss: 0.555541\n",
      "[158]\tvalid_0's binary_logloss: 0.555533\n",
      "[159]\tvalid_0's binary_logloss: 0.555536\n",
      "[160]\tvalid_0's binary_logloss: 0.555518\n",
      "[161]\tvalid_0's binary_logloss: 0.555417\n",
      "[162]\tvalid_0's binary_logloss: 0.555457\n",
      "[163]\tvalid_0's binary_logloss: 0.555424\n",
      "[164]\tvalid_0's binary_logloss: 0.555379\n",
      "[165]\tvalid_0's binary_logloss: 0.555361\n",
      "[166]\tvalid_0's binary_logloss: 0.555372\n",
      "[167]\tvalid_0's binary_logloss: 0.555403\n",
      "[168]\tvalid_0's binary_logloss: 0.555365\n",
      "[169]\tvalid_0's binary_logloss: 0.55537\n",
      "[170]\tvalid_0's binary_logloss: 0.555365\n",
      "[171]\tvalid_0's binary_logloss: 0.555415\n",
      "[172]\tvalid_0's binary_logloss: 0.555392\n",
      "[173]\tvalid_0's binary_logloss: 0.555409\n",
      "[174]\tvalid_0's binary_logloss: 0.555416\n",
      "[175]\tvalid_0's binary_logloss: 0.555424\n",
      "[176]\tvalid_0's binary_logloss: 0.555407\n",
      "[177]\tvalid_0's binary_logloss: 0.555419\n",
      "[178]\tvalid_0's binary_logloss: 0.55543\n",
      "[179]\tvalid_0's binary_logloss: 0.55544\n",
      "[180]\tvalid_0's binary_logloss: 0.555409\n",
      "[181]\tvalid_0's binary_logloss: 0.555437\n",
      "[182]\tvalid_0's binary_logloss: 0.555464\n",
      "[183]\tvalid_0's binary_logloss: 0.555401\n",
      "[184]\tvalid_0's binary_logloss: 0.555408\n",
      "[185]\tvalid_0's binary_logloss: 0.555404\n",
      "[186]\tvalid_0's binary_logloss: 0.555422\n",
      "[187]\tvalid_0's binary_logloss: 0.555397\n",
      "[188]\tvalid_0's binary_logloss: 0.555414\n",
      "[189]\tvalid_0's binary_logloss: 0.555439\n",
      "[190]\tvalid_0's binary_logloss: 0.555436\n",
      "[191]\tvalid_0's binary_logloss: 0.555404\n",
      "[192]\tvalid_0's binary_logloss: 0.555425\n",
      "[193]\tvalid_0's binary_logloss: 0.555402\n",
      "[194]\tvalid_0's binary_logloss: 0.555398\n",
      "[195]\tvalid_0's binary_logloss: 0.555429\n",
      "[196]\tvalid_0's binary_logloss: 0.555395\n",
      "[197]\tvalid_0's binary_logloss: 0.55547\n",
      "[198]\tvalid_0's binary_logloss: 0.555448\n",
      "[199]\tvalid_0's binary_logloss: 0.555422\n",
      "[200]\tvalid_0's binary_logloss: 0.555416\n",
      "Did not meet early stopping. Best iteration is:\n",
      "[165]\tvalid_0's binary_logloss: 0.555361\n",
      "{'colsample_bytree': 0.7, 'learning_rate': 0.05, 'max_depth': 16, 'min_child_samples': 6, 'n_estimators': 200, 'num_leaves': 20, 'subsample': 0.8}\n",
      "0.6962359560937239\n"
     ]
    }
   ],
   "source": [
    "cv_method = KFold(n_splits=5)\n",
    "\n",
    "params = {'n_estimators':[200],\n",
    "          'max_depth': [16],\n",
    "          'learning_rate':[0.05],\n",
    "          'num_leaves':[20],\n",
    "          'min_child_samples': [6],\n",
    "          'subsample': [0.8],\n",
    "         'colsample_bytree':[0.7]\n",
    "         }\n",
    "\n",
    "lgbm_grid_cv = GridSearchCV(lgbm, param_grid=params, cv=cv_method, verbose=True, n_jobs=-1)\n",
    "lgbm_grid_cv.fit(X_train_2, y_train_2, early_stopping_rounds=100, eval_metric='accuracy',\n",
    "         eval_set=[(X_valid_2, y_valid_2)])\n",
    "\n",
    "lgbm_pred=lgbm_grid_cv.predict_proba(X_valid_2)[:,1]\n",
    "\n",
    "print(lgbm_grid_cv.best_params_)\n",
    "print(lgbm_grid_cv.best_score_)"
   ]
  },
  {
   "cell_type": "code",
   "execution_count": 351,
   "metadata": {},
   "outputs": [
    {
     "name": "stdout",
     "output_type": "stream",
     "text": [
      "0.7720041138307627\n"
     ]
    }
   ],
   "source": [
    "print(roc_auc_score(y_valid_2, lgbm_pred))"
   ]
  },
  {
   "cell_type": "code",
   "execution_count": null,
   "metadata": {},
   "outputs": [],
   "source": []
  },
  {
   "cell_type": "markdown",
   "metadata": {},
   "source": [
    "#### catboost"
   ]
  },
  {
   "cell_type": "code",
   "execution_count": 352,
   "metadata": {},
   "outputs": [
    {
     "name": "stdout",
     "output_type": "stream",
     "text": [
      "0:\tlearn: 0.6915242\ttotal: 43ms\tremaining: 3m 34s\n",
      "500:\tlearn: 0.5614007\ttotal: 9.56s\tremaining: 1m 25s\n",
      "1000:\tlearn: 0.5513929\ttotal: 18.8s\tremaining: 1m 15s\n",
      "1500:\tlearn: 0.5447487\ttotal: 28.4s\tremaining: 1m 6s\n",
      "2000:\tlearn: 0.5387465\ttotal: 38.5s\tremaining: 57.7s\n",
      "2500:\tlearn: 0.5318119\ttotal: 50.6s\tremaining: 50.6s\n",
      "3000:\tlearn: 0.5250016\ttotal: 1m 2s\tremaining: 41.7s\n",
      "3500:\tlearn: 0.5185283\ttotal: 1m 16s\tremaining: 32.7s\n",
      "4000:\tlearn: 0.5124788\ttotal: 1m 28s\tremaining: 22s\n",
      "4500:\tlearn: 0.5064504\ttotal: 1m 40s\tremaining: 11.1s\n",
      "4999:\tlearn: 0.5008683\ttotal: 1m 51s\tremaining: 0us\n"
     ]
    }
   ],
   "source": [
    "cat = CatBoostClassifier(learning_rate=0.005, iterations=5000)\n",
    "cat.fit(X_train_2, y_train_2, early_stopping_rounds=100,verbose=500)\n",
    "cat_preds = cat.predict_proba(X_valid_2)[:,1]"
   ]
  },
  {
   "cell_type": "code",
   "execution_count": 353,
   "metadata": {},
   "outputs": [
    {
     "name": "stdout",
     "output_type": "stream",
     "text": [
      "0.7741523731335506\n"
     ]
    }
   ],
   "source": [
    "print(roc_auc_score(y_valid_2, cat_preds))"
   ]
  },
  {
   "cell_type": "code",
   "execution_count": null,
   "metadata": {},
   "outputs": [],
   "source": []
  },
  {
   "cell_type": "markdown",
   "metadata": {},
   "source": [
    "### 이상치 제거, 변수 제거 데이터로 모델링 시\n",
    "### decision tree -> 0.7139\n",
    "### random forest -> 0.7660\n",
    "### xgboost -> 0.7719\n",
    "### lightgbm -> 0.7720\n",
    "### catboost -> 0.7742"
   ]
  },
  {
   "cell_type": "code",
   "execution_count": null,
   "metadata": {},
   "outputs": [],
   "source": []
  },
  {
   "cell_type": "markdown",
   "metadata": {},
   "source": [
    "- 가장 성능이 높았던 catboost 모델로 test data 넣어서 예측 후 제출"
   ]
  },
  {
   "cell_type": "code",
   "execution_count": 574,
   "metadata": {},
   "outputs": [],
   "source": [
    "pred_y = cat.predict_proba(test)[:,1]"
   ]
  },
  {
   "cell_type": "code",
   "execution_count": 575,
   "metadata": {
    "scrolled": true
   },
   "outputs": [
    {
     "data": {
      "text/plain": [
       "array([0.24546182, 0.07354219, 0.56035983, ..., 0.81348139, 0.64805957,\n",
       "       0.42665561])"
      ]
     },
     "execution_count": 575,
     "metadata": {},
     "output_type": "execute_result"
    }
   ],
   "source": [
    "pred_y"
   ]
  },
  {
   "cell_type": "code",
   "execution_count": 576,
   "metadata": {},
   "outputs": [],
   "source": [
    "pred = np.where(pred_y > 0.5, 1, 2)"
   ]
  },
  {
   "cell_type": "code",
   "execution_count": 577,
   "metadata": {},
   "outputs": [
    {
     "data": {
      "text/plain": [
       "array([2, 2, 1, ..., 1, 1, 2])"
      ]
     },
     "execution_count": 577,
     "metadata": {},
     "output_type": "execute_result"
    }
   ],
   "source": [
    "pred"
   ]
  },
  {
   "cell_type": "code",
   "execution_count": 579,
   "metadata": {},
   "outputs": [],
   "source": [
    "sample_submission['voted'] = pred\n",
    "sample_submission.to_csv('sample_submission.csv', index=False)"
   ]
  },
  {
   "cell_type": "markdown",
   "metadata": {},
   "source": [
    "## 모델링3"
   ]
  },
  {
   "cell_type": "markdown",
   "metadata": {},
   "source": [
    "#### decision tree"
   ]
  },
  {
   "cell_type": "code",
   "execution_count": 354,
   "metadata": {},
   "outputs": [],
   "source": [
    "dt= DecisionTreeClassifier(random_state=0)\n",
    "dt.fit(X_train_3, y_train_3)\n",
    "\n",
    "dt_preds = dt.predict_proba(X_valid_3)[:, 1]"
   ]
  },
  {
   "cell_type": "code",
   "execution_count": 355,
   "metadata": {},
   "outputs": [
    {
     "name": "stdout",
     "output_type": "stream",
     "text": [
      "0.6093669964506221\n"
     ]
    }
   ],
   "source": [
    "print(roc_auc_score(y_valid_3, dt_preds))"
   ]
  },
  {
   "cell_type": "code",
   "execution_count": 358,
   "metadata": {},
   "outputs": [
    {
     "name": "stdout",
     "output_type": "stream",
     "text": [
      "{'max_depth': 2, 'max_leaf_nodes': 4, 'min_samples_leaf': 2, 'min_samples_split': 2}\n",
      "0.6719286368823905\n"
     ]
    }
   ],
   "source": [
    "cv_method = KFold(n_splits=10)\n",
    "params = {\n",
    "    'max_depth':[2],\n",
    "    'min_samples_leaf':[2],\n",
    "    'min_samples_split':[2],\n",
    "    'max_leaf_nodes':[4]\n",
    "}\n",
    "dt_grid_cv = GridSearchCV(dt, param_grid=params, scoring='accuracy', cv=cv_method, n_jobs=-1)\n",
    "dt_grid_cv.fit(X_train_3, y_train_3)\n",
    "\n",
    "dt_preds = dt_grid_cv.predict_proba(X_valid_3)[:, 1]\n",
    "\n",
    "print(dt_grid_cv.best_params_)\n",
    "print(dt_grid_cv.best_score_)"
   ]
  },
  {
   "cell_type": "code",
   "execution_count": 359,
   "metadata": {},
   "outputs": [
    {
     "name": "stdout",
     "output_type": "stream",
     "text": [
      "0.7086240285741375\n"
     ]
    }
   ],
   "source": [
    "print(roc_auc_score(y_valid_3, dt_preds))"
   ]
  },
  {
   "cell_type": "code",
   "execution_count": null,
   "metadata": {},
   "outputs": [],
   "source": []
  },
  {
   "cell_type": "markdown",
   "metadata": {},
   "source": [
    "#### random forest"
   ]
  },
  {
   "cell_type": "code",
   "execution_count": 360,
   "metadata": {},
   "outputs": [],
   "source": [
    "rf = RandomForestClassifier(random_state=0)\n",
    "rf.fit(X_train_3, y_train_3)\n",
    "\n",
    "rf_preds=rf.predict_proba(X_valid_3)[:, 1]"
   ]
  },
  {
   "cell_type": "code",
   "execution_count": 361,
   "metadata": {},
   "outputs": [
    {
     "name": "stdout",
     "output_type": "stream",
     "text": [
      "0.7481386013492347\n"
     ]
    }
   ],
   "source": [
    "print(roc_auc_score(y_valid_3, rf_preds))"
   ]
  },
  {
   "cell_type": "code",
   "execution_count": 369,
   "metadata": {},
   "outputs": [
    {
     "name": "stdout",
     "output_type": "stream",
     "text": [
      "{'max_depth': 16, 'min_samples_leaf': 8, 'min_samples_split': 2, 'n_estimators': 200}\n",
      "0.6904598490048043\n"
     ]
    }
   ],
   "source": [
    "cv_method = KFold(n_splits=5)\n",
    "params={\n",
    "    'n_estimators':[200],\n",
    "    'max_depth' : [16],\n",
    "    'min_samples_leaf' : [8],\n",
    "    'min_samples_split' : [2]\n",
    " }\n",
    "\n",
    "rf_grid_cv = GridSearchCV(rf, param_grid=params, cv=cv_method)\n",
    "rf_grid_cv.fit(X_train_3, y_train_3)\n",
    "\n",
    "rf_preds=rf_grid_cv.predict_proba(X_valid_3)[:, 1]\n",
    "\n",
    "print(rf_grid_cv.best_params_)\n",
    "print(rf_grid_cv.best_score_)"
   ]
  },
  {
   "cell_type": "code",
   "execution_count": 370,
   "metadata": {},
   "outputs": [
    {
     "name": "stdout",
     "output_type": "stream",
     "text": [
      "0.7590914966981694\n"
     ]
    }
   ],
   "source": [
    "print(roc_auc_score(y_valid_3, rf_preds))"
   ]
  },
  {
   "cell_type": "code",
   "execution_count": null,
   "metadata": {},
   "outputs": [],
   "source": []
  },
  {
   "cell_type": "markdown",
   "metadata": {},
   "source": [
    "#### xgboost"
   ]
  },
  {
   "cell_type": "code",
   "execution_count": 367,
   "metadata": {},
   "outputs": [],
   "source": [
    "xgb=XGBClassifier(random_state=0)\n",
    "xgb.fit(X_train_3, y_train_3)\n",
    "xgb_pred=xgb.predict_proba(X_valid_3)[:,1]"
   ]
  },
  {
   "cell_type": "code",
   "execution_count": 368,
   "metadata": {},
   "outputs": [
    {
     "name": "stdout",
     "output_type": "stream",
     "text": [
      "0.7612380906211811\n"
     ]
    }
   ],
   "source": [
    "print(roc_auc_score(y_valid_3, xgb_pred))"
   ]
  },
  {
   "cell_type": "code",
   "execution_count": 383,
   "metadata": {
    "scrolled": true
   },
   "outputs": [
    {
     "name": "stdout",
     "output_type": "stream",
     "text": [
      "Fitting 5 folds for each of 1 candidates, totalling 5 fits\n",
      "[0]\tvalidation_0-error:0.337103\n",
      "[1]\tvalidation_0-error:0.318876\n",
      "[2]\tvalidation_0-error:0.323268\n",
      "[3]\tvalidation_0-error:0.319644\n",
      "[4]\tvalidation_0-error:0.312287\n",
      "[5]\tvalidation_0-error:0.31053\n",
      "[6]\tvalidation_0-error:0.309981\n",
      "[7]\tvalidation_0-error:0.308993\n",
      "[8]\tvalidation_0-error:0.31064\n",
      "[9]\tvalidation_0-error:0.311079\n",
      "[10]\tvalidation_0-error:0.309103\n",
      "[11]\tvalidation_0-error:0.309323\n",
      "[12]\tvalidation_0-error:0.307566\n",
      "[13]\tvalidation_0-error:0.308005\n",
      "[14]\tvalidation_0-error:0.308554\n",
      "[15]\tvalidation_0-error:0.309652\n",
      "[16]\tvalidation_0-error:0.310091\n",
      "[17]\tvalidation_0-error:0.309323\n",
      "[18]\tvalidation_0-error:0.309542\n",
      "[19]\tvalidation_0-error:0.308773\n",
      "[20]\tvalidation_0-error:0.308334\n",
      "[21]\tvalidation_0-error:0.308444\n",
      "[22]\tvalidation_0-error:0.309103\n",
      "[23]\tvalidation_0-error:0.309432\n",
      "[24]\tvalidation_0-error:0.310201\n",
      "[25]\tvalidation_0-error:0.309432\n",
      "[26]\tvalidation_0-error:0.307675\n",
      "[27]\tvalidation_0-error:0.305699\n",
      "[28]\tvalidation_0-error:0.307236\n",
      "[29]\tvalidation_0-error:0.308005\n",
      "[30]\tvalidation_0-error:0.308115\n",
      "[31]\tvalidation_0-error:0.306577\n",
      "[32]\tvalidation_0-error:0.307785\n",
      "[33]\tvalidation_0-error:0.307566\n",
      "[34]\tvalidation_0-error:0.307785\n",
      "[35]\tvalidation_0-error:0.307456\n",
      "[36]\tvalidation_0-error:0.307456\n",
      "[37]\tvalidation_0-error:0.306907\n",
      "[38]\tvalidation_0-error:0.30526\n",
      "[39]\tvalidation_0-error:0.305479\n",
      "[40]\tvalidation_0-error:0.305369\n",
      "[41]\tvalidation_0-error:0.304491\n",
      "[42]\tvalidation_0-error:0.305809\n",
      "[43]\tvalidation_0-error:0.306687\n",
      "[44]\tvalidation_0-error:0.304601\n",
      "[45]\tvalidation_0-error:0.30526\n",
      "[46]\tvalidation_0-error:0.305809\n",
      "[47]\tvalidation_0-error:0.305919\n",
      "[48]\tvalidation_0-error:0.306358\n",
      "[49]\tvalidation_0-error:0.305589\n",
      "[50]\tvalidation_0-error:0.30526\n",
      "[51]\tvalidation_0-error:0.304052\n",
      "[52]\tvalidation_0-error:0.304491\n",
      "[53]\tvalidation_0-error:0.30515\n",
      "[54]\tvalidation_0-error:0.304491\n",
      "[55]\tvalidation_0-error:0.30493\n",
      "[56]\tvalidation_0-error:0.30504\n",
      "[57]\tvalidation_0-error:0.304162\n",
      "[58]\tvalidation_0-error:0.305699\n",
      "[59]\tvalidation_0-error:0.30482\n",
      "[60]\tvalidation_0-error:0.303503\n",
      "[61]\tvalidation_0-error:0.304711\n",
      "[62]\tvalidation_0-error:0.304381\n",
      "[63]\tvalidation_0-error:0.304052\n",
      "[64]\tvalidation_0-error:0.304052\n",
      "[65]\tvalidation_0-error:0.304491\n",
      "[66]\tvalidation_0-error:0.304271\n",
      "[67]\tvalidation_0-error:0.304711\n",
      "[68]\tvalidation_0-error:0.304162\n",
      "[69]\tvalidation_0-error:0.305369\n",
      "[70]\tvalidation_0-error:0.304601\n",
      "[71]\tvalidation_0-error:0.30504\n",
      "[72]\tvalidation_0-error:0.306468\n",
      "[73]\tvalidation_0-error:0.306577\n",
      "[74]\tvalidation_0-error:0.306577\n",
      "[75]\tvalidation_0-error:0.306577\n",
      "[76]\tvalidation_0-error:0.306248\n",
      "[77]\tvalidation_0-error:0.306248\n",
      "[78]\tvalidation_0-error:0.306468\n",
      "[79]\tvalidation_0-error:0.306577\n",
      "[80]\tvalidation_0-error:0.306687\n",
      "[81]\tvalidation_0-error:0.306468\n",
      "[82]\tvalidation_0-error:0.307017\n",
      "[83]\tvalidation_0-error:0.306577\n",
      "[84]\tvalidation_0-error:0.306687\n",
      "[85]\tvalidation_0-error:0.306468\n",
      "[86]\tvalidation_0-error:0.306468\n",
      "[87]\tvalidation_0-error:0.306028\n",
      "[88]\tvalidation_0-error:0.305369\n",
      "[89]\tvalidation_0-error:0.30515\n",
      "[90]\tvalidation_0-error:0.304601\n",
      "[91]\tvalidation_0-error:0.30504\n",
      "[92]\tvalidation_0-error:0.30504\n",
      "[93]\tvalidation_0-error:0.305369\n",
      "[94]\tvalidation_0-error:0.306138\n",
      "[95]\tvalidation_0-error:0.307236\n",
      "[96]\tvalidation_0-error:0.306687\n",
      "[97]\tvalidation_0-error:0.306577\n",
      "[98]\tvalidation_0-error:0.306687\n",
      "[99]\tvalidation_0-error:0.306687\n",
      "{'colsample_bytree': 0.6, 'learning_rate': 0.05, 'max_depth': 6, 'min_child_weight': 2, 'n_estimators': 100, 'subsample': 0.8}\n",
      "0.6947426218256691\n"
     ]
    }
   ],
   "source": [
    "cv_method = KFold(n_splits=5)\n",
    "\n",
    "params = {\n",
    "    'n_estimators' : [100],\n",
    "    'learning_rate': [0.05],\n",
    "    'max_depth':[6],\n",
    "    'subsample': [0.8],\n",
    "    'min_child_weight':[2],\n",
    "    'colsample_bytree':[0.6]\n",
    "}\n",
    "\n",
    "xgb_grid_cv=GridSearchCV(xgb, param_grid=params, cv=cv_method, verbose=True, n_jobs=-1)\n",
    "xgb_grid_cv.fit(X_train_3,y_train_3, eval_set=[(X_valid_3,y_valid_3)])\n",
    "\n",
    "xgb_pred=xgb_grid_cv.predict_proba(X_valid_3)[:,1]\n",
    "\n",
    "print(xgb_grid_cv.best_params_)\n",
    "print(xgb_grid_cv.best_score_)"
   ]
  },
  {
   "cell_type": "code",
   "execution_count": 384,
   "metadata": {},
   "outputs": [
    {
     "name": "stdout",
     "output_type": "stream",
     "text": [
      "0.7651437010368951\n"
     ]
    }
   ],
   "source": [
    "print(roc_auc_score(y_valid_3, xgb_pred))"
   ]
  },
  {
   "cell_type": "code",
   "execution_count": null,
   "metadata": {},
   "outputs": [],
   "source": []
  },
  {
   "cell_type": "markdown",
   "metadata": {},
   "source": [
    "#### lgbm"
   ]
  },
  {
   "cell_type": "code",
   "execution_count": 373,
   "metadata": {},
   "outputs": [],
   "source": [
    "lgbm=LGBMClassifier(random_state=0)\n",
    "lgbm.fit(X_train_3, y_train_3)\n",
    "lgbm_pred=lgbm.predict_proba(X_valid_3)[:,1]"
   ]
  },
  {
   "cell_type": "code",
   "execution_count": 374,
   "metadata": {},
   "outputs": [
    {
     "name": "stdout",
     "output_type": "stream",
     "text": [
      "0.7645202576983496\n"
     ]
    }
   ],
   "source": [
    "print(roc_auc_score(y_valid_3, lgbm_pred))"
   ]
  },
  {
   "cell_type": "code",
   "execution_count": 385,
   "metadata": {},
   "outputs": [
    {
     "name": "stdout",
     "output_type": "stream",
     "text": [
      "Fitting 5 folds for each of 1 candidates, totalling 5 fits\n",
      "[1]\tvalid_0's binary_logloss: 0.686439\n",
      "Training until validation scores don't improve for 100 rounds\n",
      "[2]\tvalid_0's binary_logloss: 0.677578\n",
      "[3]\tvalid_0's binary_logloss: 0.668487\n",
      "[4]\tvalid_0's binary_logloss: 0.661484\n",
      "[5]\tvalid_0's binary_logloss: 0.658309\n",
      "[6]\tvalid_0's binary_logloss: 0.651369\n",
      "[7]\tvalid_0's binary_logloss: 0.64465\n",
      "[8]\tvalid_0's binary_logloss: 0.638906\n",
      "[9]\tvalid_0's binary_logloss: 0.633051\n",
      "[10]\tvalid_0's binary_logloss: 0.628765\n",
      "[11]\tvalid_0's binary_logloss: 0.624058\n",
      "[12]\tvalid_0's binary_logloss: 0.61944\n",
      "[13]\tvalid_0's binary_logloss: 0.615299\n",
      "[14]\tvalid_0's binary_logloss: 0.611653\n",
      "[15]\tvalid_0's binary_logloss: 0.608058\n",
      "[16]\tvalid_0's binary_logloss: 0.604647\n",
      "[17]\tvalid_0's binary_logloss: 0.601581\n",
      "[18]\tvalid_0's binary_logloss: 0.598708\n",
      "[19]\tvalid_0's binary_logloss: 0.597416\n",
      "[20]\tvalid_0's binary_logloss: 0.594836\n",
      "[21]\tvalid_0's binary_logloss: 0.592872\n",
      "[22]\tvalid_0's binary_logloss: 0.591007\n",
      "[23]\tvalid_0's binary_logloss: 0.588915\n",
      "[24]\tvalid_0's binary_logloss: 0.587338\n",
      "[25]\tvalid_0's binary_logloss: 0.585712\n",
      "[26]\tvalid_0's binary_logloss: 0.584086\n",
      "[27]\tvalid_0's binary_logloss: 0.582834\n",
      "[28]\tvalid_0's binary_logloss: 0.581705\n",
      "[29]\tvalid_0's binary_logloss: 0.580318\n",
      "[30]\tvalid_0's binary_logloss: 0.579\n",
      "[31]\tvalid_0's binary_logloss: 0.577715\n",
      "[32]\tvalid_0's binary_logloss: 0.576844\n",
      "[33]\tvalid_0's binary_logloss: 0.575723\n",
      "[34]\tvalid_0's binary_logloss: 0.574778\n",
      "[35]\tvalid_0's binary_logloss: 0.574399\n",
      "[36]\tvalid_0's binary_logloss: 0.573752\n",
      "[37]\tvalid_0's binary_logloss: 0.572861\n",
      "[38]\tvalid_0's binary_logloss: 0.572636\n",
      "[39]\tvalid_0's binary_logloss: 0.571816\n",
      "[40]\tvalid_0's binary_logloss: 0.571017\n",
      "[41]\tvalid_0's binary_logloss: 0.570323\n",
      "[42]\tvalid_0's binary_logloss: 0.569676\n",
      "[43]\tvalid_0's binary_logloss: 0.569076\n",
      "[44]\tvalid_0's binary_logloss: 0.568462\n",
      "[45]\tvalid_0's binary_logloss: 0.567928\n",
      "[46]\tvalid_0's binary_logloss: 0.567479\n",
      "[47]\tvalid_0's binary_logloss: 0.567006\n",
      "[48]\tvalid_0's binary_logloss: 0.566518\n",
      "[49]\tvalid_0's binary_logloss: 0.566071\n",
      "[50]\tvalid_0's binary_logloss: 0.565801\n",
      "[51]\tvalid_0's binary_logloss: 0.565424\n",
      "[52]\tvalid_0's binary_logloss: 0.565083\n",
      "[53]\tvalid_0's binary_logloss: 0.564923\n",
      "[54]\tvalid_0's binary_logloss: 0.564657\n",
      "[55]\tvalid_0's binary_logloss: 0.564314\n",
      "[56]\tvalid_0's binary_logloss: 0.564199\n",
      "[57]\tvalid_0's binary_logloss: 0.563966\n",
      "[58]\tvalid_0's binary_logloss: 0.563705\n",
      "[59]\tvalid_0's binary_logloss: 0.563604\n",
      "[60]\tvalid_0's binary_logloss: 0.563194\n",
      "[61]\tvalid_0's binary_logloss: 0.563104\n",
      "[62]\tvalid_0's binary_logloss: 0.562835\n",
      "[63]\tvalid_0's binary_logloss: 0.562755\n",
      "[64]\tvalid_0's binary_logloss: 0.562693\n",
      "[65]\tvalid_0's binary_logloss: 0.562591\n",
      "[66]\tvalid_0's binary_logloss: 0.562448\n",
      "[67]\tvalid_0's binary_logloss: 0.562422\n",
      "[68]\tvalid_0's binary_logloss: 0.562238\n",
      "[69]\tvalid_0's binary_logloss: 0.562144\n",
      "[70]\tvalid_0's binary_logloss: 0.562045\n",
      "[71]\tvalid_0's binary_logloss: 0.56195\n",
      "[72]\tvalid_0's binary_logloss: 0.561842\n",
      "[73]\tvalid_0's binary_logloss: 0.561719\n",
      "[74]\tvalid_0's binary_logloss: 0.561629\n",
      "[75]\tvalid_0's binary_logloss: 0.561548\n",
      "[76]\tvalid_0's binary_logloss: 0.561395\n",
      "[77]\tvalid_0's binary_logloss: 0.561263\n",
      "[78]\tvalid_0's binary_logloss: 0.561181\n",
      "[79]\tvalid_0's binary_logloss: 0.561152\n",
      "[80]\tvalid_0's binary_logloss: 0.561076\n",
      "[81]\tvalid_0's binary_logloss: 0.561\n",
      "[82]\tvalid_0's binary_logloss: 0.56103\n",
      "[83]\tvalid_0's binary_logloss: 0.560987\n",
      "[84]\tvalid_0's binary_logloss: 0.560959\n",
      "[85]\tvalid_0's binary_logloss: 0.560939\n",
      "[86]\tvalid_0's binary_logloss: 0.560948\n",
      "[87]\tvalid_0's binary_logloss: 0.560872\n",
      "[88]\tvalid_0's binary_logloss: 0.560837\n",
      "[89]\tvalid_0's binary_logloss: 0.560812\n",
      "[90]\tvalid_0's binary_logloss: 0.560836\n",
      "[91]\tvalid_0's binary_logloss: 0.56077\n",
      "[92]\tvalid_0's binary_logloss: 0.560742\n",
      "[93]\tvalid_0's binary_logloss: 0.560759\n",
      "[94]\tvalid_0's binary_logloss: 0.560688\n",
      "[95]\tvalid_0's binary_logloss: 0.560641\n",
      "[96]\tvalid_0's binary_logloss: 0.560636\n",
      "[97]\tvalid_0's binary_logloss: 0.560695\n",
      "[98]\tvalid_0's binary_logloss: 0.560676\n",
      "[99]\tvalid_0's binary_logloss: 0.560644\n",
      "[100]\tvalid_0's binary_logloss: 0.560574\n",
      "[101]\tvalid_0's binary_logloss: 0.560597\n",
      "[102]\tvalid_0's binary_logloss: 0.56058\n",
      "[103]\tvalid_0's binary_logloss: 0.560607\n",
      "[104]\tvalid_0's binary_logloss: 0.560573\n",
      "[105]\tvalid_0's binary_logloss: 0.560554\n",
      "[106]\tvalid_0's binary_logloss: 0.560543\n",
      "[107]\tvalid_0's binary_logloss: 0.560563\n",
      "[108]\tvalid_0's binary_logloss: 0.560526\n",
      "[109]\tvalid_0's binary_logloss: 0.56056\n",
      "[110]\tvalid_0's binary_logloss: 0.560596\n",
      "[111]\tvalid_0's binary_logloss: 0.560537\n",
      "[112]\tvalid_0's binary_logloss: 0.560608\n",
      "[113]\tvalid_0's binary_logloss: 0.560526\n",
      "[114]\tvalid_0's binary_logloss: 0.560496\n",
      "[115]\tvalid_0's binary_logloss: 0.560492\n",
      "[116]\tvalid_0's binary_logloss: 0.56051\n",
      "[117]\tvalid_0's binary_logloss: 0.560512\n",
      "[118]\tvalid_0's binary_logloss: 0.560443\n",
      "[119]\tvalid_0's binary_logloss: 0.560323\n",
      "[120]\tvalid_0's binary_logloss: 0.560354\n",
      "[121]\tvalid_0's binary_logloss: 0.560289\n",
      "[122]\tvalid_0's binary_logloss: 0.560344\n",
      "[123]\tvalid_0's binary_logloss: 0.56034\n",
      "[124]\tvalid_0's binary_logloss: 0.560401\n",
      "[125]\tvalid_0's binary_logloss: 0.56033\n",
      "[126]\tvalid_0's binary_logloss: 0.560352\n",
      "[127]\tvalid_0's binary_logloss: 0.560341\n",
      "[128]\tvalid_0's binary_logloss: 0.560293\n",
      "[129]\tvalid_0's binary_logloss: 0.560244\n",
      "[130]\tvalid_0's binary_logloss: 0.560198\n",
      "[131]\tvalid_0's binary_logloss: 0.560155\n",
      "[132]\tvalid_0's binary_logloss: 0.560098\n",
      "[133]\tvalid_0's binary_logloss: 0.560081\n",
      "[134]\tvalid_0's binary_logloss: 0.560109\n",
      "[135]\tvalid_0's binary_logloss: 0.560095\n",
      "[136]\tvalid_0's binary_logloss: 0.560101\n",
      "[137]\tvalid_0's binary_logloss: 0.560187\n",
      "[138]\tvalid_0's binary_logloss: 0.560222\n",
      "[139]\tvalid_0's binary_logloss: 0.560179\n",
      "[140]\tvalid_0's binary_logloss: 0.560155\n",
      "[141]\tvalid_0's binary_logloss: 0.560113\n",
      "[142]\tvalid_0's binary_logloss: 0.560111\n",
      "[143]\tvalid_0's binary_logloss: 0.560099\n",
      "[144]\tvalid_0's binary_logloss: 0.560105\n",
      "[145]\tvalid_0's binary_logloss: 0.560085\n",
      "[146]\tvalid_0's binary_logloss: 0.560068\n",
      "[147]\tvalid_0's binary_logloss: 0.560053\n",
      "[148]\tvalid_0's binary_logloss: 0.560016\n",
      "[149]\tvalid_0's binary_logloss: 0.560014\n",
      "[150]\tvalid_0's binary_logloss: 0.560032\n",
      "Did not meet early stopping. Best iteration is:\n",
      "[149]\tvalid_0's binary_logloss: 0.560014\n",
      "{'colsample_bytree': 0.7, 'learning_rate': 0.05, 'max_depth': 16, 'min_child_samples': 6, 'n_estimators': 150, 'num_leaves': 18, 'subsample': 0.8}\n",
      "0.6969663692518874\n"
     ]
    }
   ],
   "source": [
    "cv_method = KFold(n_splits=5)\n",
    "\n",
    "params = {'n_estimators':[150],\n",
    "          'max_depth': [16],\n",
    "          'learning_rate':[0.05],\n",
    "          'num_leaves':[18],\n",
    "          'min_child_samples': [6],\n",
    "          'subsample': [0.8],\n",
    "         'colsample_bytree':[0.7]\n",
    "         }\n",
    "\n",
    "lgbm_grid_cv = GridSearchCV(lgbm, param_grid=params, cv=cv_method, verbose=True, n_jobs=-1)\n",
    "lgbm_grid_cv.fit(X_train_3, y_train_3, early_stopping_rounds=100, eval_metric='accuracy',\n",
    "         eval_set=[(X_valid_3, y_valid_3)])\n",
    "\n",
    "lgbm_pred=lgbm_grid_cv.predict_proba(X_valid_3)[:,1]\n",
    "\n",
    "print(lgbm_grid_cv.best_params_)\n",
    "print(lgbm_grid_cv.best_score_)"
   ]
  },
  {
   "cell_type": "code",
   "execution_count": 386,
   "metadata": {},
   "outputs": [
    {
     "name": "stdout",
     "output_type": "stream",
     "text": [
      "0.7662070931877683\n"
     ]
    }
   ],
   "source": [
    "print(roc_auc_score(y_valid_3, lgbm_pred))"
   ]
  },
  {
   "cell_type": "code",
   "execution_count": null,
   "metadata": {},
   "outputs": [],
   "source": []
  },
  {
   "cell_type": "markdown",
   "metadata": {},
   "source": [
    "#### catboost"
   ]
  },
  {
   "cell_type": "code",
   "execution_count": 377,
   "metadata": {},
   "outputs": [
    {
     "name": "stdout",
     "output_type": "stream",
     "text": [
      "0:\tlearn: 0.6918756\ttotal: 26.4ms\tremaining: 2m 11s\n",
      "500:\tlearn: 0.5607943\ttotal: 13s\tremaining: 1m 56s\n",
      "1000:\tlearn: 0.5505660\ttotal: 25.9s\tremaining: 1m 43s\n",
      "1500:\tlearn: 0.5434096\ttotal: 38.7s\tremaining: 1m 30s\n",
      "2000:\tlearn: 0.5369580\ttotal: 49.7s\tremaining: 1m 14s\n",
      "2500:\tlearn: 0.5294686\ttotal: 1m\tremaining: 1m\n",
      "3000:\tlearn: 0.5217506\ttotal: 1m 10s\tremaining: 47.1s\n",
      "3500:\tlearn: 0.5143754\ttotal: 1m 21s\tremaining: 35s\n",
      "4000:\tlearn: 0.5073063\ttotal: 1m 33s\tremaining: 23.3s\n",
      "4500:\tlearn: 0.5004992\ttotal: 1m 45s\tremaining: 11.7s\n",
      "4999:\tlearn: 0.4939924\ttotal: 1m 58s\tremaining: 0us\n"
     ]
    }
   ],
   "source": [
    "cat = CatBoostClassifier(learning_rate=0.005, iterations=5000)\n",
    "cat.fit(X_train_3, y_train_3, early_stopping_rounds=100,verbose=500)\n",
    "cat_preds = cat.predict_proba(X_valid_3)[:,1]"
   ]
  },
  {
   "cell_type": "code",
   "execution_count": 378,
   "metadata": {},
   "outputs": [
    {
     "name": "stdout",
     "output_type": "stream",
     "text": [
      "0.7664006142053383\n"
     ]
    }
   ],
   "source": [
    "print(roc_auc_score(y_valid_3, cat_preds))"
   ]
  },
  {
   "cell_type": "code",
   "execution_count": null,
   "metadata": {},
   "outputs": [],
   "source": []
  },
  {
   "cell_type": "markdown",
   "metadata": {},
   "source": [
    "### 이상치 제거, 변수 제거 데이터로 모델링 시\n",
    "### decision tree -> 0.7086\n",
    "### random forest -> 0.7590\n",
    "### xgboost -> 0.7651\n",
    "### lightgbm -> 0.7662\n",
    "### catboost -> 0.7664"
   ]
  },
  {
   "cell_type": "markdown",
   "metadata": {},
   "source": [
    "## 모델링4"
   ]
  },
  {
   "cell_type": "code",
   "execution_count": null,
   "metadata": {},
   "outputs": [],
   "source": []
  },
  {
   "cell_type": "markdown",
   "metadata": {},
   "source": [
    "#### xgboost"
   ]
  },
  {
   "cell_type": "code",
   "execution_count": 483,
   "metadata": {},
   "outputs": [],
   "source": [
    "xgb=XGBClassifier(random_state=0)\n",
    "xgb.fit(X_train_4, y_train_4)\n",
    "xgb_pred=xgb.predict_proba(X_valid_4)[:,1]"
   ]
  },
  {
   "cell_type": "code",
   "execution_count": 484,
   "metadata": {},
   "outputs": [
    {
     "name": "stdout",
     "output_type": "stream",
     "text": [
      "0.7676378111915797\n"
     ]
    }
   ],
   "source": [
    "print(roc_auc_score(y_valid_4, xgb_pred))"
   ]
  },
  {
   "cell_type": "code",
   "execution_count": 485,
   "metadata": {
    "scrolled": true
   },
   "outputs": [
    {
     "name": "stdout",
     "output_type": "stream",
     "text": [
      "Fitting 5 folds for each of 1 candidates, totalling 5 fits\n",
      "[0]\tvalidation_0-error:0.335054\n",
      "[1]\tvalidation_0-error:0.332638\n",
      "[2]\tvalidation_0-error:0.317263\n",
      "[3]\tvalidation_0-error:0.312212\n",
      "[4]\tvalidation_0-error:0.315067\n",
      "[5]\tvalidation_0-error:0.306721\n",
      "[6]\tvalidation_0-error:0.306611\n",
      "[7]\tvalidation_0-error:0.307929\n",
      "[8]\tvalidation_0-error:0.305513\n",
      "[9]\tvalidation_0-error:0.309137\n",
      "[10]\tvalidation_0-error:0.308148\n",
      "[11]\tvalidation_0-error:0.305183\n",
      "[12]\tvalidation_0-error:0.305403\n",
      "[13]\tvalidation_0-error:0.305183\n",
      "[14]\tvalidation_0-error:0.305842\n",
      "[15]\tvalidation_0-error:0.304415\n",
      "[16]\tvalidation_0-error:0.303866\n",
      "[17]\tvalidation_0-error:0.30716\n",
      "[18]\tvalidation_0-error:0.305183\n",
      "[19]\tvalidation_0-error:0.305403\n",
      "[20]\tvalidation_0-error:0.303317\n",
      "[21]\tvalidation_0-error:0.303975\n",
      "[22]\tvalidation_0-error:0.304744\n",
      "[23]\tvalidation_0-error:0.303536\n",
      "[24]\tvalidation_0-error:0.302877\n",
      "[25]\tvalidation_0-error:0.302438\n",
      "[26]\tvalidation_0-error:0.302877\n",
      "[27]\tvalidation_0-error:0.303975\n",
      "[28]\tvalidation_0-error:0.303207\n",
      "[29]\tvalidation_0-error:0.302987\n",
      "[30]\tvalidation_0-error:0.301779\n",
      "[31]\tvalidation_0-error:0.302108\n",
      "[32]\tvalidation_0-error:0.301999\n",
      "[33]\tvalidation_0-error:0.30145\n",
      "[34]\tvalidation_0-error:0.30112\n",
      "[35]\tvalidation_0-error:0.301779\n",
      "[36]\tvalidation_0-error:0.30112\n",
      "[37]\tvalidation_0-error:0.300681\n",
      "[38]\tvalidation_0-error:0.30145\n",
      "[39]\tvalidation_0-error:0.300681\n",
      "[40]\tvalidation_0-error:0.301559\n",
      "[41]\tvalidation_0-error:0.30123\n",
      "[42]\tvalidation_0-error:0.30145\n",
      "[43]\tvalidation_0-error:0.30123\n",
      "[44]\tvalidation_0-error:0.300791\n",
      "[45]\tvalidation_0-error:0.300022\n",
      "[46]\tvalidation_0-error:0.300461\n",
      "[47]\tvalidation_0-error:0.300901\n",
      "[48]\tvalidation_0-error:0.300351\n",
      "[49]\tvalidation_0-error:0.300461\n",
      "[50]\tvalidation_0-error:0.300571\n",
      "[51]\tvalidation_0-error:0.299363\n",
      "[52]\tvalidation_0-error:0.299473\n",
      "[53]\tvalidation_0-error:0.300022\n",
      "[54]\tvalidation_0-error:0.299802\n",
      "[55]\tvalidation_0-error:0.298924\n",
      "[56]\tvalidation_0-error:0.298814\n",
      "[57]\tvalidation_0-error:0.299363\n",
      "[58]\tvalidation_0-error:0.299253\n",
      "[59]\tvalidation_0-error:0.299802\n",
      "[60]\tvalidation_0-error:0.299143\n",
      "[61]\tvalidation_0-error:0.300022\n",
      "[62]\tvalidation_0-error:0.300351\n",
      "[63]\tvalidation_0-error:0.30101\n",
      "[64]\tvalidation_0-error:0.299912\n",
      "[65]\tvalidation_0-error:0.300571\n",
      "[66]\tvalidation_0-error:0.30101\n",
      "[67]\tvalidation_0-error:0.300791\n",
      "[68]\tvalidation_0-error:0.300791\n",
      "[69]\tvalidation_0-error:0.300571\n",
      "[70]\tvalidation_0-error:0.300901\n",
      "[71]\tvalidation_0-error:0.300681\n",
      "[72]\tvalidation_0-error:0.300461\n",
      "[73]\tvalidation_0-error:0.300242\n",
      "[74]\tvalidation_0-error:0.300571\n",
      "[75]\tvalidation_0-error:0.300681\n",
      "[76]\tvalidation_0-error:0.300351\n",
      "[77]\tvalidation_0-error:0.300242\n",
      "[78]\tvalidation_0-error:0.299912\n",
      "[79]\tvalidation_0-error:0.299363\n",
      "[80]\tvalidation_0-error:0.300901\n",
      "[81]\tvalidation_0-error:0.300571\n",
      "[82]\tvalidation_0-error:0.300022\n",
      "[83]\tvalidation_0-error:0.300132\n",
      "[84]\tvalidation_0-error:0.300351\n",
      "[85]\tvalidation_0-error:0.300571\n",
      "[86]\tvalidation_0-error:0.300791\n",
      "[87]\tvalidation_0-error:0.30101\n",
      "[88]\tvalidation_0-error:0.301889\n",
      "[89]\tvalidation_0-error:0.301779\n",
      "[90]\tvalidation_0-error:0.301559\n",
      "[91]\tvalidation_0-error:0.30123\n",
      "[92]\tvalidation_0-error:0.300351\n",
      "[93]\tvalidation_0-error:0.300791\n",
      "[94]\tvalidation_0-error:0.300791\n",
      "[95]\tvalidation_0-error:0.300132\n",
      "[96]\tvalidation_0-error:0.30101\n",
      "[97]\tvalidation_0-error:0.301669\n",
      "[98]\tvalidation_0-error:0.30134\n",
      "[99]\tvalidation_0-error:0.30145\n",
      "{'colsample_bytree': 0.6, 'learning_rate': 0.05, 'max_depth': 6, 'min_child_weight': 2, 'n_estimators': 100, 'subsample': 0.8}\n",
      "0.6951651950458257\n"
     ]
    }
   ],
   "source": [
    "cv_method = KFold(n_splits=5)\n",
    "\n",
    "params = {\n",
    "    'n_estimators' : [100],\n",
    "    'learning_rate': [0.05],\n",
    "    'max_depth':[6],\n",
    "    'subsample': [0.8],\n",
    "    'min_child_weight':[2],\n",
    "    'colsample_bytree':[0.6]\n",
    "}\n",
    "\n",
    "xgb_grid_cv=GridSearchCV(xgb, param_grid=params, cv=cv_method, verbose=True, n_jobs=-1)\n",
    "xgb_grid_cv.fit(X_train_4,y_train_4, eval_set=[(X_valid_4,y_valid_4)])\n",
    "\n",
    "xgb_pred=xgb_grid_cv.predict_proba(X_valid_4)[:,1]\n",
    "\n",
    "print(xgb_grid_cv.best_params_)\n",
    "print(xgb_grid_cv.best_score_)"
   ]
  },
  {
   "cell_type": "code",
   "execution_count": 486,
   "metadata": {},
   "outputs": [
    {
     "name": "stdout",
     "output_type": "stream",
     "text": [
      "0.7711199396731491\n"
     ]
    }
   ],
   "source": [
    "print(roc_auc_score(y_valid_4, xgb_pred))"
   ]
  },
  {
   "cell_type": "code",
   "execution_count": null,
   "metadata": {},
   "outputs": [],
   "source": []
  },
  {
   "cell_type": "markdown",
   "metadata": {},
   "source": [
    "#### lgbm"
   ]
  },
  {
   "cell_type": "code",
   "execution_count": 487,
   "metadata": {},
   "outputs": [],
   "source": [
    "lgbm=LGBMClassifier(random_state=0)\n",
    "lgbm.fit(X_train_4, y_train_4)\n",
    "lgbm_pred=lgbm.predict_proba(X_valid_4)[:,1]"
   ]
  },
  {
   "cell_type": "code",
   "execution_count": 488,
   "metadata": {},
   "outputs": [
    {
     "name": "stdout",
     "output_type": "stream",
     "text": [
      "0.7701039755363575\n"
     ]
    }
   ],
   "source": [
    "print(roc_auc_score(y_valid_4, lgbm_pred))"
   ]
  },
  {
   "cell_type": "code",
   "execution_count": 570,
   "metadata": {},
   "outputs": [
    {
     "name": "stdout",
     "output_type": "stream",
     "text": [
      "Fitting 5 folds for each of 1 candidates, totalling 5 fits\n",
      "[1]\tvalid_0's binary_logloss: 0.672751\n",
      "Training until validation scores don't improve for 100 rounds\n",
      "[2]\tvalid_0's binary_logloss: 0.659937\n",
      "[3]\tvalid_0's binary_logloss: 0.64577\n",
      "[4]\tvalid_0's binary_logloss: 0.633986\n",
      "[5]\tvalid_0's binary_logloss: 0.622785\n",
      "[6]\tvalid_0's binary_logloss: 0.615221\n",
      "[7]\tvalid_0's binary_logloss: 0.607728\n",
      "[8]\tvalid_0's binary_logloss: 0.60063\n",
      "[9]\tvalid_0's binary_logloss: 0.595693\n",
      "[10]\tvalid_0's binary_logloss: 0.591059\n",
      "[11]\tvalid_0's binary_logloss: 0.587935\n",
      "[12]\tvalid_0's binary_logloss: 0.584127\n",
      "[13]\tvalid_0's binary_logloss: 0.580905\n",
      "[14]\tvalid_0's binary_logloss: 0.577894\n",
      "[15]\tvalid_0's binary_logloss: 0.57553\n",
      "[16]\tvalid_0's binary_logloss: 0.573672\n",
      "[17]\tvalid_0's binary_logloss: 0.57265\n",
      "[18]\tvalid_0's binary_logloss: 0.570808\n",
      "[19]\tvalid_0's binary_logloss: 0.569627\n",
      "[20]\tvalid_0's binary_logloss: 0.567833\n",
      "[21]\tvalid_0's binary_logloss: 0.566322\n",
      "[22]\tvalid_0's binary_logloss: 0.565792\n",
      "[23]\tvalid_0's binary_logloss: 0.565433\n",
      "[24]\tvalid_0's binary_logloss: 0.564077\n",
      "[25]\tvalid_0's binary_logloss: 0.563537\n",
      "[26]\tvalid_0's binary_logloss: 0.563402\n",
      "[27]\tvalid_0's binary_logloss: 0.562348\n",
      "[28]\tvalid_0's binary_logloss: 0.56179\n",
      "[29]\tvalid_0's binary_logloss: 0.560825\n",
      "[30]\tvalid_0's binary_logloss: 0.560291\n",
      "[31]\tvalid_0's binary_logloss: 0.55975\n",
      "[32]\tvalid_0's binary_logloss: 0.559211\n",
      "[33]\tvalid_0's binary_logloss: 0.559008\n",
      "[34]\tvalid_0's binary_logloss: 0.558588\n",
      "[35]\tvalid_0's binary_logloss: 0.558324\n",
      "[36]\tvalid_0's binary_logloss: 0.558116\n",
      "[37]\tvalid_0's binary_logloss: 0.55798\n",
      "[38]\tvalid_0's binary_logloss: 0.557884\n",
      "[39]\tvalid_0's binary_logloss: 0.557684\n",
      "[40]\tvalid_0's binary_logloss: 0.557408\n",
      "[41]\tvalid_0's binary_logloss: 0.557328\n",
      "[42]\tvalid_0's binary_logloss: 0.557182\n",
      "[43]\tvalid_0's binary_logloss: 0.557111\n",
      "[44]\tvalid_0's binary_logloss: 0.55716\n",
      "[45]\tvalid_0's binary_logloss: 0.557037\n",
      "[46]\tvalid_0's binary_logloss: 0.557008\n",
      "[47]\tvalid_0's binary_logloss: 0.556822\n",
      "[48]\tvalid_0's binary_logloss: 0.556711\n",
      "[49]\tvalid_0's binary_logloss: 0.556634\n",
      "[50]\tvalid_0's binary_logloss: 0.556563\n",
      "[51]\tvalid_0's binary_logloss: 0.556405\n",
      "[52]\tvalid_0's binary_logloss: 0.556423\n",
      "[53]\tvalid_0's binary_logloss: 0.556287\n",
      "[54]\tvalid_0's binary_logloss: 0.556263\n",
      "[55]\tvalid_0's binary_logloss: 0.556134\n",
      "[56]\tvalid_0's binary_logloss: 0.556204\n",
      "[57]\tvalid_0's binary_logloss: 0.556314\n",
      "[58]\tvalid_0's binary_logloss: 0.556283\n",
      "[59]\tvalid_0's binary_logloss: 0.556129\n",
      "[60]\tvalid_0's binary_logloss: 0.556118\n",
      "[61]\tvalid_0's binary_logloss: 0.555995\n",
      "[62]\tvalid_0's binary_logloss: 0.555894\n",
      "[63]\tvalid_0's binary_logloss: 0.555821\n",
      "[64]\tvalid_0's binary_logloss: 0.555943\n",
      "[65]\tvalid_0's binary_logloss: 0.555916\n",
      "[66]\tvalid_0's binary_logloss: 0.555785\n",
      "[67]\tvalid_0's binary_logloss: 0.555856\n",
      "[68]\tvalid_0's binary_logloss: 0.555967\n",
      "[69]\tvalid_0's binary_logloss: 0.555949\n",
      "[70]\tvalid_0's binary_logloss: 0.555945\n",
      "[71]\tvalid_0's binary_logloss: 0.556031\n",
      "[72]\tvalid_0's binary_logloss: 0.55592\n",
      "[73]\tvalid_0's binary_logloss: 0.555934\n",
      "[74]\tvalid_0's binary_logloss: 0.555917\n",
      "[75]\tvalid_0's binary_logloss: 0.556009\n",
      "[76]\tvalid_0's binary_logloss: 0.556068\n",
      "[77]\tvalid_0's binary_logloss: 0.556038\n",
      "[78]\tvalid_0's binary_logloss: 0.556013\n",
      "[79]\tvalid_0's binary_logloss: 0.556059\n",
      "[80]\tvalid_0's binary_logloss: 0.556026\n",
      "[81]\tvalid_0's binary_logloss: 0.556105\n",
      "[82]\tvalid_0's binary_logloss: 0.556092\n",
      "[83]\tvalid_0's binary_logloss: 0.556064\n",
      "[84]\tvalid_0's binary_logloss: 0.5561\n",
      "[85]\tvalid_0's binary_logloss: 0.556194\n",
      "[86]\tvalid_0's binary_logloss: 0.556198\n",
      "[87]\tvalid_0's binary_logloss: 0.556233\n",
      "[88]\tvalid_0's binary_logloss: 0.556194\n",
      "[89]\tvalid_0's binary_logloss: 0.556197\n",
      "[90]\tvalid_0's binary_logloss: 0.556222\n",
      "[91]\tvalid_0's binary_logloss: 0.556198\n",
      "[92]\tvalid_0's binary_logloss: 0.556154\n",
      "[93]\tvalid_0's binary_logloss: 0.556188\n",
      "[94]\tvalid_0's binary_logloss: 0.556149\n",
      "[95]\tvalid_0's binary_logloss: 0.556178\n",
      "[96]\tvalid_0's binary_logloss: 0.556118\n",
      "[97]\tvalid_0's binary_logloss: 0.556108\n",
      "[98]\tvalid_0's binary_logloss: 0.556058\n",
      "[99]\tvalid_0's binary_logloss: 0.556092\n",
      "[100]\tvalid_0's binary_logloss: 0.556134\n",
      "Did not meet early stopping. Best iteration is:\n",
      "[66]\tvalid_0's binary_logloss: 0.555785\n",
      "{'colsample_bytree': 0.6, 'learning_rate': 0.1, 'max_depth': 16, 'min_child_samples': 6, 'n_estimators': 100, 'num_leaves': 20, 'subsample': 0.8}\n",
      "0.6962084911146817\n"
     ]
    }
   ],
   "source": [
    "cv_method = KFold(n_splits=5)\n",
    "\n",
    "params = {'n_estimators':[100],\n",
    "          'max_depth': [16],\n",
    "          'learning_rate':[0.1],\n",
    "          'num_leaves':[20],\n",
    "          'min_child_samples': [6],\n",
    "          'subsample': [0.8],\n",
    "         'colsample_bytree':[0.6]\n",
    "         }\n",
    "\n",
    "lgbm_grid_cv = GridSearchCV(lgbm, param_grid=params, cv=cv_method, verbose=True, n_jobs=-1)\n",
    "lgbm_grid_cv.fit(X_train_4, y_train_4, early_stopping_rounds=100, eval_metric='accuracy',\n",
    "         eval_set=[(X_valid_4, y_valid_4)])\n",
    "\n",
    "lgbm_pred=lgbm_grid_cv.predict_proba(X_valid_4)[:,1]\n",
    "\n",
    "print(lgbm_grid_cv.best_params_)\n",
    "print(lgbm_grid_cv.best_score_)"
   ]
  },
  {
   "cell_type": "code",
   "execution_count": 571,
   "metadata": {},
   "outputs": [
    {
     "name": "stdout",
     "output_type": "stream",
     "text": [
      "0.7722243309483122\n"
     ]
    }
   ],
   "source": [
    "print(roc_auc_score(y_valid_4, lgbm_pred))"
   ]
  },
  {
   "cell_type": "code",
   "execution_count": null,
   "metadata": {},
   "outputs": [],
   "source": []
  },
  {
   "cell_type": "markdown",
   "metadata": {},
   "source": [
    "#### catboost"
   ]
  },
  {
   "cell_type": "code",
   "execution_count": 491,
   "metadata": {},
   "outputs": [
    {
     "name": "stdout",
     "output_type": "stream",
     "text": [
      "0:\tlearn: 0.6915198\ttotal: 30.5ms\tremaining: 2m 32s\n",
      "500:\tlearn: 0.5611774\ttotal: 10.6s\tremaining: 1m 34s\n",
      "1000:\tlearn: 0.5512046\ttotal: 20.9s\tremaining: 1m 23s\n",
      "1500:\tlearn: 0.5446435\ttotal: 31.6s\tremaining: 1m 13s\n",
      "2000:\tlearn: 0.5386318\ttotal: 42.5s\tremaining: 1m 3s\n",
      "2500:\tlearn: 0.5317830\ttotal: 53.5s\tremaining: 53.4s\n",
      "3000:\tlearn: 0.5248421\ttotal: 1m 4s\tremaining: 43s\n",
      "3500:\tlearn: 0.5182971\ttotal: 1m 14s\tremaining: 31.9s\n",
      "4000:\tlearn: 0.5121157\ttotal: 1m 25s\tremaining: 21.4s\n",
      "4500:\tlearn: 0.5061307\ttotal: 1m 36s\tremaining: 10.7s\n",
      "4999:\tlearn: 0.5004453\ttotal: 1m 46s\tremaining: 0us\n"
     ]
    }
   ],
   "source": [
    "cat = CatBoostClassifier(learning_rate=0.005, iterations=5000)\n",
    "cat.fit(X_train_4, y_train_4, early_stopping_rounds=100,verbose=500)\n",
    "cat_preds = cat.predict_proba(X_valid_4)[:,1]"
   ]
  },
  {
   "cell_type": "code",
   "execution_count": 492,
   "metadata": {},
   "outputs": [
    {
     "name": "stdout",
     "output_type": "stream",
     "text": [
      "0.7731170123897164\n"
     ]
    }
   ],
   "source": [
    "print(roc_auc_score(y_valid_4, cat_preds))"
   ]
  },
  {
   "cell_type": "code",
   "execution_count": 564,
   "metadata": {},
   "outputs": [
    {
     "name": "stdout",
     "output_type": "stream",
     "text": [
      "0:\tlearn: 0.6915198\ttotal: 29ms\tremaining: 2m 25s\n",
      "100:\tlearn: 0.6084358\ttotal: 2.41s\tremaining: 1m 57s\n",
      "200:\tlearn: 0.5819610\ttotal: 4.53s\tremaining: 1m 48s\n",
      "300:\tlearn: 0.5707436\ttotal: 6.79s\tremaining: 1m 45s\n",
      "400:\tlearn: 0.5648970\ttotal: 8.82s\tremaining: 1m 41s\n",
      "500:\tlearn: 0.5611774\ttotal: 10.9s\tremaining: 1m 37s\n",
      "600:\tlearn: 0.5584063\ttotal: 13s\tremaining: 1m 35s\n",
      "700:\tlearn: 0.5561913\ttotal: 15.1s\tremaining: 1m 32s\n",
      "800:\tlearn: 0.5544188\ttotal: 17.2s\tremaining: 1m 30s\n",
      "900:\tlearn: 0.5527355\ttotal: 19.3s\tremaining: 1m 27s\n",
      "1000:\tlearn: 0.5512046\ttotal: 21.7s\tremaining: 1m 26s\n",
      "1100:\tlearn: 0.5497585\ttotal: 24.3s\tremaining: 1m 25s\n",
      "1200:\tlearn: 0.5484014\ttotal: 27.1s\tremaining: 1m 25s\n",
      "1300:\tlearn: 0.5471264\ttotal: 29.5s\tremaining: 1m 23s\n",
      "1400:\tlearn: 0.5458549\ttotal: 31.8s\tremaining: 1m 21s\n",
      "1500:\tlearn: 0.5446435\ttotal: 34s\tremaining: 1m 19s\n",
      "1600:\tlearn: 0.5434119\ttotal: 36s\tremaining: 1m 16s\n",
      "1700:\tlearn: 0.5422257\ttotal: 38.1s\tremaining: 1m 13s\n",
      "1800:\tlearn: 0.5410217\ttotal: 40.4s\tremaining: 1m 11s\n",
      "1900:\tlearn: 0.5398484\ttotal: 42.5s\tremaining: 1m 9s\n",
      "2000:\tlearn: 0.5386318\ttotal: 44.5s\tremaining: 1m 6s\n",
      "2100:\tlearn: 0.5373654\ttotal: 46.7s\tremaining: 1m 4s\n",
      "2200:\tlearn: 0.5360249\ttotal: 48.7s\tremaining: 1m 1s\n",
      "2300:\tlearn: 0.5346486\ttotal: 50.8s\tremaining: 59.6s\n",
      "2400:\tlearn: 0.5331844\ttotal: 53.2s\tremaining: 57.6s\n",
      "2500:\tlearn: 0.5317830\ttotal: 55.2s\tremaining: 55.2s\n",
      "2600:\tlearn: 0.5303227\ttotal: 57.4s\tremaining: 53s\n",
      "2700:\tlearn: 0.5289792\ttotal: 59.6s\tremaining: 50.8s\n",
      "2800:\tlearn: 0.5276029\ttotal: 1m 1s\tremaining: 48.5s\n",
      "2900:\tlearn: 0.5262313\ttotal: 1m 4s\tremaining: 46.4s\n",
      "3000:\tlearn: 0.5248421\ttotal: 1m 6s\tremaining: 44.2s\n",
      "3100:\tlearn: 0.5234782\ttotal: 1m 8s\tremaining: 42s\n",
      "3200:\tlearn: 0.5221887\ttotal: 1m 10s\tremaining: 39.7s\n",
      "3300:\tlearn: 0.5208658\ttotal: 1m 12s\tremaining: 37.5s\n",
      "3400:\tlearn: 0.5195675\ttotal: 1m 14s\tremaining: 35.2s\n",
      "3500:\tlearn: 0.5182971\ttotal: 1m 16s\tremaining: 32.9s\n",
      "3600:\tlearn: 0.5170685\ttotal: 1m 18s\tremaining: 30.7s\n",
      "3700:\tlearn: 0.5158327\ttotal: 1m 21s\tremaining: 28.4s\n",
      "3800:\tlearn: 0.5145609\ttotal: 1m 23s\tremaining: 26.3s\n",
      "3900:\tlearn: 0.5133347\ttotal: 1m 25s\tremaining: 24s\n",
      "4000:\tlearn: 0.5121157\ttotal: 1m 27s\tremaining: 21.8s\n",
      "4100:\tlearn: 0.5109208\ttotal: 1m 29s\tremaining: 19.6s\n",
      "4200:\tlearn: 0.5096927\ttotal: 1m 31s\tremaining: 17.4s\n",
      "4300:\tlearn: 0.5084887\ttotal: 1m 33s\tremaining: 15.3s\n",
      "4400:\tlearn: 0.5073049\ttotal: 1m 36s\tremaining: 13.1s\n",
      "4500:\tlearn: 0.5061307\ttotal: 1m 38s\tremaining: 10.9s\n",
      "4600:\tlearn: 0.5049885\ttotal: 1m 40s\tremaining: 8.68s\n",
      "4700:\tlearn: 0.5038409\ttotal: 1m 42s\tremaining: 6.5s\n",
      "4800:\tlearn: 0.5026887\ttotal: 1m 44s\tremaining: 4.32s\n",
      "4900:\tlearn: 0.5015637\ttotal: 1m 46s\tremaining: 2.15s\n",
      "4999:\tlearn: 0.5004453\ttotal: 1m 48s\tremaining: 0us\n"
     ]
    }
   ],
   "source": [
    "cat = CatBoostClassifier(learning_rate=0.005, iterations=5000)\n",
    "cat.fit(X_train_4, y_train_4, early_stopping_rounds=100,verbose=100)\n",
    "cat_preds = cat.predict_proba(X_valid_4)[:,1]"
   ]
  },
  {
   "cell_type": "code",
   "execution_count": 565,
   "metadata": {},
   "outputs": [
    {
     "name": "stdout",
     "output_type": "stream",
     "text": [
      "0.7731170123897164\n"
     ]
    }
   ],
   "source": [
    "print(roc_auc_score(y_valid_4, cat_preds))"
   ]
  },
  {
   "cell_type": "markdown",
   "metadata": {},
   "source": [
    "### 이상치 제거, 변수 제거, 파생변수 추가 데이터로 모델링 시\n",
    "### xgboost -> 0.7711\n",
    "### lightgbm -> 0.7722\n",
    "### catboost -> 0.7731"
   ]
  },
  {
   "cell_type": "markdown",
   "metadata": {},
   "source": [
    "# 최종 이상치 제거와 변수제거 데이터로 최종모델 catboost 선택"
   ]
  },
  {
   "cell_type": "code",
   "execution_count": null,
   "metadata": {},
   "outputs": [],
   "source": []
  }
 ],
 "metadata": {
  "kernelspec": {
   "display_name": "Python 3",
   "language": "python",
   "name": "python3"
  },
  "language_info": {
   "codemirror_mode": {
    "name": "ipython",
    "version": 3
   },
   "file_extension": ".py",
   "mimetype": "text/x-python",
   "name": "python",
   "nbconvert_exporter": "python",
   "pygments_lexer": "ipython3",
   "version": "3.7.9"
  }
 },
 "nbformat": 4,
 "nbformat_minor": 4
}
