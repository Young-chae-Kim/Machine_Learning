{
 "cells": [
  {
   "cell_type": "markdown",
   "metadata": {},
   "source": [
    "# 📌 Python X Tree 알고리즘 분류실습 1편"
   ]
  },
  {
   "cell_type": "markdown",
   "metadata": {},
   "source": [
    "#### "
   ]
  },
  {
   "cell_type": "markdown",
   "metadata": {},
   "source": [
    "## 1. 기본 설정 ❗"
   ]
  },
  {
   "cell_type": "markdown",
   "metadata": {},
   "source": [
    "#### -- 분석에 필요한 기본 모듈 --"
   ]
  },
  {
   "cell_type": "code",
   "execution_count": 38,
   "metadata": {},
   "outputs": [],
   "source": [
    "import warnings\n",
    "warnings.filterwarnings('ignore')\n",
    "import numpy as np\n",
    "import pandas as pd   \n",
    "import sklearn\n",
    "import matplotlib.pyplot as plt\n",
    "import seaborn as sns\n",
    "import itertools\n",
    "from matplotlib.ticker import MaxNLocator\n",
    "from collections import Counter\n",
    "plt.style.use('fivethirtyeight')\n",
    "import missingno as msno  # 결측치 시각화 모듈"
   ]
  },
  {
   "cell_type": "markdown",
   "metadata": {},
   "source": [
    "#### -- 분석에 필요한 알고리즘 모델 --"
   ]
  },
  {
   "cell_type": "code",
   "execution_count": 39,
   "metadata": {},
   "outputs": [],
   "source": [
    "from sklearn.model_selection import train_test_split\n",
    "from sklearn.metrics import accuracy_score, confusion_matrix, log_loss, roc_auc_score\n",
    "from sklearn import preprocessing\n",
    "label_encoder = preprocessing.LabelEncoder()\n",
    "\n",
    "from sklearn.model_selection import GridSearchCV\n",
    "\n",
    "from sklearn.tree import DecisionTreeClassifier\n",
    "from sklearn.ensemble import RandomForestClassifier\n",
    "from sklearn.ensemble import GradientBoostingClassifier\n",
    "from xgboost import XGBClassifier\n",
    "from lightgbm import LGBMClassifier\n",
    "from catboost import CatBoostClassifier"
   ]
  },
  {
   "cell_type": "markdown",
   "metadata": {},
   "source": [
    "#### -- 분석에 필요한 폰트 --"
   ]
  },
  {
   "cell_type": "code",
   "execution_count": 40,
   "metadata": {},
   "outputs": [
    {
     "name": "stdout",
     "output_type": "stream",
     "text": [
      "NanumBarunGothic = C:\\Windows\\Fonts\\NanumBarunGothic.ttf\n",
      "NanumBarunGothic = C:\\Windows\\Fonts\\NanumBarunGothicUltraLight.ttf\n",
      "NanumBarunGothic = C:\\Windows\\Fonts\\NanumBarunGothicLight.ttf\n",
      "NanumGothic = C:\\WINDOWS\\Fonts\\.TTF\n",
      "NanumBarunGothic = C:\\WINDOWS\\Fonts\\NanumBarunGothic.ttf\n",
      "NanumGothic = C:\\WINDOWS\\Fonts\\EXTRABOLD.TTF\n",
      "NanumBarunGothic = C:\\WINDOWS\\Fonts\\NanumBarunGothicLight.ttf\n",
      "NanumBarunGothic = C:\\Windows\\Fonts\\NanumBarunGothicBold.ttf\n",
      "NanumGothic = C:\\Windows\\Fonts\\EXTRABOLD.TTF\n",
      "NanumBarunGothic = C:\\WINDOWS\\Fonts\\NanumBarunGothicBold.ttf\n",
      "NanumGothic = C:\\Windows\\Fonts\\.TTF\n",
      "NanumBarunGothic = C:\\WINDOWS\\Fonts\\NanumBarunGothicUltraLight.ttf\n",
      "NanumGothic = C:\\WINDOWS\\Fonts\\BOLD.TTF\n",
      "NanumGothic = C:\\Windows\\Fonts\\BOLD.TTF\n"
     ]
    }
   ],
   "source": [
    "import matplotlib.font_manager as fm\n",
    "fm._rebuild()\n",
    "plt.rc('font', family='NanumGothic')\n",
    "\n",
    "for fontInfo in fm.fontManager.ttflist:\n",
    "    if 'Nanum' in fontInfo.name:\n",
    "        print(fontInfo.name+\" = \"+fontInfo.fname)"
   ]
  },
  {
   "cell_type": "markdown",
   "metadata": {},
   "source": [
    "#### "
   ]
  },
  {
   "cell_type": "markdown",
   "metadata": {},
   "source": [
    "## 2. 데이터 불러오기 📂"
   ]
  },
  {
   "cell_type": "code",
   "execution_count": 41,
   "metadata": {},
   "outputs": [],
   "source": [
    "train = pd.read_csv('C:/Users/dudco/Desktop/creditcard_data/open/train.csv', encoding = 'CP949')\n",
    "test = pd.read_csv('C:/Users/dudco/Desktop/creditcard_data/open/test.csv', encoding = 'CP949')"
   ]
  },
  {
   "cell_type": "markdown",
   "metadata": {},
   "source": [
    "### "
   ]
  },
  {
   "cell_type": "markdown",
   "metadata": {},
   "source": [
    "## 3. EDA 📊"
   ]
  },
  {
   "cell_type": "code",
   "execution_count": 5,
   "metadata": {},
   "outputs": [
    {
     "name": "stdout",
     "output_type": "stream",
     "text": [
      "<class 'pandas.core.frame.DataFrame'>\n",
      "RangeIndex: 26457 entries, 0 to 26456\n",
      "Data columns (total 20 columns):\n",
      " #   Column         Non-Null Count  Dtype  \n",
      "---  ------         --------------  -----  \n",
      " 0   index          26457 non-null  int64  \n",
      " 1   gender         26457 non-null  object \n",
      " 2   car            26457 non-null  object \n",
      " 3   reality        26457 non-null  object \n",
      " 4   child_num      26457 non-null  int64  \n",
      " 5   income_total   26457 non-null  float64\n",
      " 6   income_type    26457 non-null  object \n",
      " 7   edu_type       26457 non-null  object \n",
      " 8   family_type    26457 non-null  object \n",
      " 9   house_type     26457 non-null  object \n",
      " 10  DAYS_BIRTH     26457 non-null  int64  \n",
      " 11  DAYS_EMPLOYED  26457 non-null  int64  \n",
      " 12  FLAG_MOBIL     26457 non-null  int64  \n",
      " 13  work_phone     26457 non-null  int64  \n",
      " 14  phone          26457 non-null  int64  \n",
      " 15  email          26457 non-null  int64  \n",
      " 16  occyp_type     18286 non-null  object \n",
      " 17  family_size    26457 non-null  float64\n",
      " 18  begin_month    26457 non-null  float64\n",
      " 19  credit         26457 non-null  float64\n",
      "dtypes: float64(4), int64(8), object(8)\n",
      "memory usage: 4.0+ MB\n"
     ]
    }
   ],
   "source": [
    "train.info()"
   ]
  },
  {
   "cell_type": "code",
   "execution_count": 6,
   "metadata": {},
   "outputs": [
    {
     "name": "stdout",
     "output_type": "stream",
     "text": [
      "<class 'pandas.core.frame.DataFrame'>\n",
      "RangeIndex: 10000 entries, 0 to 9999\n",
      "Data columns (total 19 columns):\n",
      " #   Column         Non-Null Count  Dtype  \n",
      "---  ------         --------------  -----  \n",
      " 0   index          10000 non-null  int64  \n",
      " 1   gender         10000 non-null  object \n",
      " 2   car            10000 non-null  object \n",
      " 3   reality        10000 non-null  object \n",
      " 4   child_num      10000 non-null  int64  \n",
      " 5   income_total   10000 non-null  float64\n",
      " 6   income_type    10000 non-null  object \n",
      " 7   edu_type       10000 non-null  object \n",
      " 8   family_type    10000 non-null  object \n",
      " 9   house_type     10000 non-null  object \n",
      " 10  DAYS_BIRTH     10000 non-null  int64  \n",
      " 11  DAYS_EMPLOYED  10000 non-null  int64  \n",
      " 12  FLAG_MOBIL     10000 non-null  int64  \n",
      " 13  work_phone     10000 non-null  int64  \n",
      " 14  phone          10000 non-null  int64  \n",
      " 15  email          10000 non-null  int64  \n",
      " 16  occyp_type     6848 non-null   object \n",
      " 17  family_size    10000 non-null  float64\n",
      " 18  begin_month    10000 non-null  float64\n",
      "dtypes: float64(3), int64(8), object(8)\n",
      "memory usage: 1.4+ MB\n"
     ]
    }
   ],
   "source": [
    "test.info()"
   ]
  },
  {
   "cell_type": "code",
   "execution_count": 7,
   "metadata": {},
   "outputs": [
    {
     "name": "stdout",
     "output_type": "stream",
     "text": [
      "              index     child_num  income_total    DAYS_BIRTH  DAYS_EMPLOYED  \\\n",
      "count  26457.000000  26457.000000  2.645700e+04  26457.000000   26457.000000   \n",
      "mean   13228.000000      0.428658  1.873065e+05 -15958.053899   59068.750728   \n",
      "std     7637.622372      0.747326  1.018784e+05   4201.589022  137475.427503   \n",
      "min        0.000000      0.000000  2.700000e+04 -25152.000000  -15713.000000   \n",
      "25%     6614.000000      0.000000  1.215000e+05 -19431.000000   -3153.000000   \n",
      "50%    13228.000000      0.000000  1.575000e+05 -15547.000000   -1539.000000   \n",
      "75%    19842.000000      1.000000  2.250000e+05 -12446.000000    -407.000000   \n",
      "max    26456.000000     19.000000  1.575000e+06  -7705.000000  365243.000000   \n",
      "\n",
      "       FLAG_MOBIL    work_phone         phone         email   family_size  \\\n",
      "count     26457.0  26457.000000  26457.000000  26457.000000  26457.000000   \n",
      "mean          1.0      0.224742      0.294251      0.091280      2.196848   \n",
      "std           0.0      0.417420      0.455714      0.288013      0.916717   \n",
      "min           1.0      0.000000      0.000000      0.000000      1.000000   \n",
      "25%           1.0      0.000000      0.000000      0.000000      2.000000   \n",
      "50%           1.0      0.000000      0.000000      0.000000      2.000000   \n",
      "75%           1.0      0.000000      1.000000      0.000000      3.000000   \n",
      "max           1.0      1.000000      1.000000      1.000000     20.000000   \n",
      "\n",
      "        begin_month        credit  \n",
      "count  26457.000000  26457.000000  \n",
      "mean     -26.123294      1.519560  \n",
      "std       16.559550      0.702283  \n",
      "min      -60.000000      0.000000  \n",
      "25%      -39.000000      1.000000  \n",
      "50%      -24.000000      2.000000  \n",
      "75%      -12.000000      2.000000  \n",
      "max        0.000000      2.000000  \n"
     ]
    }
   ],
   "source": [
    "print(train.describe())"
   ]
  },
  {
   "cell_type": "code",
   "execution_count": 8,
   "metadata": {},
   "outputs": [
    {
     "name": "stdout",
     "output_type": "stream",
     "text": [
      "             index     child_num  income_total    DAYS_BIRTH  DAYS_EMPLOYED  \\\n",
      "count  10000.00000  10000.000000  1.000000e+04  10000.000000   10000.000000   \n",
      "mean   31456.50000      0.434700  1.850433e+05 -16020.466400   59776.690400   \n",
      "std     2886.89568      0.729102  1.015398e+05   4197.672887  138121.224504   \n",
      "min    26457.00000      0.000000  2.700000e+04 -25152.000000  -15661.000000   \n",
      "25%    28956.75000      0.000000  1.215000e+05 -19483.250000   -3153.000000   \n",
      "50%    31456.50000      0.000000  1.575000e+05 -15606.000000   -1577.000000   \n",
      "75%    33956.25000      1.000000  2.250000e+05 -12539.000000    -410.000000   \n",
      "max    36456.00000      5.000000  1.575000e+06  -7489.000000  365243.000000   \n",
      "\n",
      "       FLAG_MOBIL    work_phone         phone         email   family_size  \\\n",
      "count     10000.0  10000.000000  10000.000000  10000.000000  10000.000000   \n",
      "mean          1.0      0.227600      0.296300      0.085600      2.202700   \n",
      "std           0.0      0.419304      0.456648      0.279786      0.898272   \n",
      "min           1.0      0.000000      0.000000      0.000000      1.000000   \n",
      "25%           1.0      0.000000      0.000000      0.000000      2.000000   \n",
      "50%           1.0      0.000000      0.000000      0.000000      2.000000   \n",
      "75%           1.0      0.000000      1.000000      0.000000      3.000000   \n",
      "max           1.0      1.000000      1.000000      1.000000      7.000000   \n",
      "\n",
      "        begin_month  \n",
      "count  10000.000000  \n",
      "mean     -26.272400  \n",
      "std       16.348557  \n",
      "min      -60.000000  \n",
      "25%      -39.000000  \n",
      "50%      -25.000000  \n",
      "75%      -12.000000  \n",
      "max        0.000000  \n"
     ]
    }
   ],
   "source": [
    "print(test.describe())"
   ]
  },
  {
   "cell_type": "markdown",
   "metadata": {},
   "source": [
    "#### -- 결측치 시각화 --"
   ]
  },
  {
   "cell_type": "code",
   "execution_count": null,
   "metadata": {},
   "outputs": [],
   "source": [
    "msno.bar(df=train.iloc[:, :], color=(0.7,0.1,0.3))"
   ]
  },
  {
   "cell_type": "code",
   "execution_count": null,
   "metadata": {},
   "outputs": [],
   "source": [
    "msno.bar(df=test.iloc[:, :], color=(0.7,0.1,0.3))"
   ]
  },
  {
   "cell_type": "code",
   "execution_count": 84,
   "metadata": {},
   "outputs": [],
   "source": [
    "train = train.fillna({'occyp_type':'Nan'})\n",
    "test = test.fillna({'occyp_type':'Nan'})"
   ]
  },
  {
   "cell_type": "markdown",
   "metadata": {},
   "source": [
    "#### -- 'occyp_type' 변수 결측치 확인 --"
   ]
  },
  {
   "cell_type": "code",
   "execution_count": 86,
   "metadata": {},
   "outputs": [],
   "source": [
    "Nan_train = train[train['occyp_type']=='Nan']"
   ]
  },
  {
   "cell_type": "code",
   "execution_count": 87,
   "metadata": {
    "scrolled": true
   },
   "outputs": [
    {
     "data": {
      "text/html": [
       "<div>\n",
       "<style scoped>\n",
       "    .dataframe tbody tr th:only-of-type {\n",
       "        vertical-align: middle;\n",
       "    }\n",
       "\n",
       "    .dataframe tbody tr th {\n",
       "        vertical-align: top;\n",
       "    }\n",
       "\n",
       "    .dataframe thead th {\n",
       "        text-align: right;\n",
       "    }\n",
       "</style>\n",
       "<table border=\"1\" class=\"dataframe\">\n",
       "  <thead>\n",
       "    <tr style=\"text-align: right;\">\n",
       "      <th></th>\n",
       "      <th>index</th>\n",
       "      <th>gender</th>\n",
       "      <th>car</th>\n",
       "      <th>reality</th>\n",
       "      <th>child_num</th>\n",
       "      <th>income_total</th>\n",
       "      <th>edu_type</th>\n",
       "      <th>family_type</th>\n",
       "      <th>house_type</th>\n",
       "      <th>DAYS_BIRTH</th>\n",
       "      <th>DAYS_EMPLOYED</th>\n",
       "      <th>FLAG_MOBIL</th>\n",
       "      <th>work_phone</th>\n",
       "      <th>phone</th>\n",
       "      <th>email</th>\n",
       "      <th>occyp_type</th>\n",
       "      <th>family_size</th>\n",
       "      <th>begin_month</th>\n",
       "      <th>credit</th>\n",
       "    </tr>\n",
       "    <tr>\n",
       "      <th>income_type</th>\n",
       "      <th></th>\n",
       "      <th></th>\n",
       "      <th></th>\n",
       "      <th></th>\n",
       "      <th></th>\n",
       "      <th></th>\n",
       "      <th></th>\n",
       "      <th></th>\n",
       "      <th></th>\n",
       "      <th></th>\n",
       "      <th></th>\n",
       "      <th></th>\n",
       "      <th></th>\n",
       "      <th></th>\n",
       "      <th></th>\n",
       "      <th></th>\n",
       "      <th></th>\n",
       "      <th></th>\n",
       "      <th></th>\n",
       "    </tr>\n",
       "  </thead>\n",
       "  <tbody>\n",
       "    <tr>\n",
       "      <th>Commercial associate</th>\n",
       "      <td>1026</td>\n",
       "      <td>1026</td>\n",
       "      <td>1026</td>\n",
       "      <td>1026</td>\n",
       "      <td>1026</td>\n",
       "      <td>1026</td>\n",
       "      <td>1026</td>\n",
       "      <td>1026</td>\n",
       "      <td>1026</td>\n",
       "      <td>1026</td>\n",
       "      <td>1026</td>\n",
       "      <td>1026</td>\n",
       "      <td>1026</td>\n",
       "      <td>1026</td>\n",
       "      <td>1026</td>\n",
       "      <td>1026</td>\n",
       "      <td>1026</td>\n",
       "      <td>1026</td>\n",
       "      <td>1026</td>\n",
       "    </tr>\n",
       "    <tr>\n",
       "      <th>Pensioner</th>\n",
       "      <td>4440</td>\n",
       "      <td>4440</td>\n",
       "      <td>4440</td>\n",
       "      <td>4440</td>\n",
       "      <td>4440</td>\n",
       "      <td>4440</td>\n",
       "      <td>4440</td>\n",
       "      <td>4440</td>\n",
       "      <td>4440</td>\n",
       "      <td>4440</td>\n",
       "      <td>4440</td>\n",
       "      <td>4440</td>\n",
       "      <td>4440</td>\n",
       "      <td>4440</td>\n",
       "      <td>4440</td>\n",
       "      <td>4440</td>\n",
       "      <td>4440</td>\n",
       "      <td>4440</td>\n",
       "      <td>4440</td>\n",
       "    </tr>\n",
       "    <tr>\n",
       "      <th>State servant</th>\n",
       "      <td>392</td>\n",
       "      <td>392</td>\n",
       "      <td>392</td>\n",
       "      <td>392</td>\n",
       "      <td>392</td>\n",
       "      <td>392</td>\n",
       "      <td>392</td>\n",
       "      <td>392</td>\n",
       "      <td>392</td>\n",
       "      <td>392</td>\n",
       "      <td>392</td>\n",
       "      <td>392</td>\n",
       "      <td>392</td>\n",
       "      <td>392</td>\n",
       "      <td>392</td>\n",
       "      <td>392</td>\n",
       "      <td>392</td>\n",
       "      <td>392</td>\n",
       "      <td>392</td>\n",
       "    </tr>\n",
       "    <tr>\n",
       "      <th>Student</th>\n",
       "      <td>1</td>\n",
       "      <td>1</td>\n",
       "      <td>1</td>\n",
       "      <td>1</td>\n",
       "      <td>1</td>\n",
       "      <td>1</td>\n",
       "      <td>1</td>\n",
       "      <td>1</td>\n",
       "      <td>1</td>\n",
       "      <td>1</td>\n",
       "      <td>1</td>\n",
       "      <td>1</td>\n",
       "      <td>1</td>\n",
       "      <td>1</td>\n",
       "      <td>1</td>\n",
       "      <td>1</td>\n",
       "      <td>1</td>\n",
       "      <td>1</td>\n",
       "      <td>1</td>\n",
       "    </tr>\n",
       "    <tr>\n",
       "      <th>Working</th>\n",
       "      <td>2312</td>\n",
       "      <td>2312</td>\n",
       "      <td>2312</td>\n",
       "      <td>2312</td>\n",
       "      <td>2312</td>\n",
       "      <td>2312</td>\n",
       "      <td>2312</td>\n",
       "      <td>2312</td>\n",
       "      <td>2312</td>\n",
       "      <td>2312</td>\n",
       "      <td>2312</td>\n",
       "      <td>2312</td>\n",
       "      <td>2312</td>\n",
       "      <td>2312</td>\n",
       "      <td>2312</td>\n",
       "      <td>2312</td>\n",
       "      <td>2312</td>\n",
       "      <td>2312</td>\n",
       "      <td>2312</td>\n",
       "    </tr>\n",
       "  </tbody>\n",
       "</table>\n",
       "</div>"
      ],
      "text/plain": [
       "                      index  gender   car  reality  child_num  income_total  \\\n",
       "income_type                                                                   \n",
       "Commercial associate   1026    1026  1026     1026       1026          1026   \n",
       "Pensioner              4440    4440  4440     4440       4440          4440   \n",
       "State servant           392     392   392      392        392           392   \n",
       "Student                   1       1     1        1          1             1   \n",
       "Working                2312    2312  2312     2312       2312          2312   \n",
       "\n",
       "                      edu_type  family_type  house_type  DAYS_BIRTH  \\\n",
       "income_type                                                           \n",
       "Commercial associate      1026         1026        1026        1026   \n",
       "Pensioner                 4440         4440        4440        4440   \n",
       "State servant              392          392         392         392   \n",
       "Student                      1            1           1           1   \n",
       "Working                   2312         2312        2312        2312   \n",
       "\n",
       "                      DAYS_EMPLOYED  FLAG_MOBIL  work_phone  phone  email  \\\n",
       "income_type                                                                 \n",
       "Commercial associate           1026        1026        1026   1026   1026   \n",
       "Pensioner                      4440        4440        4440   4440   4440   \n",
       "State servant                   392         392         392    392    392   \n",
       "Student                           1           1           1      1      1   \n",
       "Working                        2312        2312        2312   2312   2312   \n",
       "\n",
       "                      occyp_type  family_size  begin_month  credit  \n",
       "income_type                                                         \n",
       "Commercial associate        1026         1026         1026    1026  \n",
       "Pensioner                   4440         4440         4440    4440  \n",
       "State servant                392          392          392     392  \n",
       "Student                        1            1            1       1  \n",
       "Working                     2312         2312         2312    2312  "
      ]
     },
     "execution_count": 87,
     "metadata": {},
     "output_type": "execute_result"
    }
   ],
   "source": [
    "Nan_i = Nan_train.groupby('income_type').count()\n",
    "Nan_i"
   ]
  },
  {
   "cell_type": "code",
   "execution_count": 88,
   "metadata": {},
   "outputs": [],
   "source": [
    "Nan_test = test[test['occyp_type']=='Nan']"
   ]
  },
  {
   "cell_type": "code",
   "execution_count": 89,
   "metadata": {},
   "outputs": [
    {
     "data": {
      "text/html": [
       "<div>\n",
       "<style scoped>\n",
       "    .dataframe tbody tr th:only-of-type {\n",
       "        vertical-align: middle;\n",
       "    }\n",
       "\n",
       "    .dataframe tbody tr th {\n",
       "        vertical-align: top;\n",
       "    }\n",
       "\n",
       "    .dataframe thead th {\n",
       "        text-align: right;\n",
       "    }\n",
       "</style>\n",
       "<table border=\"1\" class=\"dataframe\">\n",
       "  <thead>\n",
       "    <tr style=\"text-align: right;\">\n",
       "      <th></th>\n",
       "      <th>index</th>\n",
       "      <th>gender</th>\n",
       "      <th>car</th>\n",
       "      <th>reality</th>\n",
       "      <th>child_num</th>\n",
       "      <th>income_total</th>\n",
       "      <th>edu_type</th>\n",
       "      <th>family_type</th>\n",
       "      <th>house_type</th>\n",
       "      <th>DAYS_BIRTH</th>\n",
       "      <th>DAYS_EMPLOYED</th>\n",
       "      <th>FLAG_MOBIL</th>\n",
       "      <th>work_phone</th>\n",
       "      <th>phone</th>\n",
       "      <th>email</th>\n",
       "      <th>occyp_type</th>\n",
       "      <th>family_size</th>\n",
       "      <th>begin_month</th>\n",
       "    </tr>\n",
       "    <tr>\n",
       "      <th>income_type</th>\n",
       "      <th></th>\n",
       "      <th></th>\n",
       "      <th></th>\n",
       "      <th></th>\n",
       "      <th></th>\n",
       "      <th></th>\n",
       "      <th></th>\n",
       "      <th></th>\n",
       "      <th></th>\n",
       "      <th></th>\n",
       "      <th></th>\n",
       "      <th></th>\n",
       "      <th></th>\n",
       "      <th></th>\n",
       "      <th></th>\n",
       "      <th></th>\n",
       "      <th></th>\n",
       "      <th></th>\n",
       "    </tr>\n",
       "  </thead>\n",
       "  <tbody>\n",
       "    <tr>\n",
       "      <th>Commercial associate</th>\n",
       "      <td>412</td>\n",
       "      <td>412</td>\n",
       "      <td>412</td>\n",
       "      <td>412</td>\n",
       "      <td>412</td>\n",
       "      <td>412</td>\n",
       "      <td>412</td>\n",
       "      <td>412</td>\n",
       "      <td>412</td>\n",
       "      <td>412</td>\n",
       "      <td>412</td>\n",
       "      <td>412</td>\n",
       "      <td>412</td>\n",
       "      <td>412</td>\n",
       "      <td>412</td>\n",
       "      <td>412</td>\n",
       "      <td>412</td>\n",
       "      <td>412</td>\n",
       "    </tr>\n",
       "    <tr>\n",
       "      <th>Pensioner</th>\n",
       "      <td>1699</td>\n",
       "      <td>1699</td>\n",
       "      <td>1699</td>\n",
       "      <td>1699</td>\n",
       "      <td>1699</td>\n",
       "      <td>1699</td>\n",
       "      <td>1699</td>\n",
       "      <td>1699</td>\n",
       "      <td>1699</td>\n",
       "      <td>1699</td>\n",
       "      <td>1699</td>\n",
       "      <td>1699</td>\n",
       "      <td>1699</td>\n",
       "      <td>1699</td>\n",
       "      <td>1699</td>\n",
       "      <td>1699</td>\n",
       "      <td>1699</td>\n",
       "      <td>1699</td>\n",
       "    </tr>\n",
       "    <tr>\n",
       "      <th>State servant</th>\n",
       "      <td>156</td>\n",
       "      <td>156</td>\n",
       "      <td>156</td>\n",
       "      <td>156</td>\n",
       "      <td>156</td>\n",
       "      <td>156</td>\n",
       "      <td>156</td>\n",
       "      <td>156</td>\n",
       "      <td>156</td>\n",
       "      <td>156</td>\n",
       "      <td>156</td>\n",
       "      <td>156</td>\n",
       "      <td>156</td>\n",
       "      <td>156</td>\n",
       "      <td>156</td>\n",
       "      <td>156</td>\n",
       "      <td>156</td>\n",
       "      <td>156</td>\n",
       "    </tr>\n",
       "    <tr>\n",
       "      <th>Working</th>\n",
       "      <td>885</td>\n",
       "      <td>885</td>\n",
       "      <td>885</td>\n",
       "      <td>885</td>\n",
       "      <td>885</td>\n",
       "      <td>885</td>\n",
       "      <td>885</td>\n",
       "      <td>885</td>\n",
       "      <td>885</td>\n",
       "      <td>885</td>\n",
       "      <td>885</td>\n",
       "      <td>885</td>\n",
       "      <td>885</td>\n",
       "      <td>885</td>\n",
       "      <td>885</td>\n",
       "      <td>885</td>\n",
       "      <td>885</td>\n",
       "      <td>885</td>\n",
       "    </tr>\n",
       "  </tbody>\n",
       "</table>\n",
       "</div>"
      ],
      "text/plain": [
       "                      index  gender   car  reality  child_num  income_total  \\\n",
       "income_type                                                                   \n",
       "Commercial associate    412     412   412      412        412           412   \n",
       "Pensioner              1699    1699  1699     1699       1699          1699   \n",
       "State servant           156     156   156      156        156           156   \n",
       "Working                 885     885   885      885        885           885   \n",
       "\n",
       "                      edu_type  family_type  house_type  DAYS_BIRTH  \\\n",
       "income_type                                                           \n",
       "Commercial associate       412          412         412         412   \n",
       "Pensioner                 1699         1699        1699        1699   \n",
       "State servant              156          156         156         156   \n",
       "Working                    885          885         885         885   \n",
       "\n",
       "                      DAYS_EMPLOYED  FLAG_MOBIL  work_phone  phone  email  \\\n",
       "income_type                                                                 \n",
       "Commercial associate            412         412         412    412    412   \n",
       "Pensioner                      1699        1699        1699   1699   1699   \n",
       "State servant                   156         156         156    156    156   \n",
       "Working                         885         885         885    885    885   \n",
       "\n",
       "                      occyp_type  family_size  begin_month  \n",
       "income_type                                                 \n",
       "Commercial associate         412          412          412  \n",
       "Pensioner                   1699         1699         1699  \n",
       "State servant                156          156          156  \n",
       "Working                      885          885          885  "
      ]
     },
     "execution_count": 89,
     "metadata": {},
     "output_type": "execute_result"
    }
   ],
   "source": [
    "Nan_i_te = Nan_test.groupby('income_type').count()\n",
    "Nan_i_te"
   ]
  },
  {
   "cell_type": "markdown",
   "metadata": {},
   "source": [
    "#### 소득 유형별  직업유형 결측치 확인\n",
    "#### 'Pensioner'(연금 수령자)이 결측치의 약 54%를 차지"
   ]
  },
  {
   "cell_type": "code",
   "execution_count": null,
   "metadata": {},
   "outputs": [],
   "source": [
    "x = ['Commercial associate', 'Pensioner', 'State servant','Student', 'Working']\n",
    "y = [1026, 4440, 392, 1, 2312]\n",
    "\n",
    "plt.figure(figsize=(9, 3))\n",
    "plt.bar(x,y)\n",
    "plt.show()"
   ]
  },
  {
   "cell_type": "markdown",
   "metadata": {},
   "source": [
    "#### --Target 변수 시각화 --"
   ]
  },
  {
   "cell_type": "code",
   "execution_count": null,
   "metadata": {},
   "outputs": [],
   "source": [
    "colors = ['#ff9999', '#8fd9b6', '#d395d0']\n",
    "explode = [0.05, 0.05, 0.05]\n",
    "\n",
    "plt.subplots(figsize = (5,5))\n",
    "plt.pie(train['credit'].value_counts(), labels = train['credit'].value_counts().index, \n",
    "        autopct=\"%.2f%%\", explode=explode, startangle = 90, colors=colors)\n",
    "plt.title('신용도 비율', size=20)\n",
    "plt.show()"
   ]
  },
  {
   "cell_type": "markdown",
   "metadata": {},
   "source": [
    "#### -- 중복 값 확인하기 위해 변수 생성 --"
   ]
  },
  {
   "cell_type": "code",
   "execution_count": 17,
   "metadata": {},
   "outputs": [],
   "source": [
    "train['ID'] = [str(a) + str(b) + str(c) + str(d)+ str(e) + str(f) + str(g) + str(h) + str(i) for a,b,c,d,e,f,g,h,i in zip(train['gender'],train['car'],train['reality'],train['child_num'],train['income_total'],train['income_type'],train['edu_type'],train['DAYS_BIRTH'],train['DAYS_EMPLOYED'])]"
   ]
  },
  {
   "cell_type": "code",
   "execution_count": 18,
   "metadata": {
    "scrolled": false
   },
   "outputs": [
    {
     "data": {
      "text/plain": [
       "FNY0297000.0Commercial associateSecondary / secondary special-15519-3234    35\n",
       "MNN2225000.0WorkingHigher education-16768-3088                              24\n",
       "FNY1157500.0State servantSecondary / secondary special-12676-1350           24\n",
       "MYY0112500.0WorkingSecondary / secondary special-9952-1613                  21\n",
       "FNY0202500.0PensionerSecondary / secondary special-21126365243              20\n",
       "                                                                            ..\n",
       "FNY0153000.0WorkingSecondary / secondary special-18868-726                   1\n",
       "FNN090000.0PensionerSecondary / secondary special-20125365243                1\n",
       "FNY0227250.0Commercial associateSecondary / secondary special-19817-4675     1\n",
       "FNN1157500.0Commercial associateSecondary / secondary special-15473-1649     1\n",
       "FNY090000.0Commercial associateSecondary / secondary special-10127-831       1\n",
       "Name: ID, Length: 8737, dtype: int64"
      ]
     },
     "execution_count": 18,
     "metadata": {},
     "output_type": "execute_result"
    }
   ],
   "source": [
    "train['ID'].value_counts()"
   ]
  },
  {
   "cell_type": "markdown",
   "metadata": {},
   "source": [
    "# "
   ]
  },
  {
   "cell_type": "markdown",
   "metadata": {},
   "source": [
    "### * 모델 학습을 위한 기본 필수 전처리"
   ]
  },
  {
   "cell_type": "markdown",
   "metadata": {},
   "source": [
    "#### 1) gender변수 F,M -> 0,1로 바꿔주기"
   ]
  },
  {
   "cell_type": "code",
   "execution_count": 42,
   "metadata": {},
   "outputs": [],
   "source": [
    "train['gender'] = train['gender'].replace(['F','M'], [0,  1])\n",
    "test['gender'] = test['gender'].replace(['F','M'], [0,  1])"
   ]
  },
  {
   "cell_type": "markdown",
   "metadata": {},
   "source": [
    "#### 2) car변수 N,Y -> 0,1로 바꿔주기"
   ]
  },
  {
   "cell_type": "code",
   "execution_count": 43,
   "metadata": {},
   "outputs": [],
   "source": [
    "train['car'] = train['car'].replace(['N', 'Y'], [0, 1])\n",
    "test['car'] = test['car'].replace(['N', 'Y'], [0, 1])"
   ]
  },
  {
   "cell_type": "markdown",
   "metadata": {},
   "source": [
    "#### 3) reality변수 N,Y -> 0,1로 바꿔주기"
   ]
  },
  {
   "cell_type": "code",
   "execution_count": 44,
   "metadata": {},
   "outputs": [],
   "source": [
    "train['reality'] = train['reality'].replace(['N', 'Y'], [0, 1])\n",
    "test['reality'] = test['reality'].replace(['N', 'Y'], [0, 1])"
   ]
  },
  {
   "cell_type": "markdown",
   "metadata": {},
   "source": [
    "#### 4) income_type 변수 0,1,2,3,4로 인코딩하기"
   ]
  },
  {
   "cell_type": "code",
   "execution_count": 45,
   "metadata": {},
   "outputs": [],
   "source": [
    "train['income_type'] = label_encoder.fit_transform(train['income_type'])\n",
    "test['income_type'] = label_encoder.transform(test['income_type'])"
   ]
  },
  {
   "cell_type": "markdown",
   "metadata": {},
   "source": [
    "#### 5) edu_type변수 0,1,2,3,4로 인코딩하기"
   ]
  },
  {
   "cell_type": "code",
   "execution_count": 46,
   "metadata": {},
   "outputs": [],
   "source": [
    "train['edu_type'] = label_encoder.fit_transform(train['edu_type'])\n",
    "test['edu_type'] = label_encoder.transform(test['edu_type'])"
   ]
  },
  {
   "cell_type": "markdown",
   "metadata": {},
   "source": [
    "#### 6) family_type변수 0,1,2,3,4로 인코딩하기"
   ]
  },
  {
   "cell_type": "code",
   "execution_count": 47,
   "metadata": {},
   "outputs": [],
   "source": [
    "train['family_type'] = label_encoder.fit_transform(train['family_type'])\n",
    "test['family_type'] = label_encoder.transform(test['family_type'])"
   ]
  },
  {
   "cell_type": "markdown",
   "metadata": {},
   "source": [
    "#### 7) house_type변수 0,1,2,3,4,5로 인코딩하기"
   ]
  },
  {
   "cell_type": "code",
   "execution_count": 48,
   "metadata": {},
   "outputs": [],
   "source": [
    "train['house_type'] = label_encoder.fit_transform(train['house_type'])\n",
    "test['house_type'] = label_encoder.transform(test['house_type'])"
   ]
  },
  {
   "cell_type": "markdown",
   "metadata": {},
   "source": [
    "## "
   ]
  },
  {
   "cell_type": "markdown",
   "metadata": {},
   "source": [
    "## 4. 전처리 하지 않은 데이터로 모델 학습"
   ]
  },
  {
   "cell_type": "code",
   "execution_count": 12,
   "metadata": {},
   "outputs": [],
   "source": [
    "raw_train = train.drop(\"occyp_type\", axis = 1)\n",
    "raw_test =  test.drop(\"occyp_type\", axis = 1)"
   ]
  },
  {
   "cell_type": "code",
   "execution_count": 13,
   "metadata": {},
   "outputs": [],
   "source": [
    "# train의 타겟변수 데이터셋을 만들어주기 위해 타겟변수 행 삭제\n",
    "\n",
    "raw_train_x = raw_train.drop(\"credit\", axis = 1)"
   ]
  },
  {
   "cell_type": "code",
   "execution_count": 14,
   "metadata": {},
   "outputs": [],
   "source": [
    "# train의 타겟변수 데이터셋\n",
    "\n",
    "raw_train_y = raw_train['credit']"
   ]
  },
  {
   "cell_type": "code",
   "execution_count": 15,
   "metadata": {},
   "outputs": [],
   "source": [
    "raw_test_x = raw_test"
   ]
  },
  {
   "cell_type": "markdown",
   "metadata": {},
   "source": [
    "#### Decision Tree (결정 트리) "
   ]
  },
  {
   "cell_type": "code",
   "execution_count": 16,
   "metadata": {},
   "outputs": [
    {
     "data": {
      "text/plain": [
       "DecisionTreeClassifier(random_state=0)"
      ]
     },
     "execution_count": 16,
     "metadata": {},
     "output_type": "execute_result"
    }
   ],
   "source": [
    "raw_dt_clf = DecisionTreeClassifier(random_state=0)\n",
    "raw_dt_clf.fit(raw_train_x, raw_train_y)"
   ]
  },
  {
   "cell_type": "code",
   "execution_count": 17,
   "metadata": {},
   "outputs": [],
   "source": [
    "raw_dt_pred = raw_dt_clf.predict(raw_test_x)"
   ]
  },
  {
   "cell_type": "markdown",
   "metadata": {},
   "source": [
    "#### - GridSearchCV를 이용해 최적의 파라미터 찾아주기"
   ]
  },
  {
   "cell_type": "code",
   "execution_count": 18,
   "metadata": {},
   "outputs": [
    {
     "name": "stdout",
     "output_type": "stream",
     "text": [
      "{'max_depth': 2, 'max_features': 'sqrt', 'max_leaf_nodes': 2, 'min_samples_leaf': 2, 'min_samples_split': 8}\n",
      "0.4390821999427041\n"
     ]
    }
   ],
   "source": [
    "params = {\n",
    "    'max_depth':[2,4,6,8,10,12,14,16],\n",
    "    'min_samples_leaf':[2,4,6,8,10,12],\n",
    "    'min_samples_split':[8,12,16,20,24,28,30,32],\n",
    "    'max_features':['sqrt','log','None'],\n",
    "    'max_leaf_nodes':[1,2,3,4]\n",
    "}\n",
    "grid_cv = GridSearchCV(raw_dt_clf, param_grid=params, scoring='accuracy', cv=2, n_jobs=1)\n",
    "grid_cv.fit(raw_train_x, raw_train_y)\n",
    "\n",
    "print(grid_cv.best_params_)\n",
    "print(grid_cv.best_score_)"
   ]
  },
  {
   "cell_type": "markdown",
   "metadata": {},
   "source": [
    "## "
   ]
  },
  {
   "cell_type": "markdown",
   "metadata": {},
   "source": [
    "## 5. 전처리"
   ]
  },
  {
   "cell_type": "markdown",
   "metadata": {},
   "source": [
    "### 1) DAYS_EMPLOYED 변수"
   ]
  },
  {
   "cell_type": "markdown",
   "metadata": {},
   "source": [
    "#### - 데이터 수집 당시 (0)부터 역으로 수집됨\n",
    "#### - 즉, -1은 데이터 수집일 하루 전부터 일을 시작함을 의미 & 양수 값은 고용되지 않은 상태를 의미함"
   ]
  },
  {
   "cell_type": "markdown",
   "metadata": {},
   "source": [
    "#### 1-1) DAYS_EMPLOYED변수 양수(일을 한 적 없음)는 0으로 변경"
   ]
  },
  {
   "cell_type": "code",
   "execution_count": 49,
   "metadata": {},
   "outputs": [],
   "source": [
    "train.loc[train['DAYS_EMPLOYED'] > 0, 'DAYS_EMPLOYED'] = 0\n",
    "test.loc[test['DAYS_EMPLOYED'] > 0, 'DAYS_EMPLOYED'] = 0"
   ]
  },
  {
   "cell_type": "markdown",
   "metadata": {},
   "source": [
    "#### 1-2) DAYS_EMPLOYE변수 음수를 양수로 변경해 일단위 변수로 변경"
   ]
  },
  {
   "cell_type": "code",
   "execution_count": 50,
   "metadata": {},
   "outputs": [],
   "source": [
    "train['DAYS_EMPLOYED']=-train['DAYS_EMPLOYED']\n",
    "test['DAYS_EMPLOYED']=-test['DAYS_EMPLOYED']"
   ]
  },
  {
   "cell_type": "markdown",
   "metadata": {},
   "source": [
    "#### 1-3) DAYS_EMPLOYED변수 년으로 단위 변경한 변수 생성"
   ]
  },
  {
   "cell_type": "code",
   "execution_count": 51,
   "metadata": {},
   "outputs": [],
   "source": [
    "train['Year_EMPLOYED']=(train['DAYS_EMPLOYED']/365)\n",
    "test['Year_EMPLOYED']=(test['DAYS_EMPLOYED']/365)"
   ]
  },
  {
   "cell_type": "markdown",
   "metadata": {},
   "source": [
    "#### 1-4) DAYS_EMPLOYED변수 월로 단위 변경한 변수 생성"
   ]
  },
  {
   "cell_type": "code",
   "execution_count": 52,
   "metadata": {},
   "outputs": [],
   "source": [
    "train['Month_EMPLOYED']=(train['DAYS_EMPLOYED']/30)\n",
    "test['Month_EMPLOYED']=(test['DAYS_EMPLOYED']/30)"
   ]
  },
  {
   "cell_type": "markdown",
   "metadata": {},
   "source": [
    "### 2)  DAYS_BIRTH 변수"
   ]
  },
  {
   "cell_type": "markdown",
   "metadata": {},
   "source": [
    "#### - 데이터 수집 당시 (0)부터 역으로 수집됨\n",
    "#### - 즉, -1은 데이터 수집일 하루 전에 태어났음을 의미함"
   ]
  },
  {
   "cell_type": "markdown",
   "metadata": {},
   "source": [
    "#### 2-1) DAYS_BIRTH변수 음수를 양수로 변경"
   ]
  },
  {
   "cell_type": "code",
   "execution_count": 53,
   "metadata": {},
   "outputs": [],
   "source": [
    "train['DAYS_BIRTH']=-train['DAYS_BIRTH']\n",
    "test['DAYS_BIRTH']=-test['DAYS_BIRTH']"
   ]
  },
  {
   "cell_type": "markdown",
   "metadata": {},
   "source": [
    "#### 2-2) DAYS_BIRTH변수 이용해서 나이 변수 생성"
   ]
  },
  {
   "cell_type": "code",
   "execution_count": 54,
   "metadata": {},
   "outputs": [],
   "source": [
    "train['age'] = (train['DAYS_BIRTH']/365)\n",
    "train = train.astype({'age': 'int'})\n",
    "test['age'] = (test['DAYS_BIRTH']/365)\n",
    "test = test.astype({'age': 'int'})"
   ]
  },
  {
   "cell_type": "markdown",
   "metadata": {},
   "source": [
    "### 3) begin_month변수"
   ]
  },
  {
   "cell_type": "markdown",
   "metadata": {},
   "source": [
    "#### - 데이터 수집 당시 (0)부터 역으로 수집됨\n",
    "#### - 즉, -1은 데이터 수집일 한 달 전에 신용카드를 발급함을 의미함"
   ]
  },
  {
   "cell_type": "markdown",
   "metadata": {},
   "source": [
    "#### 3-1) begin_month변수 음수를 양수로 변경"
   ]
  },
  {
   "cell_type": "code",
   "execution_count": 55,
   "metadata": {},
   "outputs": [],
   "source": [
    "train['begin_month']=-train['begin_month']\n",
    "test['begin_month']=-test['begin_month']"
   ]
  },
  {
   "cell_type": "markdown",
   "metadata": {},
   "source": [
    "### 4) FLAG_MOBIL변수"
   ]
  },
  {
   "cell_type": "markdown",
   "metadata": {},
   "source": [
    "#### 4-1) FLAG_MOBIL변수 모든 행 값이 1이므로 불필요한 변수로 판단 변수 제거"
   ]
  },
  {
   "cell_type": "code",
   "execution_count": 56,
   "metadata": {},
   "outputs": [],
   "source": [
    "train = train.drop(\"FLAG_MOBIL\", axis = 1)\n",
    "test =  test.drop(\"FLAG_MOBIL\", axis = 1)"
   ]
  },
  {
   "cell_type": "markdown",
   "metadata": {},
   "source": [
    "### 5) family_size변수보다 child_num변수가 더 큰 오류 행 삭제"
   ]
  },
  {
   "cell_type": "code",
   "execution_count": 57,
   "metadata": {},
   "outputs": [],
   "source": [
    "error = train[train['family_size'] < train['child_num']]"
   ]
  },
  {
   "cell_type": "code",
   "execution_count": 58,
   "metadata": {},
   "outputs": [
    {
     "data": {
      "text/html": [
       "<div>\n",
       "<style scoped>\n",
       "    .dataframe tbody tr th:only-of-type {\n",
       "        vertical-align: middle;\n",
       "    }\n",
       "\n",
       "    .dataframe tbody tr th {\n",
       "        vertical-align: top;\n",
       "    }\n",
       "\n",
       "    .dataframe thead th {\n",
       "        text-align: right;\n",
       "    }\n",
       "</style>\n",
       "<table border=\"1\" class=\"dataframe\">\n",
       "  <thead>\n",
       "    <tr style=\"text-align: right;\">\n",
       "      <th></th>\n",
       "      <th>index</th>\n",
       "      <th>gender</th>\n",
       "      <th>car</th>\n",
       "      <th>reality</th>\n",
       "      <th>child_num</th>\n",
       "      <th>income_total</th>\n",
       "      <th>income_type</th>\n",
       "      <th>edu_type</th>\n",
       "      <th>family_type</th>\n",
       "      <th>house_type</th>\n",
       "      <th>...</th>\n",
       "      <th>work_phone</th>\n",
       "      <th>phone</th>\n",
       "      <th>email</th>\n",
       "      <th>occyp_type</th>\n",
       "      <th>family_size</th>\n",
       "      <th>begin_month</th>\n",
       "      <th>credit</th>\n",
       "      <th>Year_EMPLOYED</th>\n",
       "      <th>Month_EMPLOYED</th>\n",
       "      <th>age</th>\n",
       "    </tr>\n",
       "  </thead>\n",
       "  <tbody>\n",
       "    <tr>\n",
       "      <th>14900</th>\n",
       "      <td>14900</td>\n",
       "      <td>1</td>\n",
       "      <td>1</td>\n",
       "      <td>0</td>\n",
       "      <td>2</td>\n",
       "      <td>225000.0</td>\n",
       "      <td>4</td>\n",
       "      <td>4</td>\n",
       "      <td>1</td>\n",
       "      <td>1</td>\n",
       "      <td>...</td>\n",
       "      <td>0</td>\n",
       "      <td>0</td>\n",
       "      <td>0</td>\n",
       "      <td>Drivers</td>\n",
       "      <td>1.0</td>\n",
       "      <td>30.0</td>\n",
       "      <td>2.0</td>\n",
       "      <td>6.060274</td>\n",
       "      <td>73.733333</td>\n",
       "      <td>40</td>\n",
       "    </tr>\n",
       "  </tbody>\n",
       "</table>\n",
       "<p>1 rows × 22 columns</p>\n",
       "</div>"
      ],
      "text/plain": [
       "       index  gender  car  reality  child_num  income_total  income_type  \\\n",
       "14900  14900       1    1        0          2      225000.0            4   \n",
       "\n",
       "       edu_type  family_type  house_type  ...  work_phone  phone  email  \\\n",
       "14900         4            1           1  ...           0      0      0   \n",
       "\n",
       "       occyp_type  family_size begin_month  credit  Year_EMPLOYED  \\\n",
       "14900     Drivers          1.0        30.0     2.0       6.060274   \n",
       "\n",
       "       Month_EMPLOYED  age  \n",
       "14900       73.733333   40  \n",
       "\n",
       "[1 rows x 22 columns]"
      ]
     },
     "execution_count": 58,
     "metadata": {},
     "output_type": "execute_result"
    }
   ],
   "source": [
    "error"
   ]
  },
  {
   "cell_type": "code",
   "execution_count": 59,
   "metadata": {},
   "outputs": [],
   "source": [
    "train = train.drop([14900])"
   ]
  },
  {
   "cell_type": "markdown",
   "metadata": {},
   "source": [
    "### 6) occpy_type변수결측치가 8171개 존재하므로 변수 삭제"
   ]
  },
  {
   "cell_type": "code",
   "execution_count": 60,
   "metadata": {},
   "outputs": [],
   "source": [
    "train = train.drop(\"occyp_type\", axis = 1)\n",
    "test =  test.drop(\"occyp_type\", axis = 1)"
   ]
  },
  {
   "cell_type": "markdown",
   "metadata": {},
   "source": [
    "### 7) index변수삭제"
   ]
  },
  {
   "cell_type": "code",
   "execution_count": 61,
   "metadata": {},
   "outputs": [],
   "source": [
    "train = train.drop(\"index\", axis = 1)\n",
    "test =  test.drop(\"index\", axis = 1)"
   ]
  },
  {
   "cell_type": "markdown",
   "metadata": {},
   "source": [
    "## "
   ]
  },
  {
   "cell_type": "markdown",
   "metadata": {},
   "source": [
    "## 6. 전처리한 데이터로 모델 학습"
   ]
  },
  {
   "cell_type": "code",
   "execution_count": 62,
   "metadata": {},
   "outputs": [],
   "source": [
    "# train의 타겟변수 데이터셋을 만들어주기 위해 타겟변수 행 삭제\n",
    "\n",
    "train_x = train.drop(\"credit\", axis = 1)"
   ]
  },
  {
   "cell_type": "code",
   "execution_count": 63,
   "metadata": {},
   "outputs": [],
   "source": [
    "# train의 타겟변수 데이터셋\n",
    "\n",
    "train_y = train['credit']"
   ]
  },
  {
   "cell_type": "code",
   "execution_count": 64,
   "metadata": {},
   "outputs": [],
   "source": [
    "test_x = test"
   ]
  },
  {
   "cell_type": "markdown",
   "metadata": {},
   "source": [
    "#### Decision Tree (결정 트리) "
   ]
  },
  {
   "cell_type": "code",
   "execution_count": 73,
   "metadata": {
    "scrolled": true
   },
   "outputs": [
    {
     "data": {
      "text/plain": [
       "DecisionTreeClassifier(random_state=1)"
      ]
     },
     "execution_count": 73,
     "metadata": {},
     "output_type": "execute_result"
    }
   ],
   "source": [
    "dt_clf = DecisionTreeClassifier(random_state=1)\n",
    "dt_clf.fit(train_x, train_y)"
   ]
  },
  {
   "cell_type": "code",
   "execution_count": 74,
   "metadata": {},
   "outputs": [],
   "source": [
    "dt_pred = dt_clf.predict(test_x)"
   ]
  },
  {
   "cell_type": "markdown",
   "metadata": {},
   "source": [
    "#### - GridSearchCV를 이용해 최적의 파라미터 찾아주기"
   ]
  },
  {
   "cell_type": "code",
   "execution_count": 75,
   "metadata": {
    "scrolled": true
   },
   "outputs": [
    {
     "name": "stdout",
     "output_type": "stream",
     "text": [
      "{'max_depth': 2, 'max_leaf_nodes': 2, 'min_samples_leaf': 2, 'min_samples_split': 8}\n",
      "0.6909207741155126\n"
     ]
    }
   ],
   "source": [
    "params = {\n",
    "    'max_depth':[2,4,6,8,10,12,14,16],\n",
    "    'min_samples_leaf':[2,4,6,8,10,12],\n",
    "    'min_samples_split':[8,12,16,20,24,28,30,32],\n",
    "    'max_leaf_nodes':[1,2,3,4]\n",
    "}\n",
    "grid_cv = GridSearchCV(dt_clf, param_grid=params, scoring='accuracy', cv=2, n_jobs=1)\n",
    "grid_cv.fit(train_x, train_y)\n",
    "\n",
    "print(grid_cv.best_params_)\n",
    "print(grid_cv.best_score_)"
   ]
  },
  {
   "cell_type": "code",
   "execution_count": null,
   "metadata": {},
   "outputs": [],
   "source": []
  }
 ],
 "metadata": {
  "kernelspec": {
   "display_name": "Python 3",
   "language": "python",
   "name": "python3"
  },
  "language_info": {
   "codemirror_mode": {
    "name": "ipython",
    "version": 3
   },
   "file_extension": ".py",
   "mimetype": "text/x-python",
   "name": "python",
   "nbconvert_exporter": "python",
   "pygments_lexer": "ipython3",
   "version": "3.7.9"
  }
 },
 "nbformat": 4,
 "nbformat_minor": 4
}
